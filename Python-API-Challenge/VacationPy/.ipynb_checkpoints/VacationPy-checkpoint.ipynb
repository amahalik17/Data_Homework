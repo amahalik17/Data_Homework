{
 "cells": [
  {
   "cell_type": "markdown",
   "metadata": {},
   "source": [
    "# VacationPy\n",
    "----\n",
    "\n",
    "#### Note\n",
    "* Keep an eye on your API usage. Use https://developers.google.com/maps/reporting/gmp-reporting as reference for how to monitor your usage and billing.\n",
    "\n",
    "* Instructions have been included for each segment. You do not have to follow them exactly, but they are included to help you think through the steps."
   ]
  },
  {
   "cell_type": "code",
   "execution_count": 1,
   "metadata": {},
   "outputs": [],
   "source": [
    "# Dependencies and Setup\n",
    "import matplotlib.pyplot as plt\n",
    "import pandas as pd\n",
    "import numpy as np\n",
    "from pprint import pprint\n",
    "import requests\n",
    "import gmaps\n",
    "import os\n",
    "\n",
    "# Import API key\n",
    "from api_keys import g_key"
   ]
  },
  {
   "cell_type": "markdown",
   "metadata": {},
   "source": [
    "### Store Part I results into DataFrame\n",
    "* Load the csv exported in Part I to a DataFrame"
   ]
  },
  {
   "cell_type": "code",
   "execution_count": 2,
   "metadata": {},
   "outputs": [
    {
     "data": {
      "text/html": [
       "<div>\n",
       "<style scoped>\n",
       "    .dataframe tbody tr th:only-of-type {\n",
       "        vertical-align: middle;\n",
       "    }\n",
       "\n",
       "    .dataframe tbody tr th {\n",
       "        vertical-align: top;\n",
       "    }\n",
       "\n",
       "    .dataframe thead th {\n",
       "        text-align: right;\n",
       "    }\n",
       "</style>\n",
       "<table border=\"1\" class=\"dataframe\">\n",
       "  <thead>\n",
       "    <tr style=\"text-align: right;\">\n",
       "      <th></th>\n",
       "      <th>City</th>\n",
       "      <th>Lat</th>\n",
       "      <th>Lng</th>\n",
       "      <th>Max Temp</th>\n",
       "      <th>Humidity</th>\n",
       "      <th>Cloudiness</th>\n",
       "      <th>Wind Speed</th>\n",
       "      <th>Country</th>\n",
       "      <th>Date</th>\n",
       "    </tr>\n",
       "  </thead>\n",
       "  <tbody>\n",
       "    <tr>\n",
       "      <th>0</th>\n",
       "      <td>kaputa</td>\n",
       "      <td>-8.47</td>\n",
       "      <td>29.66</td>\n",
       "      <td>80.44</td>\n",
       "      <td>40</td>\n",
       "      <td>2</td>\n",
       "      <td>4.61</td>\n",
       "      <td>ZM</td>\n",
       "      <td>1603044085</td>\n",
       "    </tr>\n",
       "    <tr>\n",
       "      <th>1</th>\n",
       "      <td>busselton</td>\n",
       "      <td>-33.65</td>\n",
       "      <td>115.33</td>\n",
       "      <td>60.01</td>\n",
       "      <td>51</td>\n",
       "      <td>1</td>\n",
       "      <td>8.72</td>\n",
       "      <td>AU</td>\n",
       "      <td>1603044085</td>\n",
       "    </tr>\n",
       "    <tr>\n",
       "      <th>2</th>\n",
       "      <td>sal rei</td>\n",
       "      <td>16.18</td>\n",
       "      <td>-22.92</td>\n",
       "      <td>87.80</td>\n",
       "      <td>70</td>\n",
       "      <td>8</td>\n",
       "      <td>6.93</td>\n",
       "      <td>CV</td>\n",
       "      <td>1603044086</td>\n",
       "    </tr>\n",
       "    <tr>\n",
       "      <th>3</th>\n",
       "      <td>zaranj</td>\n",
       "      <td>30.97</td>\n",
       "      <td>61.88</td>\n",
       "      <td>68.00</td>\n",
       "      <td>18</td>\n",
       "      <td>0</td>\n",
       "      <td>16.11</td>\n",
       "      <td>AF</td>\n",
       "      <td>1603044086</td>\n",
       "    </tr>\n",
       "    <tr>\n",
       "      <th>4</th>\n",
       "      <td>ostrovnoy</td>\n",
       "      <td>68.05</td>\n",
       "      <td>39.51</td>\n",
       "      <td>34.38</td>\n",
       "      <td>87</td>\n",
       "      <td>55</td>\n",
       "      <td>13.22</td>\n",
       "      <td>RU</td>\n",
       "      <td>1603044086</td>\n",
       "    </tr>\n",
       "  </tbody>\n",
       "</table>\n",
       "</div>"
      ],
      "text/plain": [
       "        City    Lat     Lng  Max Temp  Humidity  Cloudiness  Wind Speed  \\\n",
       "0     kaputa  -8.47   29.66     80.44        40           2        4.61   \n",
       "1  busselton -33.65  115.33     60.01        51           1        8.72   \n",
       "2    sal rei  16.18  -22.92     87.80        70           8        6.93   \n",
       "3     zaranj  30.97   61.88     68.00        18           0       16.11   \n",
       "4  ostrovnoy  68.05   39.51     34.38        87          55       13.22   \n",
       "\n",
       "  Country        Date  \n",
       "0      ZM  1603044085  \n",
       "1      AU  1603044085  \n",
       "2      CV  1603044086  \n",
       "3      AF  1603044086  \n",
       "4      RU  1603044086  "
      ]
     },
     "execution_count": 2,
     "metadata": {},
     "output_type": "execute_result"
    }
   ],
   "source": [
    "# Load the csv file from part 1\n",
    "# Not sure if I should be using the cleaned one or the previous one, \n",
    "#but Im guessing the cleaned one\n",
    "file = \"../Output_Data/Clean_City_Data\"\n",
    "clean_df = pd.read_csv(file)\n",
    "# clean_df has a 'unnamed' column, so remove it so it looks better\n",
    "#clean_df.head()\n",
    "weather_df = clean_df.drop(columns=[\"Unnamed: 0\"])\n",
    "weather_df.head()"
   ]
  },
  {
   "cell_type": "markdown",
   "metadata": {},
   "source": [
    "### Humidity Heatmap\n",
    "* Configure gmaps.\n",
    "* Use the Lat and Lng as locations and Humidity as the weight.\n",
    "* Add Heatmap layer to map."
   ]
  },
  {
   "cell_type": "code",
   "execution_count": 3,
   "metadata": {},
   "outputs": [],
   "source": [
    "# Configure gmaps\n",
    "gmaps.configure(api_key = g_key)\n",
    "\n",
    "# Initiate variables\n",
    "locations = weather_df[['Lat', 'Lng']].astype(float)\n",
    "humidity = weather_df['Humidity']\n",
    "\n"
   ]
  },
  {
   "cell_type": "code",
   "execution_count": 4,
   "metadata": {},
   "outputs": [
    {
     "data": {
      "application/vnd.jupyter.widget-view+json": {
       "model_id": "3d01b7c21ae1467dabb1ca4298d3d2ad",
       "version_major": 2,
       "version_minor": 0
      },
      "text/plain": [
       "Figure(layout=FigureLayout(height='420px'))"
      ]
     },
     "metadata": {},
     "output_type": "display_data"
    }
   ],
   "source": [
    "fig = gmaps.figure()\n",
    "\n",
    "heat_layer = gmaps.heatmap_layer(locations, \n",
    "                                 weights=humidity, \n",
    "                                 dissipating=False, \n",
    "                                 max_intensity=100, \n",
    "                                 point_radius=1)\n",
    "fig.add_layer(heat_layer)\n",
    "\n",
    "fig"
   ]
  },
  {
   "cell_type": "markdown",
   "metadata": {},
   "source": [
    "### Create new DataFrame fitting weather criteria\n",
    "* Narrow down the cities to fit weather conditions.\n",
    "* Drop any rows will null values."
   ]
  },
  {
   "cell_type": "code",
   "execution_count": 5,
   "metadata": {},
   "outputs": [
    {
     "data": {
      "text/html": [
       "<div>\n",
       "<style scoped>\n",
       "    .dataframe tbody tr th:only-of-type {\n",
       "        vertical-align: middle;\n",
       "    }\n",
       "\n",
       "    .dataframe tbody tr th {\n",
       "        vertical-align: top;\n",
       "    }\n",
       "\n",
       "    .dataframe thead th {\n",
       "        text-align: right;\n",
       "    }\n",
       "</style>\n",
       "<table border=\"1\" class=\"dataframe\">\n",
       "  <thead>\n",
       "    <tr style=\"text-align: right;\">\n",
       "      <th></th>\n",
       "      <th>City</th>\n",
       "      <th>Lat</th>\n",
       "      <th>Lng</th>\n",
       "      <th>Max Temp</th>\n",
       "      <th>Humidity</th>\n",
       "      <th>Cloudiness</th>\n",
       "      <th>Wind Speed</th>\n",
       "      <th>Country</th>\n",
       "      <th>Date</th>\n",
       "    </tr>\n",
       "  </thead>\n",
       "  <tbody>\n",
       "    <tr>\n",
       "      <th>0</th>\n",
       "      <td>kaputa</td>\n",
       "      <td>-8.47</td>\n",
       "      <td>29.66</td>\n",
       "      <td>80.44</td>\n",
       "      <td>40</td>\n",
       "      <td>2</td>\n",
       "      <td>4.61</td>\n",
       "      <td>ZM</td>\n",
       "      <td>1603044085</td>\n",
       "    </tr>\n",
       "    <tr>\n",
       "      <th>23</th>\n",
       "      <td>jalalabad</td>\n",
       "      <td>34.43</td>\n",
       "      <td>70.45</td>\n",
       "      <td>74.82</td>\n",
       "      <td>19</td>\n",
       "      <td>0</td>\n",
       "      <td>3.71</td>\n",
       "      <td>AF</td>\n",
       "      <td>1603044090</td>\n",
       "    </tr>\n",
       "    <tr>\n",
       "      <th>31</th>\n",
       "      <td>fallon</td>\n",
       "      <td>39.47</td>\n",
       "      <td>-118.78</td>\n",
       "      <td>72.00</td>\n",
       "      <td>25</td>\n",
       "      <td>1</td>\n",
       "      <td>4.59</td>\n",
       "      <td>US</td>\n",
       "      <td>1603044028</td>\n",
       "    </tr>\n",
       "    <tr>\n",
       "      <th>137</th>\n",
       "      <td>qandala</td>\n",
       "      <td>11.47</td>\n",
       "      <td>49.87</td>\n",
       "      <td>83.28</td>\n",
       "      <td>41</td>\n",
       "      <td>0</td>\n",
       "      <td>5.35</td>\n",
       "      <td>SO</td>\n",
       "      <td>1603044115</td>\n",
       "    </tr>\n",
       "    <tr>\n",
       "      <th>141</th>\n",
       "      <td>chuy</td>\n",
       "      <td>-33.70</td>\n",
       "      <td>-53.46</td>\n",
       "      <td>77.67</td>\n",
       "      <td>47</td>\n",
       "      <td>0</td>\n",
       "      <td>7.16</td>\n",
       "      <td>UY</td>\n",
       "      <td>1603044115</td>\n",
       "    </tr>\n",
       "    <tr>\n",
       "      <th>179</th>\n",
       "      <td>funtua</td>\n",
       "      <td>11.52</td>\n",
       "      <td>7.31</td>\n",
       "      <td>79.25</td>\n",
       "      <td>40</td>\n",
       "      <td>8</td>\n",
       "      <td>4.83</td>\n",
       "      <td>NG</td>\n",
       "      <td>1603044123</td>\n",
       "    </tr>\n",
       "    <tr>\n",
       "      <th>217</th>\n",
       "      <td>laguna</td>\n",
       "      <td>38.42</td>\n",
       "      <td>-121.42</td>\n",
       "      <td>78.01</td>\n",
       "      <td>33</td>\n",
       "      <td>1</td>\n",
       "      <td>3.36</td>\n",
       "      <td>US</td>\n",
       "      <td>1603044132</td>\n",
       "    </tr>\n",
       "  </tbody>\n",
       "</table>\n",
       "</div>"
      ],
      "text/plain": [
       "          City    Lat     Lng  Max Temp  Humidity  Cloudiness  Wind Speed  \\\n",
       "0       kaputa  -8.47   29.66     80.44        40           2        4.61   \n",
       "23   jalalabad  34.43   70.45     74.82        19           0        3.71   \n",
       "31      fallon  39.47 -118.78     72.00        25           1        4.59   \n",
       "137    qandala  11.47   49.87     83.28        41           0        5.35   \n",
       "141       chuy -33.70  -53.46     77.67        47           0        7.16   \n",
       "179     funtua  11.52    7.31     79.25        40           8        4.83   \n",
       "217     laguna  38.42 -121.42     78.01        33           1        3.36   \n",
       "\n",
       "    Country        Date  \n",
       "0        ZM  1603044085  \n",
       "23       AF  1603044090  \n",
       "31       US  1603044028  \n",
       "137      SO  1603044115  \n",
       "141      UY  1603044115  \n",
       "179      NG  1603044123  \n",
       "217      US  1603044132  "
      ]
     },
     "execution_count": 5,
     "metadata": {},
     "output_type": "execute_result"
    }
   ],
   "source": [
    "# Narrow down the DataFrame to find your ideal weather condition.\n",
    "# Drop any rows that don't contain all three conditions. You want to be sure the weather is ideal.\n",
    "\n",
    "# Set specifications\n",
    "ideal_temp = (weather_df['Max Temp']>70) & (weather_df['Max Temp']<86)\n",
    "ideal_wind = weather_df['Wind Speed']<10\n",
    "ideal_humid = weather_df['Humidity']<50\n",
    "\n",
    "# Collect all ideal specs\n",
    "ideal_vaca = ideal_temp & ideal_wind & ideal_humid\n",
    "\n",
    "# Create new df using collected specs\n",
    "ideal_vaca_df = weather_df[ideal_vaca]\n",
    "ideal_vaca_df = ideal_vaca_df.dropna()\n",
    "\n",
    "# Limit the number of rows returned by your API requests to a reasonable number.\n",
    "# I think this is what that means... by making sure only 7 rows are returned..\n",
    "ideal_vaca_df.head(7)"
   ]
  },
  {
   "cell_type": "markdown",
   "metadata": {},
   "source": [
    "### Hotel Map\n",
    "* Store into variable named `hotel_df`.\n",
    "* Add a \"Hotel Name\" column to the DataFrame.\n",
    "* Set parameters to search for hotels with 5000 meters.\n",
    "* Hit the Google Places API for each city's coordinates.\n",
    "* Store the first Hotel result into the DataFrame.\n",
    "* Plot markers on top of the heatmap."
   ]
  },
  {
   "cell_type": "code",
   "execution_count": 6,
   "metadata": {},
   "outputs": [],
   "source": [
    "# Store into variable named hotel_df\n",
    "# I think that means just change the name of the df..\n",
    "hotel_df = ideal_vaca_df\n",
    "\n",
    "# Add a \"Hotel Name\" column to the df\n",
    "# Use empty quotes for initial value, since we don't have that data yet\n",
    "hotel_df['Hotel Name'] = \"\"\n",
    "\n",
    "# hotel_df.head()"
   ]
  },
  {
   "cell_type": "code",
   "execution_count": 7,
   "metadata": {},
   "outputs": [
    {
     "name": "stdout",
     "output_type": "stream",
     "text": [
      "Missing data\n",
      "Missing data\n",
      "Missing data\n",
      "Missing data\n",
      "Missing data\n",
      "Missing data\n",
      "Missing data\n",
      "Missing data\n",
      "Missing data\n",
      "Missing data\n",
      "Missing data\n",
      "Missing data\n",
      "Missing data\n",
      "Missing data\n",
      "Missing data\n",
      "Missing data\n",
      "Missing data\n",
      "Missing data\n",
      "Missing data\n",
      "Missing data\n",
      "Missing data\n",
      "Missing data\n",
      "Missing data\n"
     ]
    }
   ],
   "source": [
    "# Hit the Google Places API for each city's coordinates\n",
    "# Set parameters dictionary to search for hotels with 5000 meters\n",
    "params = {\n",
    "    \"radius\": 5000, \n",
    "    \"types\": \"hotels\", \n",
    "    \"keyword\": \"hotel\", \n",
    "    \"key\": g_key}\n",
    "\n",
    "# Start a for loop using iterrows \n",
    "for index, row in hotel_df.iterrows():\n",
    "    \n",
    "    # First, get the lat and long coords from our df\n",
    "    lat = row['Lat']\n",
    "    lng = row['Lng']\n",
    "    \n",
    "    # Add a location parameter using lat and long that we just iterrated through\n",
    "    params['Location'] = f\"{lat},{lng}\"\n",
    "    \n",
    "    base_url = \"https://maps.googleapis.com/maps/api/place/nearbysearch/json\"\n",
    "    \n",
    "    response = requests.get(base_url, params=params).json()\n",
    "    #print(json.dumps(response, indent=4, sort_keys=True))\n",
    "    \n",
    "    # Store the first Hotel result into the DataFrame\n",
    "    try:\n",
    "        hotel_df.loc[index, \"Hotel Name\"] = response[\"results\"][0][\"name\"]\n",
    "        \n",
    "    except:\n",
    "        print(\"Missing data\")\n",
    "# Store the first Hotel result into the DataFrame"
   ]
  },
  {
   "cell_type": "code",
   "execution_count": 13,
   "metadata": {},
   "outputs": [],
   "source": [
    "#hotel_df.head()"
   ]
  },
  {
   "cell_type": "code",
   "execution_count": 9,
   "metadata": {},
   "outputs": [],
   "source": [
    "# NOTE: Do not change any of the code in this cell\n",
    "\n",
    "# Using the template add the hotel marks to the heatmap\n",
    "info_box_template = \"\"\"\n",
    "<dl>\n",
    "<dt>Name</dt><dd>{Hotel Name}</dd>\n",
    "<dt>City</dt><dd>{City}</dd>\n",
    "<dt>Country</dt><dd>{Country}</dd>\n",
    "</dl>\n",
    "\"\"\"\n",
    "# Store the DataFrame Row\n",
    "# NOTE: be sure to update with your DataFrame name\n",
    "hotel_info = [info_box_template.format(**row) for index, row in hotel_df.iterrows()]\n",
    "locations = hotel_df[[\"Lat\", \"Lng\"]]"
   ]
  },
  {
   "cell_type": "code",
   "execution_count": 10,
   "metadata": {},
   "outputs": [
    {
     "data": {
      "application/vnd.jupyter.widget-view+json": {
       "model_id": "3d01b7c21ae1467dabb1ca4298d3d2ad",
       "version_major": 2,
       "version_minor": 0
      },
      "text/plain": [
       "Figure(layout=FigureLayout(height='420px'))"
      ]
     },
     "metadata": {},
     "output_type": "display_data"
    },
    {
     "data": {
      "text/plain": [
       "<Figure size 432x288 with 0 Axes>"
      ]
     },
     "metadata": {},
     "output_type": "display_data"
    }
   ],
   "source": [
    "# Add marker layer ontop of heat map\n",
    "hotel_markers = gmaps.marker_layer(locations)\n",
    "fig.add_layer(hotel_markers)\n",
    "plt.savefig(\"../Images/hotel_heatmap.png\")\n",
    "fig\n",
    "\n",
    "# Display figure\n"
   ]
  },
  {
   "cell_type": "code",
   "execution_count": null,
   "metadata": {},
   "outputs": [],
   "source": []
  }
 ],
 "metadata": {
  "kernelspec": {
   "display_name": "Python [conda env:PythonData] *",
   "language": "python",
   "name": "conda-env-PythonData-py"
  },
  "language_info": {
   "codemirror_mode": {
    "name": "ipython",
    "version": 3
   },
   "file_extension": ".py",
   "mimetype": "text/x-python",
   "name": "python",
   "nbconvert_exporter": "python",
   "pygments_lexer": "ipython3",
   "version": "3.8.5"
  },
  "latex_envs": {
   "LaTeX_envs_menu_present": true,
   "autoclose": false,
   "autocomplete": true,
   "bibliofile": "biblio.bib",
   "cite_by": "apalike",
   "current_citInitial": 1,
   "eqLabelWithNumbers": true,
   "eqNumInitial": 1,
   "hotkeys": {
    "equation": "Ctrl-E",
    "itemize": "Ctrl-I"
   },
   "labels_anchors": false,
   "latex_user_defs": false,
   "report_style_numbering": false,
   "user_envs_cfg": false
  }
 },
 "nbformat": 4,
 "nbformat_minor": 4
}
