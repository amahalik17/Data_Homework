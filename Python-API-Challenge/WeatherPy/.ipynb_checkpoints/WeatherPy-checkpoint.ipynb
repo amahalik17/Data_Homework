{
 "cells": [
  {
   "cell_type": "markdown",
   "metadata": {},
   "source": [
    "# WeatherPy\n",
    "----\n",
    "\n",
    "#### Analysis and Observations\n",
    "* In this project, I generate a random list of more than 500 cities across the world of varying distance from the equator. The purpose of this study is to determine if there is a correlation betwen cloudiness and latitude, humidity and latitude, wind speed and latitude, and temperature and latitude. I do this by first creating scater plots that display any relationships between the four focuses of study. Then I run linear regression on each relationship, only this time separating them into Northern Hemisphere (greater than or equal to 0 degrees latitude) and Southern Hemisphere (less than 0 degrees latitude).\n",
    "### ----------------------------------------------------\n",
    "* I removed any outliers before analysing this data. \n",
    "### ----------------------------------------------------\n",
    "##### Observations:\n",
    "* In the scatter plot displaying Temperature (F) vs. Latitude in the Northern Hemisphere, I can conclude that there is a very strong negative correlation between the them, with an r-value of -0.8920191044767838 and the plot shows clearly that the lower the latitude(lowest value being 0), the higher the max temperature is. The higher the latitude, the lower the max temperature.\n",
    "\n",
    "* In the scatter plot displaying Temperature (F) vs. Latitude in the Southern Hemisphere, I can conclude that there is a strong positive correlation between them, with an r-value of 0.6989160930222993 and the correlation is not as strong as the northern hemisphere plot, but still strong. It is clear that the higher the latitude, the higher the max temperature is. \n",
    "\n",
    "* The farther north you go, in the northern hemisphere(away from the equator), the lower the temperature.\n",
    "* The farther north you go, in the southern hemisphere(towards the equator), the higher the temperature.\n",
    "### ----------------------------------------------------\n",
    "##### Observations:\n",
    "* In the scatter plot displaying Humidity (%) vs. Latitude in the Northern Hemisphere, I can conclude that there is a weak negative correlation between them. The r-value is 0.2961175150022407 and the data points are more spread out.\n",
    "\n",
    "* In the scatter plot displaying Humidity (%) vs. Latitude in the Southern Hemisphere, I can conclude that there is basicly no correlation between them, with an r-value of -0.03383454646623781  and the data is spread out.\n",
    "\n",
    "* In both hemispheres, there are weak negative correlations between the humidty (%) and latitude.\n",
    "### -----------------------------------------------------\n",
    "##### Observations:\n",
    "* In the scatter plot displaying Cloudiness (%) vs. Latitude in the Northern Hemisphere, I can conclude that there is a very weak positive correlation between them. The r-value is 0.18433554085606593 and the data points are spread out .\n",
    "\n",
    "* In the scatter plot displaying Cloudiness (%) vs. Latitude in the Southern Hemisphere, I can conclude that there is basicly no correlation between them. If any correlation, it is negative, but very weak. The r-value is -0.059697901189299706 and the data is as spread out.\n",
    "\n",
    "* In both hemishperes, there is very week to no correlation between the cloudiness (%) and the latitude.\n",
    "### -----------------------------------------------------\n",
    "##### Observations:\n",
    "* In the scatter plot displaying Wind Speed (MPH) vs. Latitude in the Northern Hemisphere, I can conclude that there is a very weak positive correlation between them. The r-value is 0.1173625639053365 and the data is spread out.\n",
    "\n",
    "* In the scatter plot displaying Wind Speed (MPH) vs. Latitude in the Southern Hemisphere, I can conclude that there is weak negative correlation between them. The r-value is -0.18174098211530523 and you can see that the higher the latitude(max of 0), the lower the wind speed, but it is a very week negative sorrelation.\n",
    "\n",
    "* In both hemishperes there is weak correlations between the wind seed (mph) and the latitude.\n",
    "### -----------------------------------------------------"
   ]
  },
  {
   "cell_type": "code",
   "execution_count": 26,
   "metadata": {
    "scrolled": true
   },
   "outputs": [],
   "source": [
    "# Import dependencies\n",
    "import pandas as pd\n",
    "import numpy as np\n",
    "import matplotlib.pyplot as plt\n",
    "import requests\n",
    "import time\n",
    "from citipy import citipy\n",
    "from api_keys import api_key\n",
    "from scipy.stats import linregress"
   ]
  },
  {
   "cell_type": "code",
   "execution_count": 27,
   "metadata": {},
   "outputs": [],
   "source": [
    "# Initiate variables and query address\n",
    "temp_type = \"imperial\"\n",
    "query_url = f\"http://api.openweathermap.org/data/2.5/weather?appid={api_key}&units={temp_type}&q=\"\n",
    "\n",
    "# Set the range for lat and lon\n",
    "lat_range = (-90, 90)\n",
    "lon_range = (-180, 180)"
   ]
  },
  {
   "cell_type": "markdown",
   "metadata": {},
   "source": [
    "## Generate Cities List"
   ]
  },
  {
   "cell_type": "code",
   "execution_count": 28,
   "metadata": {},
   "outputs": [
    {
     "data": {
      "text/plain": [
       "640"
      ]
     },
     "execution_count": 28,
     "metadata": {},
     "output_type": "execute_result"
    }
   ],
   "source": [
    "# Create empty lists to store our data\n",
    "lat_lon_list = []\n",
    "cities_list = []\n",
    "\n",
    "# Creat a set of random lats and lons\n",
    "# use random.random or random.unifrom, one auto rounds and one doesnt\n",
    "latitude = np.random.uniform(low = -90, high = 90, size = 1500)\n",
    "longitude = np.random.uniform(low = -180, high = 180, size = 1500)\n",
    "\n",
    "# Zip both sets to your empty list\n",
    "lat_lon_list = zip(latitude, longitude)\n",
    "\n",
    "# Create loop to add random coordinates and cities to their lists\n",
    "# Look up citipy documentation\n",
    "for x in lat_lon_list:\n",
    "    city = citipy.nearest_city(x[0], x[1]).city_name\n",
    "    \n",
    "    if city not in cities_list:\n",
    "        cities_list.append(city)\n",
    "        \n",
    "len(cities_list)"
   ]
  },
  {
   "cell_type": "markdown",
   "metadata": {},
   "source": [
    "### Perform API Calls\n",
    "* Perform a weather check on each city using a series of successive API calls.\n",
    "* Include a print log of each city as it'sbeing processed (with the city number and city name).\n"
   ]
  },
  {
   "cell_type": "code",
   "execution_count": 29,
   "metadata": {
    "scrolled": true
   },
   "outputs": [
    {
     "name": "stdout",
     "output_type": "stream",
     "text": [
      "Processing record number 1 in set number 1 | bluff\n",
      "Processing record number 2 in set number 1 | albany\n",
      "Processing record number 3 in set number 1 | astana\n",
      "Processing record number 4 in set number 1 | mataura\n",
      "Processing record number 5 in set number 1 | hasaki\n",
      "Processing record number 6 in set number 1 | lorengau\n",
      "Processing record number 7 in set number 1 | karpathos\n",
      "Processing record number 8 in set number 1 | port alfred\n",
      "Processing record number 9 in set number 1 | pocone\n",
      "Processing record number 10 in set number 1 | guerrero negro\n",
      "Processing record number 11 in set number 1 | mar del plata\n",
      "Processing record number 12 in set number 1 | busselton\n",
      "City not found. Skipping...\n",
      "Processing record number 13 in set number 1 | khatanga\n",
      "Processing record number 14 in set number 1 | galesong\n",
      "Processing record number 15 in set number 1 | victoria\n",
      "Processing record number 16 in set number 1 | mayo\n",
      "Processing record number 17 in set number 1 | kapaa\n",
      "Processing record number 18 in set number 1 | lebu\n",
      "Processing record number 19 in set number 1 | geraldton\n",
      "Processing record number 20 in set number 1 | carutapera\n",
      "Processing record number 21 in set number 1 | constitucion\n",
      "Processing record number 22 in set number 1 | luau\n",
      "City not found. Skipping...\n",
      "Processing record number 23 in set number 1 | moindou\n",
      "City not found. Skipping...\n",
      "Processing record number 24 in set number 1 | carnarvon\n",
      "Processing record number 25 in set number 1 | punta arenas\n",
      "Processing record number 26 in set number 1 | hermanus\n",
      "Processing record number 27 in set number 1 | torbay\n",
      "Processing record number 28 in set number 1 | saint john\n",
      "Processing record number 29 in set number 1 | klaksvik\n",
      "Processing record number 30 in set number 1 | kruisfontein\n",
      "Processing record number 31 in set number 1 | nikolskoye\n",
      "Processing record number 32 in set number 1 | fortuna\n",
      "Processing record number 33 in set number 1 | yellowknife\n",
      "Processing record number 34 in set number 1 | esperance\n",
      "Processing record number 35 in set number 1 | qasigiannguit\n",
      "Processing record number 36 in set number 1 | little current\n",
      "Processing record number 37 in set number 1 | vaini\n",
      "City not found. Skipping...\n",
      "Processing record number 38 in set number 1 | tiksi\n",
      "Processing record number 39 in set number 1 | college\n",
      "Processing record number 40 in set number 1 | sarti\n",
      "City not found. Skipping...\n",
      "Processing record number 41 in set number 1 | port-gentil\n",
      "Processing record number 42 in set number 1 | mahebourg\n",
      "Processing record number 43 in set number 1 | ancud\n",
      "Processing record number 44 in set number 1 | saint-francois\n",
      "Processing record number 45 in set number 1 | urumqi\n",
      "Processing record number 46 in set number 1 | hofn\n",
      "Processing record number 47 in set number 1 | clyde river\n",
      "Processing record number 48 in set number 1 | leningradskiy\n",
      "Processing record number 49 in set number 1 | gillette\n",
      "City not found. Skipping...\n",
      "Processing record number 1 in set number 2 | cape town\n",
      "Processing record number 2 in set number 2 | moranbah\n",
      "Processing record number 3 in set number 2 | bagdarin\n",
      "Processing record number 4 in set number 2 | castro\n",
      "Processing record number 5 in set number 2 | kumluca\n",
      "Processing record number 6 in set number 2 | bowen\n",
      "Processing record number 7 in set number 2 | caravelas\n",
      "Processing record number 8 in set number 2 | rikitea\n",
      "Processing record number 9 in set number 2 | hobart\n",
      "Processing record number 10 in set number 2 | ust-ilimsk\n",
      "Processing record number 11 in set number 2 | manaure\n",
      "Processing record number 12 in set number 2 | airai\n",
      "Processing record number 13 in set number 2 | chokurdakh\n",
      "Processing record number 14 in set number 2 | isangel\n",
      "Processing record number 15 in set number 2 | acarau\n",
      "Processing record number 16 in set number 2 | macaubas\n",
      "Processing record number 17 in set number 2 | ushuaia\n",
      "Processing record number 18 in set number 2 | yar-sale\n",
      "Processing record number 19 in set number 2 | bredasdorp\n",
      "Processing record number 20 in set number 2 | paraiso\n",
      "Processing record number 21 in set number 2 | bilma\n",
      "Processing record number 22 in set number 2 | binzhou\n",
      "Processing record number 23 in set number 2 | hami\n",
      "Processing record number 24 in set number 2 | rawson\n",
      "Processing record number 25 in set number 2 | coihaique\n",
      "City not found. Skipping...\n",
      "Processing record number 26 in set number 2 | faanui\n",
      "Processing record number 27 in set number 2 | henties bay\n",
      "Processing record number 28 in set number 2 | new norfolk\n",
      "Processing record number 29 in set number 2 | bambous virieux\n",
      "City not found. Skipping...\n",
      "Processing record number 30 in set number 2 | surt\n",
      "Processing record number 31 in set number 2 | khanpur\n",
      "Processing record number 32 in set number 2 | magadan\n",
      "Processing record number 33 in set number 2 | vardo\n",
      "Processing record number 34 in set number 2 | buala\n",
      "City not found. Skipping...\n",
      "Processing record number 35 in set number 2 | thinadhoo\n",
      "Processing record number 36 in set number 2 | los amates\n",
      "Processing record number 37 in set number 2 | ponta do sol\n",
      "Processing record number 38 in set number 2 | jamestown\n",
      "Processing record number 39 in set number 2 | pangody\n",
      "City not found. Skipping...\n",
      "City not found. Skipping...\n",
      "Processing record number 40 in set number 2 | roma\n",
      "Processing record number 41 in set number 2 | barrow\n",
      "Processing record number 42 in set number 2 | pevek\n",
      "Processing record number 43 in set number 2 | kosonsoy\n",
      "Processing record number 44 in set number 2 | gatesville\n",
      "Processing record number 45 in set number 2 | avarua\n",
      "Processing record number 46 in set number 2 | tuktoyaktuk\n",
      "City not found. Skipping...\n",
      "Processing record number 47 in set number 2 | salalah\n",
      "Processing record number 48 in set number 2 | manado\n",
      "Processing record number 49 in set number 2 | asprovalta\n",
      "Processing record number 1 in set number 3 | cherskiy\n",
      "Processing record number 2 in set number 3 | lavrentiya\n",
      "Processing record number 3 in set number 3 | batagay\n",
      "Processing record number 4 in set number 3 | thunder bay\n",
      "Processing record number 5 in set number 3 | fethiye\n",
      "Processing record number 6 in set number 3 | butaritari\n",
      "Processing record number 7 in set number 3 | tasiilaq\n",
      "Processing record number 8 in set number 3 | leesburg\n",
      "Processing record number 9 in set number 3 | puerto ayora\n",
      "Processing record number 10 in set number 3 | noumea\n",
      "Processing record number 11 in set number 3 | aitape\n",
      "Processing record number 12 in set number 3 | qaanaaq\n",
      "Processing record number 13 in set number 3 | kermanshah\n",
      "City not found. Skipping...\n",
      "Processing record number 14 in set number 3 | sao filipe\n",
      "Processing record number 15 in set number 3 | severo-kurilsk\n",
      "Processing record number 16 in set number 3 | ekibastuz\n",
      "Processing record number 17 in set number 3 | baculin\n",
      "City not found. Skipping...\n",
      "Processing record number 18 in set number 3 | davila\n",
      "Processing record number 19 in set number 3 | longyearbyen\n",
      "Processing record number 20 in set number 3 | upernavik\n",
      "Processing record number 21 in set number 3 | johnstown\n",
      "Processing record number 22 in set number 3 | aljezur\n",
      "Processing record number 23 in set number 3 | binga\n",
      "Processing record number 24 in set number 3 | kloulklubed\n",
      "Processing record number 25 in set number 3 | saint anthony\n",
      "Processing record number 26 in set number 3 | dingle\n",
      "Processing record number 27 in set number 3 | shimoda\n",
      "Processing record number 28 in set number 3 | rorvik\n",
      "Processing record number 29 in set number 3 | salinas\n",
      "Processing record number 30 in set number 3 | port blair\n",
      "Processing record number 31 in set number 3 | aksarka\n",
      "Processing record number 32 in set number 3 | kroya\n",
      "Processing record number 33 in set number 3 | chuy\n",
      "Processing record number 34 in set number 3 | touros\n",
      "Processing record number 35 in set number 3 | hare bay\n",
      "Processing record number 36 in set number 3 | hilo\n",
      "Processing record number 37 in set number 3 | yenagoa\n",
      "Processing record number 38 in set number 3 | muravlenko\n",
      "Processing record number 39 in set number 3 | inongo\n",
      "Processing record number 40 in set number 3 | bengkulu\n",
      "Processing record number 41 in set number 3 | east london\n",
      "Processing record number 42 in set number 3 | hamilton\n",
      "City not found. Skipping...\n",
      "Processing record number 43 in set number 3 | tigil\n",
      "City not found. Skipping...\n",
      "Processing record number 44 in set number 3 | sitka\n"
     ]
    },
    {
     "name": "stdout",
     "output_type": "stream",
     "text": [
      "Processing record number 45 in set number 3 | cabo san lucas\n",
      "Processing record number 46 in set number 3 | altay\n",
      "Processing record number 47 in set number 3 | ilulissat\n",
      "Processing record number 48 in set number 3 | moses lake\n",
      "Processing record number 49 in set number 3 | morondava\n",
      "Processing record number 1 in set number 4 | avallon\n",
      "City not found. Skipping...\n",
      "Processing record number 2 in set number 4 | ulaangom\n",
      "Processing record number 3 in set number 4 | hithadhoo\n",
      "Processing record number 4 in set number 4 | kodiak\n",
      "City not found. Skipping...\n",
      "Processing record number 5 in set number 4 | bethel\n",
      "Processing record number 6 in set number 4 | kinna\n",
      "Processing record number 7 in set number 4 | aden\n",
      "Processing record number 8 in set number 4 | praia\n",
      "Processing record number 9 in set number 4 | zaysan\n",
      "City not found. Skipping...\n",
      "Processing record number 10 in set number 4 | lazaro cardenas\n",
      "Processing record number 11 in set number 4 | hovd\n",
      "Processing record number 12 in set number 4 | monforte de lemos\n",
      "Processing record number 13 in set number 4 | nizhniy tsasuchey\n",
      "Processing record number 14 in set number 4 | teotitlan\n",
      "Processing record number 15 in set number 4 | lasa\n",
      "Processing record number 16 in set number 4 | kaitangata\n",
      "City not found. Skipping...\n",
      "Processing record number 17 in set number 4 | mardin\n",
      "Processing record number 18 in set number 4 | half moon bay\n",
      "City not found. Skipping...\n",
      "Processing record number 19 in set number 4 | goya\n",
      "Processing record number 20 in set number 4 | atuona\n",
      "Processing record number 21 in set number 4 | charters towers\n",
      "Processing record number 22 in set number 4 | yulara\n",
      "City not found. Skipping...\n",
      "Processing record number 23 in set number 4 | flinders\n",
      "Processing record number 24 in set number 4 | coquimbo\n",
      "Processing record number 25 in set number 4 | georgetown\n",
      "Processing record number 26 in set number 4 | algarrobo\n",
      "Processing record number 27 in set number 4 | westport\n",
      "Processing record number 28 in set number 4 | hirara\n",
      "Processing record number 29 in set number 4 | sioux lookout\n",
      "Processing record number 30 in set number 4 | buin\n",
      "Processing record number 31 in set number 4 | deputatskiy\n",
      "Processing record number 32 in set number 4 | suwannaphum\n",
      "Processing record number 33 in set number 4 | saint-louis\n",
      "City not found. Skipping...\n",
      "Processing record number 34 in set number 4 | egvekinot\n",
      "Processing record number 35 in set number 4 | garden city\n",
      "City not found. Skipping...\n",
      "Processing record number 36 in set number 4 | iqaluit\n",
      "Processing record number 37 in set number 4 | abnub\n",
      "Processing record number 38 in set number 4 | rio grande\n",
      "Processing record number 39 in set number 4 | sambava\n",
      "Processing record number 40 in set number 4 | dong hoi\n",
      "Processing record number 41 in set number 4 | dabakala\n",
      "City not found. Skipping...\n",
      "Processing record number 42 in set number 4 | kenitra\n",
      "Processing record number 43 in set number 4 | staraya kulatka\n",
      "Processing record number 44 in set number 4 | saskatoon\n",
      "Processing record number 45 in set number 4 | nhulunbuy\n",
      "Processing record number 46 in set number 4 | huejuquilla el alto\n",
      "Processing record number 47 in set number 4 | alofi\n",
      "Processing record number 48 in set number 4 | cidreira\n",
      "Processing record number 49 in set number 4 | thompson\n",
      "Processing record number 1 in set number 5 | amga\n",
      "Processing record number 2 in set number 5 | vestmanna\n",
      "Processing record number 3 in set number 5 | yenotayevka\n",
      "Processing record number 4 in set number 5 | north bend\n",
      "Processing record number 5 in set number 5 | dongsheng\n",
      "Processing record number 6 in set number 5 | erzurum\n",
      "Processing record number 7 in set number 5 | ordynskoye\n",
      "Processing record number 8 in set number 5 | elko\n",
      "City not found. Skipping...\n",
      "Processing record number 9 in set number 5 | abha\n",
      "Processing record number 10 in set number 5 | amposta\n",
      "Processing record number 11 in set number 5 | ust-kulom\n",
      "Processing record number 12 in set number 5 | aklavik\n",
      "City not found. Skipping...\n",
      "Processing record number 13 in set number 5 | scottsbluff\n",
      "Processing record number 14 in set number 5 | port elizabeth\n",
      "Processing record number 15 in set number 5 | kallithea\n",
      "Processing record number 16 in set number 5 | zhanaozen\n",
      "Processing record number 17 in set number 5 | conceicao do araguaia\n",
      "Processing record number 18 in set number 5 | te horo\n",
      "Processing record number 19 in set number 5 | dudinka\n",
      "Processing record number 20 in set number 5 | korla\n",
      "Processing record number 21 in set number 5 | riyadh\n",
      "Processing record number 22 in set number 5 | talnakh\n",
      "Processing record number 23 in set number 5 | saint george\n",
      "Processing record number 24 in set number 5 | black diamond\n",
      "Processing record number 25 in set number 5 | saskylakh\n",
      "Processing record number 26 in set number 5 | senador guiomard\n",
      "Processing record number 27 in set number 5 | christchurch\n",
      "Processing record number 28 in set number 5 | najran\n",
      "Processing record number 29 in set number 5 | salym\n",
      "Processing record number 30 in set number 5 | valparaiso\n",
      "Processing record number 31 in set number 5 | moshi\n",
      "Processing record number 32 in set number 5 | balaipungut\n",
      "Processing record number 33 in set number 5 | dikson\n",
      "Processing record number 34 in set number 5 | izazi\n",
      "Processing record number 35 in set number 5 | codrington\n",
      "Processing record number 36 in set number 5 | soe\n",
      "Processing record number 37 in set number 5 | yamada\n",
      "Processing record number 38 in set number 5 | nome\n",
      "Processing record number 39 in set number 5 | lethem\n",
      "City not found. Skipping...\n",
      "Processing record number 40 in set number 5 | harer\n",
      "Processing record number 41 in set number 5 | havelock\n",
      "Processing record number 42 in set number 5 | novonikolayevskiy\n",
      "Processing record number 43 in set number 5 | aksehir\n",
      "Processing record number 44 in set number 5 | saint-georges\n",
      "Processing record number 45 in set number 5 | samarai\n",
      "Processing record number 46 in set number 5 | arkadelphia\n",
      "Processing record number 47 in set number 5 | aksarayskiy\n",
      "Processing record number 48 in set number 5 | sur\n",
      "Processing record number 49 in set number 5 | hereford\n",
      "Processing record number 1 in set number 6 | mbandaka\n",
      "Processing record number 2 in set number 6 | meridian\n",
      "Processing record number 3 in set number 6 | kargasok\n",
      "Processing record number 4 in set number 6 | olafsvik\n",
      "City not found. Skipping...\n",
      "Processing record number 5 in set number 6 | lakselv\n",
      "Processing record number 6 in set number 6 | priiskovyy\n",
      "Processing record number 7 in set number 6 | akdepe\n",
      "Processing record number 8 in set number 6 | san quintin\n",
      "Processing record number 9 in set number 6 | richards bay\n",
      "Processing record number 10 in set number 6 | saint-philippe\n",
      "City not found. Skipping...\n",
      "Processing record number 11 in set number 6 | bathsheba\n",
      "Processing record number 12 in set number 6 | lages\n",
      "Processing record number 13 in set number 6 | lufilufi\n",
      "Processing record number 14 in set number 6 | sabha\n",
      "Processing record number 15 in set number 6 | kachkanar\n",
      "Processing record number 16 in set number 6 | urucara\n",
      "Processing record number 17 in set number 6 | zhob\n",
      "Processing record number 18 in set number 6 | nanortalik\n",
      "Processing record number 19 in set number 6 | maragogi\n",
      "Processing record number 20 in set number 6 | booue\n",
      "Processing record number 21 in set number 6 | videira\n",
      "Processing record number 22 in set number 6 | plettenberg bay\n",
      "City not found. Skipping...\n",
      "Processing record number 23 in set number 6 | port hardy\n",
      "City not found. Skipping...\n",
      "Processing record number 24 in set number 6 | eyl\n",
      "Processing record number 25 in set number 6 | kendari\n",
      "City not found. Skipping...\n",
      "Processing record number 26 in set number 6 | magnitka\n",
      "Processing record number 27 in set number 6 | arraial do cabo\n",
      "Processing record number 28 in set number 6 | grand gaube\n",
      "Processing record number 29 in set number 6 | paka\n",
      "Processing record number 30 in set number 6 | ahvaz\n",
      "Processing record number 31 in set number 6 | provideniya\n",
      "City not found. Skipping...\n",
      "Processing record number 32 in set number 6 | muros\n",
      "Processing record number 33 in set number 6 | irtyshskiy\n",
      "Processing record number 34 in set number 6 | papara\n",
      "Processing record number 35 in set number 6 | aktau\n",
      "Processing record number 36 in set number 6 | ca mau\n",
      "Processing record number 37 in set number 6 | tucurui\n"
     ]
    },
    {
     "name": "stdout",
     "output_type": "stream",
     "text": [
      "Processing record number 38 in set number 6 | itarema\n",
      "Processing record number 39 in set number 6 | norman wells\n",
      "Processing record number 40 in set number 6 | esna\n",
      "Processing record number 41 in set number 6 | kyra\n",
      "Processing record number 42 in set number 6 | bamnet narong\n",
      "Processing record number 43 in set number 6 | hobyo\n",
      "Processing record number 44 in set number 6 | laguna\n",
      "Processing record number 45 in set number 6 | quelimane\n",
      "Processing record number 46 in set number 6 | balabac\n",
      "Processing record number 47 in set number 6 | murdochville\n",
      "Processing record number 48 in set number 6 | englewood\n",
      "Processing record number 49 in set number 6 | ayapel\n",
      "Processing record number 1 in set number 7 | geilo\n",
      "Processing record number 2 in set number 7 | bara\n",
      "Processing record number 3 in set number 7 | ambilobe\n",
      "Processing record number 4 in set number 7 | cortez\n",
      "Processing record number 5 in set number 7 | lompoc\n",
      "Processing record number 6 in set number 7 | denpasar\n",
      "Processing record number 7 in set number 7 | parana\n",
      "Processing record number 8 in set number 7 | buchanan\n",
      "Processing record number 9 in set number 7 | mwinilunga\n",
      "Processing record number 10 in set number 7 | babstovo\n",
      "Processing record number 11 in set number 7 | pacific grove\n",
      "Processing record number 12 in set number 7 | saint-pierre\n",
      "Processing record number 13 in set number 7 | mudgee\n",
      "Processing record number 14 in set number 7 | panaba\n",
      "Processing record number 15 in set number 7 | aksu\n",
      "Processing record number 16 in set number 7 | tucuma\n",
      "Processing record number 17 in set number 7 | maple creek\n",
      "Processing record number 18 in set number 7 | mogadishu\n",
      "Processing record number 19 in set number 7 | contamana\n",
      "Processing record number 20 in set number 7 | krasnoselkup\n",
      "City not found. Skipping...\n",
      "Processing record number 21 in set number 7 | bayan\n",
      "Processing record number 22 in set number 7 | abu dhabi\n",
      "Processing record number 23 in set number 7 | jibuti\n",
      "Processing record number 24 in set number 7 | dobson\n",
      "Processing record number 25 in set number 7 | tomatlan\n",
      "Processing record number 26 in set number 7 | alyangula\n",
      "Processing record number 27 in set number 7 | ulaanbaatar\n",
      "Processing record number 28 in set number 7 | koshurnikovo\n",
      "Processing record number 29 in set number 7 | tandil\n",
      "Processing record number 30 in set number 7 | souillac\n",
      "Processing record number 31 in set number 7 | gurupa\n",
      "Processing record number 32 in set number 7 | namibe\n",
      "Processing record number 33 in set number 7 | fairbanks\n",
      "Processing record number 34 in set number 7 | vizinga\n",
      "Processing record number 35 in set number 7 | simao\n",
      "Processing record number 36 in set number 7 | umm lajj\n",
      "Processing record number 37 in set number 7 | mercedes\n",
      "Processing record number 38 in set number 7 | hay river\n",
      "Processing record number 39 in set number 7 | pilar\n",
      "Processing record number 40 in set number 7 | broken hill\n",
      "Processing record number 41 in set number 7 | mount isa\n",
      "Processing record number 42 in set number 7 | kailua\n",
      "Processing record number 43 in set number 7 | boueni\n",
      "Processing record number 44 in set number 7 | sol-iletsk\n",
      "City not found. Skipping...\n",
      "Processing record number 45 in set number 7 | dombas\n",
      "Processing record number 46 in set number 7 | ribeira grande\n",
      "Processing record number 47 in set number 7 | curillo\n",
      "Processing record number 48 in set number 7 | sorland\n",
      "Processing record number 49 in set number 7 | soyo\n",
      "Processing record number 1 in set number 8 | sao joao da barra\n",
      "Processing record number 2 in set number 8 | naze\n",
      "Processing record number 3 in set number 8 | kaseda\n",
      "Processing record number 4 in set number 8 | lat yao\n",
      "Processing record number 5 in set number 8 | xining\n",
      "Processing record number 6 in set number 8 | carballo\n",
      "Processing record number 7 in set number 8 | beloha\n",
      "Processing record number 8 in set number 8 | nanzhang\n",
      "Processing record number 9 in set number 8 | vanavara\n",
      "City not found. Skipping...\n",
      "Processing record number 10 in set number 8 | taitung\n",
      "Processing record number 11 in set number 8 | bollnas\n",
      "Processing record number 12 in set number 8 | taltal\n",
      "Processing record number 13 in set number 8 | griffith\n",
      "Processing record number 14 in set number 8 | bonthe\n",
      "Processing record number 15 in set number 8 | okhotsk\n",
      "Processing record number 16 in set number 8 | kutum\n",
      "Processing record number 17 in set number 8 | usinsk\n",
      "City not found. Skipping...\n",
      "City not found. Skipping...\n",
      "Processing record number 18 in set number 8 | sorada\n",
      "Processing record number 19 in set number 8 | brae\n",
      "City not found. Skipping...\n",
      "Processing record number 20 in set number 8 | tateyama\n",
      "Processing record number 21 in set number 8 | lagoa\n",
      "Processing record number 22 in set number 8 | riviere-au-renard\n",
      "Processing record number 23 in set number 8 | alta gracia\n",
      "Processing record number 24 in set number 8 | ormara\n",
      "Processing record number 25 in set number 8 | suntar\n",
      "Processing record number 26 in set number 8 | buraydah\n",
      "Processing record number 27 in set number 8 | waingapu\n",
      "Processing record number 28 in set number 8 | stawell\n",
      "Processing record number 29 in set number 8 | artvin\n",
      "Processing record number 30 in set number 8 | mullovka\n",
      "Processing record number 31 in set number 8 | puerto el triunfo\n",
      "Processing record number 32 in set number 8 | teluknaga\n",
      "Processing record number 33 in set number 8 | idar-oberstein\n",
      "Processing record number 34 in set number 8 | requena\n",
      "Processing record number 35 in set number 8 | wewak\n",
      "Processing record number 36 in set number 8 | junin\n",
      "Processing record number 37 in set number 8 | kahului\n",
      "Processing record number 38 in set number 8 | ahipara\n",
      "Processing record number 39 in set number 8 | lubumbashi\n",
      "Processing record number 40 in set number 8 | sawtell\n",
      "Processing record number 41 in set number 8 | kalengwa\n",
      "Processing record number 42 in set number 8 | kaeo\n",
      "Processing record number 43 in set number 8 | kavaratti\n",
      "Processing record number 44 in set number 8 | khorixas\n",
      "Processing record number 45 in set number 8 | emerald\n",
      "Processing record number 46 in set number 8 | santa rosa\n",
      "Processing record number 47 in set number 8 | sorong\n",
      "Processing record number 48 in set number 8 | jinchang\n",
      "Processing record number 49 in set number 8 | la ronge\n",
      "Processing record number 1 in set number 9 | mitsamiouli\n",
      "Processing record number 2 in set number 9 | itaiba\n",
      "Processing record number 3 in set number 9 | iquitos\n",
      "Processing record number 4 in set number 9 | casablanca\n",
      "Processing record number 5 in set number 9 | nyuksenitsa\n",
      "Processing record number 6 in set number 9 | grindavik\n",
      "Processing record number 7 in set number 9 | fuyu\n",
      "Processing record number 8 in set number 9 | te anau\n",
      "Processing record number 9 in set number 9 | honiara\n",
      "Processing record number 10 in set number 9 | juan aldama\n",
      "Processing record number 11 in set number 9 | tucuman\n",
      "Processing record number 12 in set number 9 | kalmunai\n",
      "Processing record number 13 in set number 9 | hailar\n",
      "Processing record number 14 in set number 9 | malangwa\n",
      "Processing record number 15 in set number 9 | asau\n",
      "Processing record number 16 in set number 9 | banjar\n",
      "Processing record number 17 in set number 9 | svetlyy\n",
      "Processing record number 18 in set number 9 | estelle\n",
      "Processing record number 19 in set number 9 | miramar\n",
      "Processing record number 20 in set number 9 | mehamn\n",
      "Processing record number 21 in set number 9 | arman\n",
      "Processing record number 22 in set number 9 | armidale\n",
      "Processing record number 23 in set number 9 | sibolga\n",
      "Processing record number 24 in set number 9 | novyy urengoy\n",
      "Processing record number 25 in set number 9 | gagnoa\n",
      "Processing record number 26 in set number 9 | manta\n",
      "Processing record number 27 in set number 9 | yokadouma\n",
      "Processing record number 28 in set number 9 | linxi\n",
      "Processing record number 29 in set number 9 | yakeshi\n",
      "Processing record number 30 in set number 9 | ketchikan\n",
      "Processing record number 31 in set number 9 | maoming\n",
      "Processing record number 32 in set number 9 | necochea\n",
      "Processing record number 33 in set number 9 | inhambane\n",
      "Processing record number 34 in set number 9 | lima\n",
      "Processing record number 35 in set number 9 | bud\n",
      "Processing record number 36 in set number 9 | shenjiamen\n",
      "Processing record number 37 in set number 9 | los llanos de aridane\n",
      "Processing record number 38 in set number 9 | krutinka\n",
      "Processing record number 39 in set number 9 | kon tum\n"
     ]
    },
    {
     "name": "stdout",
     "output_type": "stream",
     "text": [
      "Processing record number 40 in set number 9 | robertsport\n",
      "Processing record number 41 in set number 9 | nyandoma\n",
      "Processing record number 42 in set number 9 | komsomolskiy\n",
      "Processing record number 43 in set number 9 | anadyr\n",
      "City not found. Skipping...\n",
      "Processing record number 44 in set number 9 | key west\n",
      "City not found. Skipping...\n",
      "Processing record number 45 in set number 9 | beaverlodge\n",
      "Processing record number 46 in set number 9 | straumen\n",
      "Processing record number 47 in set number 9 | ust-kut\n",
      "Processing record number 48 in set number 9 | kamiiso\n",
      "Processing record number 49 in set number 9 | quixeramobim\n",
      "Processing record number 1 in set number 10 | vysokogornyy\n",
      "Processing record number 2 in set number 10 | chipata\n",
      "City not found. Skipping...\n",
      "Processing record number 3 in set number 10 | ovsyanka\n",
      "Processing record number 4 in set number 10 | eucaliptus\n",
      "City not found. Skipping...\n",
      "Processing record number 5 in set number 10 | nelson bay\n",
      "Processing record number 6 in set number 10 | meulaboh\n",
      "Processing record number 7 in set number 10 | imbituba\n",
      "Processing record number 8 in set number 10 | mantua\n",
      "Processing record number 9 in set number 10 | mangit\n",
      "Processing record number 10 in set number 10 | port moresby\n",
      "Processing record number 11 in set number 10 | hualmay\n",
      "Processing record number 12 in set number 10 | cap malheureux\n",
      "Processing record number 13 in set number 10 | shebunino\n",
      "Processing record number 14 in set number 10 | kavieng\n",
      "Processing record number 15 in set number 10 | mananara\n",
      "Processing record number 16 in set number 10 | dubbo\n",
      "Processing record number 17 in set number 10 | harper\n",
      "Processing record number 18 in set number 10 | rehoboth\n",
      "Processing record number 19 in set number 10 | neiafu\n",
      "Processing record number 20 in set number 10 | zarubino\n",
      "Processing record number 21 in set number 10 | birao\n",
      "Processing record number 22 in set number 10 | vila\n",
      "Processing record number 23 in set number 10 | along\n",
      "City not found. Skipping...\n",
      "Processing record number 24 in set number 10 | gaoual\n",
      "Processing record number 25 in set number 10 | maceio\n",
      "Processing record number 26 in set number 10 | antofagasta\n",
      "City not found. Skipping...\n",
      "Processing record number 27 in set number 10 | ponnani\n",
      "Processing record number 28 in set number 10 | dicabisagan\n",
      "Processing record number 29 in set number 10 | samana\n",
      "Processing record number 30 in set number 10 | zaraza\n",
      "Processing record number 31 in set number 10 | behshahr\n",
      "Processing record number 32 in set number 10 | veraval\n",
      "Processing record number 33 in set number 10 | bawku\n",
      "Processing record number 34 in set number 10 | oistins\n",
      "City not found. Skipping...\n",
      "Processing record number 35 in set number 10 | tempio pausania\n",
      "Processing record number 36 in set number 10 | haifa\n",
      "Processing record number 37 in set number 10 | tagusao\n",
      "Processing record number 38 in set number 10 | kushiro\n",
      "Processing record number 39 in set number 10 | kadoma\n",
      "Processing record number 40 in set number 10 | labuhan\n",
      "Processing record number 41 in set number 10 | belleville\n",
      "Processing record number 42 in set number 10 | sungairaya\n",
      "Processing record number 43 in set number 10 | wangkui\n",
      "Processing record number 44 in set number 10 | velikodvorskiy\n",
      "Processing record number 45 in set number 10 | padang\n",
      "Processing record number 46 in set number 10 | kipini\n",
      "Processing record number 47 in set number 10 | baruun-urt\n",
      "Processing record number 48 in set number 10 | kangaatsiaq\n",
      "Processing record number 49 in set number 10 | beringovskiy\n",
      "Processing record number 1 in set number 11 | majitha\n",
      "Processing record number 2 in set number 11 | luderitz\n",
      "Processing record number 3 in set number 11 | palmer\n",
      "Processing record number 4 in set number 11 | donskoye\n",
      "City not found. Skipping...\n",
      "City not found. Skipping...\n",
      "Processing record number 5 in set number 11 | stromness\n",
      "Processing record number 6 in set number 11 | walvis bay\n",
      "Processing record number 7 in set number 11 | hambantota\n",
      "Processing record number 8 in set number 11 | burevestnik\n",
      "Processing record number 9 in set number 11 | venado tuerto\n",
      "Processing record number 10 in set number 11 | deogarh\n",
      "Processing record number 11 in set number 11 | narsaq\n",
      "Processing record number 12 in set number 11 | bani walid\n",
      "Processing record number 13 in set number 11 | stornoway\n",
      "Processing record number 14 in set number 11 | bonavista\n",
      "Processing record number 15 in set number 11 | turukhansk\n",
      "Processing record number 16 in set number 11 | mansoa\n",
      "Processing record number 17 in set number 11 | san cristobal\n",
      "Processing record number 18 in set number 11 | saldanha\n",
      "Processing record number 19 in set number 11 | harrison\n",
      "Processing record number 20 in set number 11 | waddan\n",
      "Processing record number 21 in set number 11 | bilibino\n",
      "Processing record number 22 in set number 11 | joshimath\n",
      "Processing record number 23 in set number 11 | kirillov\n",
      "Processing record number 24 in set number 11 | pisco\n",
      "Processing record number 25 in set number 11 | megion\n",
      "Processing record number 26 in set number 11 | talisayan\n",
      "Processing record number 27 in set number 11 | lithakia\n",
      "Processing record number 28 in set number 11 | berlevag\n",
      "Processing record number 29 in set number 11 | dhidhdhoo\n",
      "Processing record number 30 in set number 11 | traverse city\n",
      "Processing record number 31 in set number 11 | yuci\n",
      "Processing record number 32 in set number 11 | alice springs\n",
      "Processing record number 33 in set number 11 | paamiut\n",
      "Processing record number 34 in set number 11 | banyuwangi\n",
      "Processing record number 35 in set number 11 | leirvik\n",
      "Processing record number 36 in set number 11 | birjand\n",
      "Processing record number 37 in set number 11 | sibu\n",
      "Processing record number 38 in set number 11 | ntcheu\n",
      "Processing record number 39 in set number 11 | nemuro\n",
      "Processing record number 40 in set number 11 | beohari\n",
      "Processing record number 41 in set number 11 | vrangel\n",
      "Processing record number 42 in set number 11 | nova odesa\n",
      "Processing record number 43 in set number 11 | moron\n",
      "Processing record number 44 in set number 11 | qianguo\n",
      "Processing record number 45 in set number 11 | kontagora\n",
      "Processing record number 46 in set number 11 | markova\n",
      "Processing record number 47 in set number 11 | pali\n",
      "Processing record number 48 in set number 11 | petropavlovsk-kamchatskiy\n",
      "Processing record number 49 in set number 11 | atar\n",
      "Processing record number 1 in set number 12 | aripuana\n",
      "Processing record number 2 in set number 12 | ati\n",
      "Processing record number 3 in set number 12 | la tuque\n",
      "Processing record number 4 in set number 12 | atasu\n",
      "Processing record number 5 in set number 12 | suleja\n",
      "Processing record number 6 in set number 12 | vila franca do campo\n",
      "Processing record number 7 in set number 12 | avera\n",
      "Processing record number 8 in set number 12 | yabelo\n",
      "Processing record number 9 in set number 12 | valdivia\n",
      "Processing record number 10 in set number 12 | husavik\n",
      "Processing record number 11 in set number 12 | belyy yar\n",
      "Processing record number 12 in set number 12 | prabumulih\n",
      "Processing record number 13 in set number 12 | berezniki\n",
      "Processing record number 14 in set number 12 | tambun\n",
      "Processing record number 15 in set number 12 | kenora\n",
      "Processing record number 16 in set number 12 | abalak\n",
      "Processing record number 17 in set number 12 | bereznik\n",
      "Processing record number 18 in set number 12 | andenes\n",
      "Processing record number 19 in set number 12 | tshikapa\n",
      "City not found. Skipping...\n",
      "Processing record number 20 in set number 12 | cockburn town\n",
      "Processing record number 21 in set number 12 | radomsko\n",
      "Processing record number 22 in set number 12 | dzhida\n",
      "Processing record number 23 in set number 12 | port keats\n",
      "Processing record number 24 in set number 12 | tezu\n",
      "Processing record number 25 in set number 12 | boguchany\n",
      "Processing record number 26 in set number 12 | palora\n",
      "Processing record number 27 in set number 12 | vila velha\n",
      "Processing record number 28 in set number 12 | banda aceh\n",
      "Processing record number 29 in set number 12 | kinsale\n",
      "Processing record number 30 in set number 12 | puerto carreno\n",
      "Processing record number 31 in set number 12 | hamada\n",
      "Processing record number 32 in set number 12 | pangnirtung\n",
      "Processing record number 33 in set number 12 | corumba\n",
      "City not found. Skipping...\n"
     ]
    },
    {
     "name": "stdout",
     "output_type": "stream",
     "text": [
      "Processing record number 34 in set number 12 | karasburg\n",
      "City not found. Skipping...\n",
      "Processing record number 35 in set number 12 | atkinson\n",
      "Processing record number 36 in set number 12 | bunog\n",
      "Processing record number 37 in set number 12 | stokmarknes\n",
      "Processing record number 38 in set number 12 | vung tau\n",
      "Processing record number 39 in set number 12 | urubicha\n",
      "City not found. Skipping...\n",
      "Processing record number 40 in set number 12 | umba\n",
      "Processing record number 41 in set number 12 | sechura\n",
      "Processing record number 42 in set number 12 | rocha\n",
      "Processing record number 43 in set number 12 | luangwa\n",
      "Processing record number 44 in set number 12 | port-cartier\n",
      "Processing record number 45 in set number 12 | ganganagar\n",
      "Processing record number 46 in set number 12 | bairnsdale\n",
      "Processing record number 47 in set number 12 | saint pete beach\n",
      "Processing record number 48 in set number 12 | lavras\n"
     ]
    }
   ],
   "source": [
    "# Create empty lists for each data set\n",
    "city_name = []\n",
    "lat = []\n",
    "lng = []\n",
    "max_temp = []\n",
    "humidity = []\n",
    "cloudiness = []\n",
    "wind_speed = []\n",
    "country = []\n",
    "date = []\n",
    "\n",
    "# Start the counters\n",
    "records = 0\n",
    "sets = 1\n",
    "\n",
    "# loop through response data\n",
    "# Use the try and except error handling\n",
    "for city in cities_list:\n",
    "    try:\n",
    "        # API Call\n",
    "        response = requests.get(query_url + city).json()\n",
    "        \n",
    "        # Apeend all those empty lists with data from loop\n",
    "        lat.append(response['coord']['lat'])\n",
    "        lng.append(response['coord']['lon'])\n",
    "        max_temp.append(response['main']['temp_max'])\n",
    "        humidity.append(response['main']['humidity'])\n",
    "        cloudiness.append(response['clouds']['all'])\n",
    "        wind_speed.append(response['wind']['speed'])\n",
    "        country.append(response['sys']['country'])\n",
    "        date.append(response['dt'])\n",
    "        \n",
    "        # Create if statement, add counts, and append\n",
    "        if records > 48:\n",
    "            records = 1\n",
    "            sets += 1\n",
    "            city_name.append(city)\n",
    "        else:\n",
    "            records += 1\n",
    "            city_name.append(city)\n",
    "        print(f\"Processing record number {records} in set number {sets} | {city}\")\n",
    "    except:\n",
    "        print(\"City not found. Skipping...\")\n"
   ]
  },
  {
   "cell_type": "markdown",
   "metadata": {},
   "source": [
    "### Convert Raw Data to DataFrame\n",
    "* Export the city data into a .csv.\n",
    "* Display the DataFrame"
   ]
  },
  {
   "cell_type": "code",
   "execution_count": 30,
   "metadata": {},
   "outputs": [
    {
     "data": {
      "text/html": [
       "<div>\n",
       "<style scoped>\n",
       "    .dataframe tbody tr th:only-of-type {\n",
       "        vertical-align: middle;\n",
       "    }\n",
       "\n",
       "    .dataframe tbody tr th {\n",
       "        vertical-align: top;\n",
       "    }\n",
       "\n",
       "    .dataframe thead th {\n",
       "        text-align: right;\n",
       "    }\n",
       "</style>\n",
       "<table border=\"1\" class=\"dataframe\">\n",
       "  <thead>\n",
       "    <tr style=\"text-align: right;\">\n",
       "      <th></th>\n",
       "      <th>City</th>\n",
       "      <th>Lat</th>\n",
       "      <th>Lng</th>\n",
       "      <th>Max Temp</th>\n",
       "      <th>Humidity</th>\n",
       "      <th>Cloudiness</th>\n",
       "      <th>Wind Speed</th>\n",
       "      <th>Country</th>\n",
       "      <th>Date</th>\n",
       "    </tr>\n",
       "  </thead>\n",
       "  <tbody>\n",
       "    <tr>\n",
       "      <th>0</th>\n",
       "      <td>bluff</td>\n",
       "      <td>-46.60</td>\n",
       "      <td>168.33</td>\n",
       "      <td>50.0</td>\n",
       "      <td>69</td>\n",
       "      <td>93</td>\n",
       "      <td>14.00</td>\n",
       "      <td>NZ</td>\n",
       "      <td>1603135414</td>\n",
       "    </tr>\n",
       "    <tr>\n",
       "      <th>1</th>\n",
       "      <td>albany</td>\n",
       "      <td>42.60</td>\n",
       "      <td>-73.97</td>\n",
       "      <td>61.0</td>\n",
       "      <td>73</td>\n",
       "      <td>100</td>\n",
       "      <td>5.97</td>\n",
       "      <td>US</td>\n",
       "      <td>1603135620</td>\n",
       "    </tr>\n",
       "    <tr>\n",
       "      <th>2</th>\n",
       "      <td>astana</td>\n",
       "      <td>51.18</td>\n",
       "      <td>71.45</td>\n",
       "      <td>32.0</td>\n",
       "      <td>59</td>\n",
       "      <td>0</td>\n",
       "      <td>6.71</td>\n",
       "      <td>KZ</td>\n",
       "      <td>1603135494</td>\n",
       "    </tr>\n",
       "    <tr>\n",
       "      <th>3</th>\n",
       "      <td>mataura</td>\n",
       "      <td>-46.19</td>\n",
       "      <td>168.86</td>\n",
       "      <td>50.0</td>\n",
       "      <td>69</td>\n",
       "      <td>94</td>\n",
       "      <td>14.00</td>\n",
       "      <td>NZ</td>\n",
       "      <td>1603135690</td>\n",
       "    </tr>\n",
       "    <tr>\n",
       "      <th>4</th>\n",
       "      <td>hasaki</td>\n",
       "      <td>35.73</td>\n",
       "      <td>140.83</td>\n",
       "      <td>53.6</td>\n",
       "      <td>93</td>\n",
       "      <td>75</td>\n",
       "      <td>5.82</td>\n",
       "      <td>JP</td>\n",
       "      <td>1603135690</td>\n",
       "    </tr>\n",
       "  </tbody>\n",
       "</table>\n",
       "</div>"
      ],
      "text/plain": [
       "      City    Lat     Lng  Max Temp  Humidity  Cloudiness  Wind Speed Country  \\\n",
       "0    bluff -46.60  168.33      50.0        69          93       14.00      NZ   \n",
       "1   albany  42.60  -73.97      61.0        73         100        5.97      US   \n",
       "2   astana  51.18   71.45      32.0        59           0        6.71      KZ   \n",
       "3  mataura -46.19  168.86      50.0        69          94       14.00      NZ   \n",
       "4   hasaki  35.73  140.83      53.6        93          75        5.82      JP   \n",
       "\n",
       "         Date  \n",
       "0  1603135414  \n",
       "1  1603135620  \n",
       "2  1603135494  \n",
       "3  1603135690  \n",
       "4  1603135690  "
      ]
     },
     "execution_count": 30,
     "metadata": {},
     "output_type": "execute_result"
    }
   ],
   "source": [
    "# Create a dictionary to store the results\n",
    "weather_data = {\n",
    "    \"City\": city_name,\n",
    "    \"Lat\": lat,\n",
    "    \"Lng\": lng,\n",
    "    \"Max Temp\": max_temp,\n",
    "    \"Humidity\": humidity,\n",
    "    \"Cloudiness\": cloudiness,\n",
    "    \"Wind Speed\": wind_speed,\n",
    "    \"Country\": country,\n",
    "    \"Date\": date\n",
    "}\n",
    "\n",
    "# Create a dataframe with the dictionary data\n",
    "weather_df = pd.DataFrame(weather_data)\n",
    "\n",
    "weather_df.head()"
   ]
  },
  {
   "cell_type": "code",
   "execution_count": 31,
   "metadata": {},
   "outputs": [],
   "source": [
    "# Turn that into a csv file\n",
    "weather_df.to_csv(\"../Output_Data/Weather_Data\")"
   ]
  },
  {
   "cell_type": "code",
   "execution_count": 32,
   "metadata": {},
   "outputs": [
    {
     "data": {
      "text/html": [
       "<div>\n",
       "<style scoped>\n",
       "    .dataframe tbody tr th:only-of-type {\n",
       "        vertical-align: middle;\n",
       "    }\n",
       "\n",
       "    .dataframe tbody tr th {\n",
       "        vertical-align: top;\n",
       "    }\n",
       "\n",
       "    .dataframe thead th {\n",
       "        text-align: right;\n",
       "    }\n",
       "</style>\n",
       "<table border=\"1\" class=\"dataframe\">\n",
       "  <thead>\n",
       "    <tr style=\"text-align: right;\">\n",
       "      <th></th>\n",
       "      <th>Lat</th>\n",
       "      <th>Lng</th>\n",
       "      <th>Max Temp</th>\n",
       "      <th>Humidity</th>\n",
       "      <th>Cloudiness</th>\n",
       "      <th>Wind Speed</th>\n",
       "      <th>Date</th>\n",
       "    </tr>\n",
       "  </thead>\n",
       "  <tbody>\n",
       "    <tr>\n",
       "      <th>count</th>\n",
       "      <td>587.000000</td>\n",
       "      <td>587.000000</td>\n",
       "      <td>587.000000</td>\n",
       "      <td>587.000000</td>\n",
       "      <td>587.000000</td>\n",
       "      <td>587.000000</td>\n",
       "      <td>5.870000e+02</td>\n",
       "    </tr>\n",
       "    <tr>\n",
       "      <th>mean</th>\n",
       "      <td>20.431755</td>\n",
       "      <td>21.177973</td>\n",
       "      <td>60.726831</td>\n",
       "      <td>71.749574</td>\n",
       "      <td>52.344123</td>\n",
       "      <td>7.637836</td>\n",
       "      <td>1.603136e+09</td>\n",
       "    </tr>\n",
       "    <tr>\n",
       "      <th>std</th>\n",
       "      <td>33.290728</td>\n",
       "      <td>88.950344</td>\n",
       "      <td>20.730522</td>\n",
       "      <td>20.776570</td>\n",
       "      <td>40.670878</td>\n",
       "      <td>5.600717</td>\n",
       "      <td>8.343034e+01</td>\n",
       "    </tr>\n",
       "    <tr>\n",
       "      <th>min</th>\n",
       "      <td>-54.800000</td>\n",
       "      <td>-179.170000</td>\n",
       "      <td>8.370000</td>\n",
       "      <td>9.000000</td>\n",
       "      <td>0.000000</td>\n",
       "      <td>0.200000</td>\n",
       "      <td>1.603135e+09</td>\n",
       "    </tr>\n",
       "    <tr>\n",
       "      <th>25%</th>\n",
       "      <td>-8.165000</td>\n",
       "      <td>-59.195000</td>\n",
       "      <td>44.600000</td>\n",
       "      <td>60.000000</td>\n",
       "      <td>7.000000</td>\n",
       "      <td>3.440000</td>\n",
       "      <td>1.603136e+09</td>\n",
       "    </tr>\n",
       "    <tr>\n",
       "      <th>50%</th>\n",
       "      <td>24.800000</td>\n",
       "      <td>26.890000</td>\n",
       "      <td>64.440000</td>\n",
       "      <td>77.000000</td>\n",
       "      <td>61.000000</td>\n",
       "      <td>6.130000</td>\n",
       "      <td>1.603136e+09</td>\n",
       "    </tr>\n",
       "    <tr>\n",
       "      <th>75%</th>\n",
       "      <td>47.960000</td>\n",
       "      <td>100.660000</td>\n",
       "      <td>77.280000</td>\n",
       "      <td>87.000000</td>\n",
       "      <td>94.000000</td>\n",
       "      <td>10.290000</td>\n",
       "      <td>1.603136e+09</td>\n",
       "    </tr>\n",
       "    <tr>\n",
       "      <th>max</th>\n",
       "      <td>78.220000</td>\n",
       "      <td>179.320000</td>\n",
       "      <td>107.600000</td>\n",
       "      <td>100.000000</td>\n",
       "      <td>100.000000</td>\n",
       "      <td>36.910000</td>\n",
       "      <td>1.603136e+09</td>\n",
       "    </tr>\n",
       "  </tbody>\n",
       "</table>\n",
       "</div>"
      ],
      "text/plain": [
       "              Lat         Lng    Max Temp    Humidity  Cloudiness  Wind Speed  \\\n",
       "count  587.000000  587.000000  587.000000  587.000000  587.000000  587.000000   \n",
       "mean    20.431755   21.177973   60.726831   71.749574   52.344123    7.637836   \n",
       "std     33.290728   88.950344   20.730522   20.776570   40.670878    5.600717   \n",
       "min    -54.800000 -179.170000    8.370000    9.000000    0.000000    0.200000   \n",
       "25%     -8.165000  -59.195000   44.600000   60.000000    7.000000    3.440000   \n",
       "50%     24.800000   26.890000   64.440000   77.000000   61.000000    6.130000   \n",
       "75%     47.960000  100.660000   77.280000   87.000000   94.000000   10.290000   \n",
       "max     78.220000  179.320000  107.600000  100.000000  100.000000   36.910000   \n",
       "\n",
       "               Date  \n",
       "count  5.870000e+02  \n",
       "mean   1.603136e+09  \n",
       "std    8.343034e+01  \n",
       "min    1.603135e+09  \n",
       "25%    1.603136e+09  \n",
       "50%    1.603136e+09  \n",
       "75%    1.603136e+09  \n",
       "max    1.603136e+09  "
      ]
     },
     "execution_count": 32,
     "metadata": {},
     "output_type": "execute_result"
    }
   ],
   "source": [
    "weather_df.describe()"
   ]
  },
  {
   "cell_type": "code",
   "execution_count": null,
   "metadata": {},
   "outputs": [],
   "source": []
  },
  {
   "cell_type": "markdown",
   "metadata": {},
   "source": [
    "## Inspect the data and remove the cities where the humidity > 100%.\n",
    "----\n",
    "Skip this step if there are no cities that have humidity > 100%. "
   ]
  },
  {
   "cell_type": "code",
   "execution_count": 33,
   "metadata": {},
   "outputs": [
    {
     "data": {
      "text/plain": [
       "100"
      ]
     },
     "execution_count": 33,
     "metadata": {},
     "output_type": "execute_result"
    }
   ],
   "source": [
    "weather_df[\"Humidity\"].max()\n",
    "# There are no cities GREATER than 100% humidity, the max is 100%."
   ]
  },
  {
   "cell_type": "code",
   "execution_count": 34,
   "metadata": {},
   "outputs": [
    {
     "name": "stdout",
     "output_type": "stream",
     "text": [
      "The lower quartile of humidity is: 60.0\n",
      "The upper quartile of humidity is: 87.0\n",
      "The interquartile range of humidity is: 27.0\n",
      "The the median of humidity is: 77.0 \n",
      "Values below 19.5 could be outliers.\n",
      "Values above 127.5 could be outliers.\n"
     ]
    }
   ],
   "source": [
    "# Make a new DataFrame equal to the city data to drop all humidity outliers by index.\n",
    "# Passing \"inplace=False\" will make a copy of the city_data DataFrame, which we call \"clean_city_data\".\n",
    "quartiles = weather_df['Humidity'].quantile([.25,.5,.75])\n",
    "lowerq = quartiles[0.25]\n",
    "upperq = quartiles[0.75]\n",
    "iqr = upperq-lowerq\n",
    "\n",
    "print(f\"The lower quartile of humidity is: {lowerq}\")\n",
    "print(f\"The upper quartile of humidity is: {upperq}\")\n",
    "print(f\"The interquartile range of humidity is: {iqr}\")\n",
    "print(f\"The the median of humidity is: {quartiles[0.5]} \")\n",
    "\n",
    "lower_bound = lowerq - (1.5*iqr)\n",
    "upper_bound = upperq + (1.5*iqr)\n",
    "print(f\"Values below {lower_bound} could be outliers.\")\n",
    "print(f\"Values above {upper_bound} could be outliers.\")"
   ]
  },
  {
   "cell_type": "code",
   "execution_count": 35,
   "metadata": {},
   "outputs": [
    {
     "data": {
      "text/plain": [
       "City          582\n",
       "Lat           582\n",
       "Lng           582\n",
       "Max Temp      582\n",
       "Humidity      582\n",
       "Cloudiness    582\n",
       "Wind Speed    582\n",
       "Country       582\n",
       "Date          582\n",
       "dtype: int64"
      ]
     },
     "execution_count": 35,
     "metadata": {},
     "output_type": "execute_result"
    }
   ],
   "source": [
    "# Remove outliers and create a new dataframe without them\n",
    "clean_city_data = pd.DataFrame(weather_df[weather_df.Humidity >= 15.5])\n",
    "clean_city_data.count()"
   ]
  },
  {
   "cell_type": "code",
   "execution_count": 36,
   "metadata": {},
   "outputs": [
    {
     "data": {
      "text/html": [
       "<div>\n",
       "<style scoped>\n",
       "    .dataframe tbody tr th:only-of-type {\n",
       "        vertical-align: middle;\n",
       "    }\n",
       "\n",
       "    .dataframe tbody tr th {\n",
       "        vertical-align: top;\n",
       "    }\n",
       "\n",
       "    .dataframe thead th {\n",
       "        text-align: right;\n",
       "    }\n",
       "</style>\n",
       "<table border=\"1\" class=\"dataframe\">\n",
       "  <thead>\n",
       "    <tr style=\"text-align: right;\">\n",
       "      <th></th>\n",
       "      <th>City</th>\n",
       "      <th>Lat</th>\n",
       "      <th>Lng</th>\n",
       "      <th>Max Temp</th>\n",
       "      <th>Humidity</th>\n",
       "      <th>Cloudiness</th>\n",
       "      <th>Wind Speed</th>\n",
       "      <th>Country</th>\n",
       "      <th>Date</th>\n",
       "    </tr>\n",
       "  </thead>\n",
       "  <tbody>\n",
       "    <tr>\n",
       "      <th>0</th>\n",
       "      <td>bluff</td>\n",
       "      <td>-46.60</td>\n",
       "      <td>168.33</td>\n",
       "      <td>50.0</td>\n",
       "      <td>69</td>\n",
       "      <td>93</td>\n",
       "      <td>14.00</td>\n",
       "      <td>NZ</td>\n",
       "      <td>1603135414</td>\n",
       "    </tr>\n",
       "    <tr>\n",
       "      <th>1</th>\n",
       "      <td>albany</td>\n",
       "      <td>42.60</td>\n",
       "      <td>-73.97</td>\n",
       "      <td>61.0</td>\n",
       "      <td>73</td>\n",
       "      <td>100</td>\n",
       "      <td>5.97</td>\n",
       "      <td>US</td>\n",
       "      <td>1603135620</td>\n",
       "    </tr>\n",
       "    <tr>\n",
       "      <th>2</th>\n",
       "      <td>astana</td>\n",
       "      <td>51.18</td>\n",
       "      <td>71.45</td>\n",
       "      <td>32.0</td>\n",
       "      <td>59</td>\n",
       "      <td>0</td>\n",
       "      <td>6.71</td>\n",
       "      <td>KZ</td>\n",
       "      <td>1603135494</td>\n",
       "    </tr>\n",
       "    <tr>\n",
       "      <th>3</th>\n",
       "      <td>mataura</td>\n",
       "      <td>-46.19</td>\n",
       "      <td>168.86</td>\n",
       "      <td>50.0</td>\n",
       "      <td>69</td>\n",
       "      <td>94</td>\n",
       "      <td>14.00</td>\n",
       "      <td>NZ</td>\n",
       "      <td>1603135690</td>\n",
       "    </tr>\n",
       "    <tr>\n",
       "      <th>4</th>\n",
       "      <td>hasaki</td>\n",
       "      <td>35.73</td>\n",
       "      <td>140.83</td>\n",
       "      <td>53.6</td>\n",
       "      <td>93</td>\n",
       "      <td>75</td>\n",
       "      <td>5.82</td>\n",
       "      <td>JP</td>\n",
       "      <td>1603135690</td>\n",
       "    </tr>\n",
       "  </tbody>\n",
       "</table>\n",
       "</div>"
      ],
      "text/plain": [
       "      City    Lat     Lng  Max Temp  Humidity  Cloudiness  Wind Speed Country  \\\n",
       "0    bluff -46.60  168.33      50.0        69          93       14.00      NZ   \n",
       "1   albany  42.60  -73.97      61.0        73         100        5.97      US   \n",
       "2   astana  51.18   71.45      32.0        59           0        6.71      KZ   \n",
       "3  mataura -46.19  168.86      50.0        69          94       14.00      NZ   \n",
       "4   hasaki  35.73  140.83      53.6        93          75        5.82      JP   \n",
       "\n",
       "         Date  \n",
       "0  1603135414  \n",
       "1  1603135620  \n",
       "2  1603135494  \n",
       "3  1603135690  \n",
       "4  1603135690  "
      ]
     },
     "execution_count": 36,
     "metadata": {},
     "output_type": "execute_result"
    }
   ],
   "source": [
    "# Save the new df as a csv\n",
    "clean_city_data.to_csv(\"../Output_Data/Clean_City_Data\")\n",
    "\n",
    "# Display the new df\n",
    "clean_city_data.head()"
   ]
  },
  {
   "cell_type": "code",
   "execution_count": null,
   "metadata": {},
   "outputs": [],
   "source": []
  },
  {
   "cell_type": "markdown",
   "metadata": {},
   "source": [
    "## Plotting the Data\n",
    "* Use proper labeling of the plots using plot titles (including date of analysis) and axes labels.\n",
    "* Save the plotted figures as .pngs."
   ]
  },
  {
   "cell_type": "markdown",
   "metadata": {},
   "source": [
    "## Latitude vs. Temperature Plot"
   ]
  },
  {
   "cell_type": "code",
   "execution_count": 37,
   "metadata": {
    "scrolled": true
   },
   "outputs": [
    {
     "data": {
      "image/png": "[encoded data removed]",
      "text/plain": [
       "<Figure size 432x288 with 1 Axes>"
      ]
     },
     "metadata": {
      "needs_background": "light"
     },
     "output_type": "display_data"
    }
   ],
   "source": [
    "plt.scatter(clean_city_data[\"Lat\"],clean_city_data[\"Max Temp\"],edgecolors=\"black\",facecolors=\"lightskyblue\")\n",
    "plt.title(\"City Latitude vs. Max Temperature (04/01/20)\")\n",
    "plt.xlabel(\"Latitude\")\n",
    "plt.ylabel(\"Max Temperature (F)\")\n",
    "plt.grid (True)\n",
    "plt.savefig(\"../Images/Lat_v_Temp.png\")\n",
    "plt.show()"
   ]
  },
  {
   "cell_type": "markdown",
   "metadata": {},
   "source": [
    "## Latitude vs. Humidity Plot"
   ]
  },
  {
   "cell_type": "code",
   "execution_count": 38,
   "metadata": {},
   "outputs": [
    {
     "data": {
      "image/png": "[encoded data removed]",
      "text/plain": [
       "<Figure size 432x288 with 1 Axes>"
      ]
     },
     "metadata": {
      "needs_background": "light"
     },
     "output_type": "display_data"
    }
   ],
   "source": [
    "plt.scatter(clean_city_data[\"Lat\"],clean_city_data[\"Humidity\"],edgecolors=\"black\",facecolors=\"lightskyblue\")\n",
    "plt.title(\"City Latitude vs. Humidity (04/01/20)\")\n",
    "plt.xlabel(\"Latitude\")\n",
    "plt.ylabel(\"Humidity (%)\")\n",
    "plt.grid (True)\n",
    "plt.savefig(\"../Images/Lat_v_Humid.png\")\n",
    "plt.show()"
   ]
  },
  {
   "cell_type": "markdown",
   "metadata": {},
   "source": [
    "## Latitude vs. Cloudiness Plot"
   ]
  },
  {
   "cell_type": "code",
   "execution_count": 39,
   "metadata": {},
   "outputs": [
    {
     "data": {
      "image/png": "[encoded data removed]",
      "text/plain": [
       "<Figure size 432x288 with 1 Axes>"
      ]
     },
     "metadata": {
      "needs_background": "light"
     },
     "output_type": "display_data"
    }
   ],
   "source": [
    "plt.scatter(clean_city_data[\"Lat\"],clean_city_data[\"Cloudiness\"],edgecolors=\"black\",facecolors=\"lightskyblue\")\n",
    "plt.title(\"City Latitude vs. Cloudiness (04/01/20)\")\n",
    "plt.xlabel(\"Latitude\")\n",
    "plt.ylabel(\"Cloudiness (%)\")\n",
    "plt.grid (True)\n",
    "plt.savefig(\"../Images/Lat_v_Cloud.png\")\n",
    "plt.show()"
   ]
  },
  {
   "cell_type": "markdown",
   "metadata": {},
   "source": [
    "## Latitude vs. Wind Speed Plot"
   ]
  },
  {
   "cell_type": "code",
   "execution_count": 40,
   "metadata": {},
   "outputs": [
    {
     "data": {
      "image/png": "[encoded data removed]",
      "text/plain": [
       "<Figure size 432x288 with 1 Axes>"
      ]
     },
     "metadata": {
      "needs_background": "light"
     },
     "output_type": "display_data"
    }
   ],
   "source": [
    "plt.scatter(clean_city_data[\"Lat\"],clean_city_data[\"Wind Speed\"],edgecolors=\"black\",facecolors=\"lightskyblue\")\n",
    "plt.title(\"City Latitude vs. Wind Speed (04/01/20)\")\n",
    "plt.xlabel(\"Latitude\")\n",
    "plt.ylabel(\"WindSpeed (MPH)\")\n",
    "plt.grid (True)\n",
    "plt.savefig(\"../Images/Lat_v_Wind.png\")\n",
    "plt.show()"
   ]
  },
  {
   "cell_type": "markdown",
   "metadata": {},
   "source": [
    "## Linear Regression"
   ]
  },
  {
   "cell_type": "code",
   "execution_count": 41,
   "metadata": {},
   "outputs": [
    {
     "data": {
      "text/html": [
       "<div>\n",
       "<style scoped>\n",
       "    .dataframe tbody tr th:only-of-type {\n",
       "        vertical-align: middle;\n",
       "    }\n",
       "\n",
       "    .dataframe tbody tr th {\n",
       "        vertical-align: top;\n",
       "    }\n",
       "\n",
       "    .dataframe thead th {\n",
       "        text-align: right;\n",
       "    }\n",
       "</style>\n",
       "<table border=\"1\" class=\"dataframe\">\n",
       "  <thead>\n",
       "    <tr style=\"text-align: right;\">\n",
       "      <th></th>\n",
       "      <th>City</th>\n",
       "      <th>Lat</th>\n",
       "      <th>Lng</th>\n",
       "      <th>Max Temp</th>\n",
       "      <th>Humidity</th>\n",
       "      <th>Cloudiness</th>\n",
       "      <th>Wind Speed</th>\n",
       "      <th>Country</th>\n",
       "      <th>Date</th>\n",
       "    </tr>\n",
       "  </thead>\n",
       "  <tbody>\n",
       "    <tr>\n",
       "      <th>1</th>\n",
       "      <td>albany</td>\n",
       "      <td>42.60</td>\n",
       "      <td>-73.97</td>\n",
       "      <td>61.00</td>\n",
       "      <td>73</td>\n",
       "      <td>100</td>\n",
       "      <td>5.97</td>\n",
       "      <td>US</td>\n",
       "      <td>1603135620</td>\n",
       "    </tr>\n",
       "    <tr>\n",
       "      <th>2</th>\n",
       "      <td>astana</td>\n",
       "      <td>51.18</td>\n",
       "      <td>71.45</td>\n",
       "      <td>32.00</td>\n",
       "      <td>59</td>\n",
       "      <td>0</td>\n",
       "      <td>6.71</td>\n",
       "      <td>KZ</td>\n",
       "      <td>1603135494</td>\n",
       "    </tr>\n",
       "    <tr>\n",
       "      <th>4</th>\n",
       "      <td>hasaki</td>\n",
       "      <td>35.73</td>\n",
       "      <td>140.83</td>\n",
       "      <td>53.60</td>\n",
       "      <td>93</td>\n",
       "      <td>75</td>\n",
       "      <td>5.82</td>\n",
       "      <td>JP</td>\n",
       "      <td>1603135690</td>\n",
       "    </tr>\n",
       "    <tr>\n",
       "      <th>6</th>\n",
       "      <td>karpathos</td>\n",
       "      <td>35.51</td>\n",
       "      <td>27.21</td>\n",
       "      <td>71.60</td>\n",
       "      <td>64</td>\n",
       "      <td>20</td>\n",
       "      <td>8.05</td>\n",
       "      <td>GR</td>\n",
       "      <td>1603135691</td>\n",
       "    </tr>\n",
       "    <tr>\n",
       "      <th>9</th>\n",
       "      <td>guerrero negro</td>\n",
       "      <td>27.98</td>\n",
       "      <td>-114.06</td>\n",
       "      <td>85.14</td>\n",
       "      <td>42</td>\n",
       "      <td>0</td>\n",
       "      <td>7.56</td>\n",
       "      <td>MX</td>\n",
       "      <td>1603135691</td>\n",
       "    </tr>\n",
       "  </tbody>\n",
       "</table>\n",
       "</div>"
      ],
      "text/plain": [
       "             City    Lat     Lng  Max Temp  Humidity  Cloudiness  Wind Speed  \\\n",
       "1          albany  42.60  -73.97     61.00        73         100        5.97   \n",
       "2          astana  51.18   71.45     32.00        59           0        6.71   \n",
       "4          hasaki  35.73  140.83     53.60        93          75        5.82   \n",
       "6       karpathos  35.51   27.21     71.60        64          20        8.05   \n",
       "9  guerrero negro  27.98 -114.06     85.14        42           0        7.56   \n",
       "\n",
       "  Country        Date  \n",
       "1      US  1603135620  \n",
       "2      KZ  1603135494  \n",
       "4      JP  1603135690  \n",
       "6      GR  1603135691  \n",
       "9      MX  1603135691  "
      ]
     },
     "execution_count": 41,
     "metadata": {},
     "output_type": "execute_result"
    }
   ],
   "source": [
    "# I am creating all new data frames for each hemishperes, \n",
    "# since i couldn't figure out how to do it any other way,\n",
    "# but this makes it easier for me, and produces same result\n",
    "northern_df = pd.DataFrame(clean_city_data[clean_city_data.Lat >= 0])\n",
    "# Save the new df as a csv\n",
    "clean_city_data.to_csv(\"../Output_Data/Northern_DF\")\n",
    "\n",
    "northern_df.head()"
   ]
  },
  {
   "cell_type": "code",
   "execution_count": 42,
   "metadata": {},
   "outputs": [
    {
     "data": {
      "text/html": [
       "<div>\n",
       "<style scoped>\n",
       "    .dataframe tbody tr th:only-of-type {\n",
       "        vertical-align: middle;\n",
       "    }\n",
       "\n",
       "    .dataframe tbody tr th {\n",
       "        vertical-align: top;\n",
       "    }\n",
       "\n",
       "    .dataframe thead th {\n",
       "        text-align: right;\n",
       "    }\n",
       "</style>\n",
       "<table border=\"1\" class=\"dataframe\">\n",
       "  <thead>\n",
       "    <tr style=\"text-align: right;\">\n",
       "      <th></th>\n",
       "      <th>City</th>\n",
       "      <th>Lat</th>\n",
       "      <th>Lng</th>\n",
       "      <th>Max Temp</th>\n",
       "      <th>Humidity</th>\n",
       "      <th>Cloudiness</th>\n",
       "      <th>Wind Speed</th>\n",
       "      <th>Country</th>\n",
       "      <th>Date</th>\n",
       "    </tr>\n",
       "  </thead>\n",
       "  <tbody>\n",
       "    <tr>\n",
       "      <th>0</th>\n",
       "      <td>bluff</td>\n",
       "      <td>-46.60</td>\n",
       "      <td>168.33</td>\n",
       "      <td>50.00</td>\n",
       "      <td>69</td>\n",
       "      <td>93</td>\n",
       "      <td>14.00</td>\n",
       "      <td>NZ</td>\n",
       "      <td>1603135414</td>\n",
       "    </tr>\n",
       "    <tr>\n",
       "      <th>3</th>\n",
       "      <td>mataura</td>\n",
       "      <td>-46.19</td>\n",
       "      <td>168.86</td>\n",
       "      <td>50.00</td>\n",
       "      <td>69</td>\n",
       "      <td>94</td>\n",
       "      <td>14.00</td>\n",
       "      <td>NZ</td>\n",
       "      <td>1603135690</td>\n",
       "    </tr>\n",
       "    <tr>\n",
       "      <th>5</th>\n",
       "      <td>lorengau</td>\n",
       "      <td>-2.02</td>\n",
       "      <td>147.27</td>\n",
       "      <td>80.17</td>\n",
       "      <td>73</td>\n",
       "      <td>92</td>\n",
       "      <td>1.50</td>\n",
       "      <td>PG</td>\n",
       "      <td>1603135691</td>\n",
       "    </tr>\n",
       "    <tr>\n",
       "      <th>7</th>\n",
       "      <td>port alfred</td>\n",
       "      <td>-33.59</td>\n",
       "      <td>26.89</td>\n",
       "      <td>64.47</td>\n",
       "      <td>89</td>\n",
       "      <td>12</td>\n",
       "      <td>4.85</td>\n",
       "      <td>ZA</td>\n",
       "      <td>1603135425</td>\n",
       "    </tr>\n",
       "    <tr>\n",
       "      <th>8</th>\n",
       "      <td>pocone</td>\n",
       "      <td>-16.26</td>\n",
       "      <td>-56.62</td>\n",
       "      <td>88.79</td>\n",
       "      <td>51</td>\n",
       "      <td>99</td>\n",
       "      <td>9.24</td>\n",
       "      <td>BR</td>\n",
       "      <td>1603135691</td>\n",
       "    </tr>\n",
       "  </tbody>\n",
       "</table>\n",
       "</div>"
      ],
      "text/plain": [
       "          City    Lat     Lng  Max Temp  Humidity  Cloudiness  Wind Speed  \\\n",
       "0        bluff -46.60  168.33     50.00        69          93       14.00   \n",
       "3      mataura -46.19  168.86     50.00        69          94       14.00   \n",
       "5     lorengau  -2.02  147.27     80.17        73          92        1.50   \n",
       "7  port alfred -33.59   26.89     64.47        89          12        4.85   \n",
       "8       pocone -16.26  -56.62     88.79        51          99        9.24   \n",
       "\n",
       "  Country        Date  \n",
       "0      NZ  1603135414  \n",
       "3      NZ  1603135690  \n",
       "5      PG  1603135691  \n",
       "7      ZA  1603135425  \n",
       "8      BR  1603135691  "
      ]
     },
     "execution_count": 42,
     "metadata": {},
     "output_type": "execute_result"
    }
   ],
   "source": [
    "southern_df = pd.DataFrame(clean_city_data[clean_city_data.Lat < 0])\n",
    "# Save the new df as a csv\n",
    "clean_city_data.to_csv(\"../Output_Data/Southern_DF\")\n",
    "\n",
    "southern_df.head()"
   ]
  },
  {
   "cell_type": "markdown",
   "metadata": {},
   "source": [
    "####  Northern Hemisphere - Max Temp vs. Latitude Linear Regression"
   ]
  },
  {
   "cell_type": "code",
   "execution_count": 43,
   "metadata": {},
   "outputs": [
    {
     "name": "stdout",
     "output_type": "stream",
     "text": [
      "The r-value is: -0.8920191044767838\n"
     ]
    },
    {
     "data": {
      "image/png": "[encoded data removed]",
      "text/plain": [
       "<Figure size 432x288 with 1 Axes>"
      ]
     },
     "metadata": {
      "needs_background": "light"
     },
     "output_type": "display_data"
    }
   ],
   "source": [
    "x_values = northern_df['Lat']\n",
    "y_values = northern_df['Max Temp']\n",
    "(slope, intercept, rvalue, pvalue, stderr) = linregress(x_values, y_values)\n",
    "regress_values = x_values * slope + intercept\n",
    "line_eq = \"y = \" + str(round(slope,2)) + \"x + \" + str(round(intercept,2))\n",
    "plt.scatter(x_values,y_values)\n",
    "plt.plot(x_values,regress_values,\"r-\")\n",
    "plt.title('Norther Hemisphere-Max Temp vs Latitude Linear Regression')\n",
    "plt.annotate(line_eq,(20,50),fontsize=15,color=\"red\")\n",
    "plt.xlabel('Latitude')\n",
    "plt.ylabel('Max Temp (F)')\n",
    "print(f\"The r-value is: {rvalue}\")\n",
    "plt.savefig(\"../Images/north_temp.png\")\n",
    "plt.show()"
   ]
  },
  {
   "cell_type": "markdown",
   "metadata": {},
   "source": [
    "####  Southern Hemisphere - Max Temp vs. Latitude Linear Regression"
   ]
  },
  {
   "cell_type": "code",
   "execution_count": 44,
   "metadata": {},
   "outputs": [
    {
     "name": "stdout",
     "output_type": "stream",
     "text": [
      "The r-value is: 0.6989160930222993\n"
     ]
    },
    {
     "data": {
      "image/png": "[encoded data removed]",
      "text/plain": [
       "<Figure size 432x288 with 1 Axes>"
      ]
     },
     "metadata": {
      "needs_background": "light"
     },
     "output_type": "display_data"
    }
   ],
   "source": [
    "x_values = southern_df['Lat']\n",
    "y_values = southern_df['Max Temp']\n",
    "(slope, intercept, rvalue, pvalue, stderr) = linregress(x_values, y_values)\n",
    "regress_values = x_values * slope + intercept\n",
    "line_eq = \"y = \" + str(round(slope,2)) + \"x + \" + str(round(intercept,2))\n",
    "plt.scatter(x_values,y_values)\n",
    "plt.plot(x_values,regress_values,\"r-\")\n",
    "plt.title('Southern Hemisphere-Max Temp vs Latitude Linear Regression')\n",
    "plt.annotate(line_eq,(-50,70),fontsize=15,color=\"red\")\n",
    "plt.xlabel('Latitude')\n",
    "plt.ylabel('Max Temp (F)')\n",
    "print(f\"The r-value is: {rvalue}\")\n",
    "plt.savefig(\"../Images/south_temp.png\")\n",
    "plt.show()"
   ]
  },
  {
   "cell_type": "markdown",
   "metadata": {},
   "source": [
    "####  Northern Hemisphere - Humidity (%) vs. Latitude Linear Regression"
   ]
  },
  {
   "cell_type": "code",
   "execution_count": 45,
   "metadata": {},
   "outputs": [
    {
     "name": "stdout",
     "output_type": "stream",
     "text": [
      "The r-value is: 0.2961175150022407\n"
     ]
    },
    {
     "data": {
      "image/png": "[encoded data removed]",
      "text/plain": [
       "<Figure size 432x288 with 1 Axes>"
      ]
     },
     "metadata": {
      "needs_background": "light"
     },
     "output_type": "display_data"
    }
   ],
   "source": [
    "x_values = northern_df['Lat']\n",
    "y_values = northern_df['Humidity']\n",
    "(slope, intercept, rvalue, pvalue, stderr) = linregress(x_values, y_values)\n",
    "regress_values = x_values * slope + intercept\n",
    "line_eq = \"y = \" + str(round(slope,2)) + \"x + \" + str(round(intercept,2))\n",
    "plt.scatter(x_values,y_values)\n",
    "plt.plot(x_values,regress_values,\"r-\")\n",
    "plt.title('Northern Hemisphere-Humidity vs Latitude Linear Regression')\n",
    "plt.annotate(line_eq,(20,60),fontsize=15,color=\"red\")\n",
    "plt.xlabel('Latitude')\n",
    "plt.ylabel('Humidity (%)')\n",
    "print(f\"The r-value is: {rvalue}\")\n",
    "plt.savefig(\"../Images/north_humid.png\")\n",
    "plt.show()"
   ]
  },
  {
   "cell_type": "markdown",
   "metadata": {},
   "source": [
    "####  Southern Hemisphere - Humidity (%) vs. Latitude Linear Regression"
   ]
  },
  {
   "cell_type": "code",
   "execution_count": 46,
   "metadata": {},
   "outputs": [
    {
     "name": "stdout",
     "output_type": "stream",
     "text": [
      "The r-value is: -0.03383454646623781\n"
     ]
    },
    {
     "data": {
      "image/png": "[encoded data removed]",
      "text/plain": [
       "<Figure size 432x288 with 1 Axes>"
      ]
     },
     "metadata": {
      "needs_background": "light"
     },
     "output_type": "display_data"
    }
   ],
   "source": [
    "x_values = southern_df['Lat']\n",
    "y_values = southern_df['Humidity']\n",
    "(slope, intercept, rvalue, pvalue, stderr) = linregress(x_values, y_values)\n",
    "regress_values = x_values * slope + intercept\n",
    "line_eq = \"y = \" + str(round(slope,2)) + \"x + \" + str(round(intercept,2))\n",
    "plt.scatter(x_values,y_values)\n",
    "plt.plot(x_values,regress_values,\"r-\")\n",
    "plt.title('Southern Hemisphere-Humidity vs Latitude Linear Regression')\n",
    "plt.annotate(line_eq,(-30,60),fontsize=15,color=\"red\")\n",
    "plt.xlabel('Latitude')\n",
    "plt.ylabel('Humidity (%)')\n",
    "print(f\"The r-value is: {rvalue}\")\n",
    "plt.savefig(\"../Images/south_humid.png\")\n",
    "plt.show()"
   ]
  },
  {
   "cell_type": "markdown",
   "metadata": {},
   "source": [
    "####  Northern Hemisphere - Cloudiness (%) vs. Latitude Linear Regression"
   ]
  },
  {
   "cell_type": "code",
   "execution_count": 47,
   "metadata": {},
   "outputs": [
    {
     "name": "stdout",
     "output_type": "stream",
     "text": [
      "The r-value is: 0.18433554085606593\n"
     ]
    },
    {
     "data": {
      "image/png": "[encoded data removed]",
      "text/plain": [
       "<Figure size 432x288 with 1 Axes>"
      ]
     },
     "metadata": {
      "needs_background": "light"
     },
     "output_type": "display_data"
    }
   ],
   "source": [
    "x_values = northern_df['Lat']\n",
    "y_values = northern_df['Cloudiness']\n",
    "(slope, intercept, rvalue, pvalue, stderr) = linregress(x_values, y_values)\n",
    "regress_values = x_values * slope + intercept\n",
    "line_eq = \"y = \" + str(round(slope,2)) + \"x + \" + str(round(intercept,2))\n",
    "plt.scatter(x_values,y_values)\n",
    "plt.plot(x_values,regress_values,\"r-\")\n",
    "plt.title('Northern Hemisphere-Cloudiness vs Latitude Linear Regression')\n",
    "plt.annotate(line_eq,(40,60),fontsize=15,color=\"red\")\n",
    "plt.xlabel('Latitude')\n",
    "plt.ylabel('Cloudiness (%)')\n",
    "print(f\"The r-value is: {rvalue}\")\n",
    "plt.savefig(\"../Images/north_cloud.png\")\n",
    "plt.show()"
   ]
  },
  {
   "cell_type": "markdown",
   "metadata": {},
   "source": [
    "####  Southern Hemisphere - Cloudiness (%) vs. Latitude Linear Regression"
   ]
  },
  {
   "cell_type": "code",
   "execution_count": 48,
   "metadata": {},
   "outputs": [
    {
     "name": "stdout",
     "output_type": "stream",
     "text": [
      "The r-value is: -0.059697901189299706\n"
     ]
    },
    {
     "data": {
      "image/png": "[encoded data removed]",
      "text/plain": [
       "<Figure size 432x288 with 1 Axes>"
      ]
     },
     "metadata": {
      "needs_background": "light"
     },
     "output_type": "display_data"
    }
   ],
   "source": [
    "x_values = southern_df['Lat']\n",
    "y_values = southern_df['Cloudiness']\n",
    "(slope, intercept, rvalue, pvalue, stderr) = linregress(x_values, y_values)\n",
    "regress_values = x_values * slope + intercept\n",
    "line_eq = \"y = \" + str(round(slope,2)) + \"x + \" + str(round(intercept,2))\n",
    "plt.scatter(x_values,y_values)\n",
    "plt.plot(x_values,regress_values,\"r-\")\n",
    "plt.title('Southern Hemisphere-Cloudiness vs Latitude Linear Regression')\n",
    "plt.annotate(line_eq,(-30,60),fontsize=15,color=\"red\")\n",
    "plt.xlabel('Latitude')\n",
    "plt.ylabel('Cloudiness (%)')\n",
    "print(f\"The r-value is: {rvalue}\")\n",
    "plt.savefig(\"../Images/south_cloud.png\")\n",
    "plt.show()"
   ]
  },
  {
   "cell_type": "markdown",
   "metadata": {},
   "source": [
    "####  Northern Hemisphere - Wind Speed (mph) vs. Latitude Linear Regression"
   ]
  },
  {
   "cell_type": "code",
   "execution_count": 49,
   "metadata": {},
   "outputs": [
    {
     "name": "stdout",
     "output_type": "stream",
     "text": [
      "The r-value is: 0.11736256390533657\n"
     ]
    },
    {
     "data": {
      "image/png": "[encoded data removed]",
      "text/plain": [
       "<Figure size 432x288 with 1 Axes>"
      ]
     },
     "metadata": {
      "needs_background": "light"
     },
     "output_type": "display_data"
    }
   ],
   "source": [
    "x_values = northern_df['Lat']\n",
    "y_values = northern_df['Wind Speed']\n",
    "(slope, intercept, rvalue, pvalue, stderr) = linregress(x_values, y_values)\n",
    "regress_values = x_values * slope + intercept\n",
    "line_eq = \"y = \" + str(round(slope,2)) + \"x + \" + str(round(intercept,2))\n",
    "plt.scatter(x_values,y_values)\n",
    "plt.plot(x_values,regress_values,\"r-\")\n",
    "plt.title('Northern Hemisphere-Wind Speed vs Latitude Linear Regression')\n",
    "plt.annotate(line_eq,(40,20),fontsize=15,color=\"red\")\n",
    "plt.xlabel('Latitude')\n",
    "plt.ylabel('Wind Speed (MPH)')\n",
    "print(f\"The r-value is: {rvalue}\")\n",
    "plt.savefig(\"../Images/north_wind.png\")\n",
    "plt.show()"
   ]
  },
  {
   "cell_type": "markdown",
   "metadata": {},
   "source": [
    "####  Southern Hemisphere - Wind Speed (mph) vs. Latitude Linear Regression"
   ]
  },
  {
   "cell_type": "code",
   "execution_count": 50,
   "metadata": {},
   "outputs": [
    {
     "name": "stdout",
     "output_type": "stream",
     "text": [
      "The r-value is: -0.18174098211530523\n"
     ]
    },
    {
     "data": {
      "image/png": "[encoded data removed]",
      "text/plain": [
       "<Figure size 432x288 with 1 Axes>"
      ]
     },
     "metadata": {
      "needs_background": "light"
     },
     "output_type": "display_data"
    }
   ],
   "source": [
    "x_values = southern_df['Lat']\n",
    "y_values = southern_df['Wind Speed']\n",
    "(slope, intercept, rvalue, pvalue, stderr) = linregress(x_values, y_values)\n",
    "regress_values = x_values * slope + intercept\n",
    "line_eq = \"y = \" + str(round(slope,2)) + \"x + \" + str(round(intercept,2))\n",
    "plt.scatter(x_values,y_values)\n",
    "plt.plot(x_values,regress_values,\"r-\")\n",
    "plt.title('Southern Hemisphere-Wind Speed vs Latitude Linear Regression')\n",
    "plt.annotate(line_eq,(-30,15),fontsize=15,color=\"red\")\n",
    "plt.xlabel('Latitude')\n",
    "plt.ylabel('Wind Speed (MPH)')\n",
    "print(f\"The r-value is: {rvalue}\")\n",
    "plt.savefig(\"../Images/south_wind.png\")\n",
    "plt.show()"
   ]
  },
  {
   "cell_type": "code",
   "execution_count": null,
   "metadata": {},
   "outputs": [],
   "source": []
  },
  {
   "cell_type": "code",
   "execution_count": null,
   "metadata": {},
   "outputs": [],
   "source": []
  },
  {
   "cell_type": "code",
   "execution_count": null,
   "metadata": {},
   "outputs": [],
   "source": []
  }
 ],
 "metadata": {
  "anaconda-cloud": {},
  "kernel_info": {
   "name": "python3"
  },
  "kernelspec": {
   "display_name": "Python 3",
   "language": "python",
   "name": "python3"
  },
  "language_info": {
   "codemirror_mode": {
    "name": "ipython",
    "version": 3
   },
   "file_extension": ".py",
   "mimetype": "text/x-python",
   "name": "python",
   "nbconvert_exporter": "python",
   "pygments_lexer": "ipython3",
   "version": "3.8.5"
  },
  "latex_envs": {
   "LaTeX_envs_menu_present": true,
   "autoclose": false,
   "autocomplete": true,
   "bibliofile": "biblio.bib",
   "cite_by": "apalike",
   "current_citInitial": 1,
   "eqLabelWithNumbers": true,
   "eqNumInitial": 1,
   "hotkeys": {
    "equation": "Ctrl-E",
    "itemize": "Ctrl-I"
   },
   "labels_anchors": false,
   "latex_user_defs": false,
   "report_style_numbering": false,
   "user_envs_cfg": false
  },
  "nteract": {
   "version": "0.12.3"
  }
 },
 "nbformat": 4,
 "nbformat_minor": 2
}
