{
 "cells": [
  {
   "cell_type": "markdown",
   "metadata": {},
   "source": [
    "# WeatherPy\n",
    "----\n",
    "\n",
    "#### Note\n",
    "* Instructions have been included for each segment. You do not have to follow them exactly, but they are included to help you think through the steps."
   ]
  },
  {
   "cell_type": "code",
   "execution_count": 62,
   "metadata": {
    "scrolled": true
   },
   "outputs": [],
   "source": [
    "# Import dependencies\n",
    "import pandas as pd\n",
    "import numpy as np\n",
    "import matplotlib.pyplot as plt\n",
    "import requests\n",
    "import time\n",
    "from citipy import citipy\n",
    "from api_keys import api_key\n",
    "from scipy.stats import linregress"
   ]
  },
  {
   "cell_type": "code",
   "execution_count": 63,
   "metadata": {},
   "outputs": [],
   "source": [
    "# Initiate variables\n",
    "temp_type = \"imperial\"\n",
    "query_url = f\"http://api.openweathermap.org/data/2.5/weather?appid={api_key}&units={temp_type}&q=\"\n",
    "\n",
    "# Set the range for lat and lon\n",
    "lat_range = (-90, 90)\n",
    "lon_range = (-180, 180)"
   ]
  },
  {
   "cell_type": "markdown",
   "metadata": {},
   "source": [
    "## Generate Cities List"
   ]
  },
  {
   "cell_type": "code",
   "execution_count": 64,
   "metadata": {},
   "outputs": [
    {
     "data": {
      "text/plain": [
       "615"
      ]
     },
     "execution_count": 64,
     "metadata": {},
     "output_type": "execute_result"
    }
   ],
   "source": [
    "# Create empty lists to store our data\n",
    "lat_lon_list = []\n",
    "cities_list = []\n",
    "\n",
    "# Creat a set of random lats and lons\n",
    "# use random.random or random.unifrom, one auto rounds and one doesnt\n",
    "latitude = np.random.uniform(low = -90, high = 90, size = 1500)\n",
    "longitude = np.random.uniform(low = -180, high = 180, size = 1500)\n",
    "\n",
    "# Zip both sets to your empty list\n",
    "lat_lon_list = zip(latitude, longitude)\n",
    "\n",
    "# Create loop to add random coordinates and cities to their lists\n",
    "# Look up citipy doc\n",
    "for x in lat_lon_list:\n",
    "    city = citipy.nearest_city(x[0], x[1]).city_name\n",
    "    \n",
    "    if city not in cities_list:\n",
    "        cities_list.append(city)\n",
    "        \n",
    "len(cities_list)"
   ]
  },
  {
   "cell_type": "markdown",
   "metadata": {},
   "source": [
    "### Perform API Calls\n",
    "* Perform a weather check on each city using a series of successive API calls.\n",
    "* Include a print log of each city as it'sbeing processed (with the city number and city name).\n"
   ]
  },
  {
   "cell_type": "code",
   "execution_count": 65,
   "metadata": {
    "scrolled": true
   },
   "outputs": [
    {
     "name": "stdout",
     "output_type": "stream",
     "text": [
      "Processing record number 1 in set number 1 | broome\n",
      "Processing record number 2 in set number 1 | fairbanks\n",
      "Processing record number 3 in set number 1 | hermanus\n",
      "Processing record number 4 in set number 1 | norman wells\n",
      "Processing record number 5 in set number 1 | lagoa\n",
      "Processing record number 6 in set number 1 | mackay\n",
      "Processing record number 7 in set number 1 | hobart\n",
      "Processing record number 8 in set number 1 | chokurdakh\n",
      "Processing record number 9 in set number 1 | vaini\n",
      "Processing record number 10 in set number 1 | chuy\n",
      "Processing record number 11 in set number 1 | albany\n",
      "Processing record number 12 in set number 1 | kaseda\n",
      "Processing record number 13 in set number 1 | tuatapere\n",
      "Processing record number 14 in set number 1 | new norfolk\n",
      "Processing record number 15 in set number 1 | hilo\n",
      "Processing record number 16 in set number 1 | high rock\n",
      "City not found. Skipping...\n",
      "Processing record number 17 in set number 1 | tadine\n",
      "Processing record number 18 in set number 1 | castro\n",
      "Processing record number 19 in set number 1 | cockburn town\n",
      "Processing record number 20 in set number 1 | tuktoyaktuk\n",
      "Processing record number 21 in set number 1 | yellowknife\n",
      "Processing record number 22 in set number 1 | east london\n",
      "Processing record number 23 in set number 1 | vila velha\n",
      "Processing record number 24 in set number 1 | kropotkin\n",
      "Processing record number 25 in set number 1 | cadillac\n",
      "Processing record number 26 in set number 1 | punta arenas\n",
      "Processing record number 27 in set number 1 | akyab\n",
      "Processing record number 28 in set number 1 | rikitea\n",
      "City not found. Skipping...\n",
      "Processing record number 29 in set number 1 | cedeno\n",
      "Processing record number 30 in set number 1 | bairiki\n",
      "Processing record number 31 in set number 1 | sakakah\n",
      "City not found. Skipping...\n",
      "Processing record number 32 in set number 1 | lorengau\n",
      "Processing record number 33 in set number 1 | terney\n",
      "Processing record number 34 in set number 1 | ushuaia\n",
      "Processing record number 35 in set number 1 | mahdalynivka\n",
      "Processing record number 36 in set number 1 | bandarbeyla\n",
      "Processing record number 37 in set number 1 | butaritari\n",
      "Processing record number 38 in set number 1 | avarua\n",
      "Processing record number 39 in set number 1 | ulladulla\n",
      "Processing record number 40 in set number 1 | krasnoselkup\n",
      "City not found. Skipping...\n",
      "Processing record number 41 in set number 1 | bocas del toro\n",
      "Processing record number 42 in set number 1 | san cristobal\n",
      "Processing record number 43 in set number 1 | portel\n",
      "Processing record number 44 in set number 1 | kapaa\n",
      "City not found. Skipping...\n",
      "Processing record number 45 in set number 1 | belyy yar\n",
      "Processing record number 46 in set number 1 | chiredzi\n",
      "Processing record number 47 in set number 1 | cape town\n",
      "Processing record number 48 in set number 1 | abilene\n",
      "Processing record number 49 in set number 1 | nemuro\n",
      "Processing record number 1 in set number 2 | lardos\n",
      "City not found. Skipping...\n",
      "Processing record number 2 in set number 2 | san carlos de bariloche\n",
      "City not found. Skipping...\n",
      "Processing record number 3 in set number 2 | stokmarknes\n",
      "Processing record number 4 in set number 2 | esperance\n",
      "Processing record number 5 in set number 2 | port alfred\n",
      "Processing record number 6 in set number 2 | katsuura\n",
      "Processing record number 7 in set number 2 | chapaevsk\n",
      "Processing record number 8 in set number 2 | omboue\n",
      "Processing record number 9 in set number 2 | jamestown\n",
      "Processing record number 10 in set number 2 | narsaq\n",
      "Processing record number 11 in set number 2 | roebourne\n",
      "Processing record number 12 in set number 2 | dikson\n",
      "City not found. Skipping...\n",
      "Processing record number 13 in set number 2 | evanston\n",
      "Processing record number 14 in set number 2 | ariquemes\n",
      "Processing record number 15 in set number 2 | barrow\n",
      "Processing record number 16 in set number 2 | bluff\n",
      "Processing record number 17 in set number 2 | baruun-urt\n",
      "City not found. Skipping...\n",
      "Processing record number 18 in set number 2 | kingaroy\n",
      "Processing record number 19 in set number 2 | tateyama\n",
      "Processing record number 20 in set number 2 | santa maria\n",
      "Processing record number 21 in set number 2 | grants pass\n",
      "Processing record number 22 in set number 2 | takaka\n",
      "Processing record number 23 in set number 2 | arraial do cabo\n",
      "Processing record number 24 in set number 2 | yendi\n",
      "City not found. Skipping...\n",
      "Processing record number 25 in set number 2 | taltal\n",
      "Processing record number 26 in set number 2 | lompoc\n",
      "Processing record number 27 in set number 2 | qaanaaq\n",
      "Processing record number 28 in set number 2 | barguzin\n",
      "Processing record number 29 in set number 2 | atuona\n",
      "Processing record number 30 in set number 2 | salalah\n",
      "Processing record number 31 in set number 2 | longyearbyen\n",
      "Processing record number 32 in set number 2 | kavieng\n",
      "Processing record number 33 in set number 2 | grindavik\n",
      "Processing record number 34 in set number 2 | paramonga\n",
      "Processing record number 35 in set number 2 | vao\n",
      "City not found. Skipping...\n",
      "Processing record number 36 in set number 2 | hovd\n",
      "Processing record number 37 in set number 2 | roros\n",
      "Processing record number 38 in set number 2 | cape canaveral\n",
      "Processing record number 39 in set number 2 | bethel\n",
      "City not found. Skipping...\n",
      "Processing record number 40 in set number 2 | clyde river\n",
      "Processing record number 41 in set number 2 | praya\n",
      "Processing record number 42 in set number 2 | chernyshevskiy\n",
      "Processing record number 43 in set number 2 | kuito\n",
      "Processing record number 44 in set number 2 | nanortalik\n",
      "Processing record number 45 in set number 2 | cabo san lucas\n",
      "City not found. Skipping...\n",
      "Processing record number 46 in set number 2 | lensk\n",
      "Processing record number 47 in set number 2 | busselton\n",
      "Processing record number 48 in set number 2 | roma\n",
      "Processing record number 49 in set number 2 | bubaque\n",
      "Processing record number 1 in set number 3 | dicabisagan\n",
      "Processing record number 2 in set number 3 | codrington\n",
      "Processing record number 3 in set number 3 | nikolskoye\n",
      "Processing record number 4 in set number 3 | georgetown\n",
      "Processing record number 5 in set number 3 | troy\n",
      "Processing record number 6 in set number 3 | along\n",
      "Processing record number 7 in set number 3 | leh\n",
      "Processing record number 8 in set number 3 | saint-philippe\n",
      "Processing record number 9 in set number 3 | lasa\n",
      "Processing record number 10 in set number 3 | aginskoye\n",
      "Processing record number 11 in set number 3 | jeremie\n",
      "Processing record number 12 in set number 3 | isangel\n",
      "City not found. Skipping...\n",
      "Processing record number 13 in set number 3 | sonamukhi\n",
      "Processing record number 14 in set number 3 | sahuaripa\n",
      "Processing record number 15 in set number 3 | serenje\n",
      "Processing record number 16 in set number 3 | hithadhoo\n",
      "Processing record number 17 in set number 3 | kutum\n",
      "Processing record number 18 in set number 3 | srirampur\n",
      "City not found. Skipping...\n",
      "Processing record number 19 in set number 3 | tasiilaq\n",
      "Processing record number 20 in set number 3 | puerto ayora\n",
      "Processing record number 21 in set number 3 | mankono\n",
      "City not found. Skipping...\n",
      "Processing record number 22 in set number 3 | husavik\n",
      "Processing record number 23 in set number 3 | mataura\n",
      "Processing record number 24 in set number 3 | yuanping\n",
      "Processing record number 25 in set number 3 | cidreira\n",
      "City not found. Skipping...\n",
      "City not found. Skipping...\n",
      "Processing record number 26 in set number 3 | hami\n",
      "Processing record number 27 in set number 3 | andenes\n",
      "Processing record number 28 in set number 3 | valdosta\n",
      "Processing record number 29 in set number 3 | acarau\n",
      "City not found. Skipping...\n",
      "Processing record number 30 in set number 3 | campbell river\n",
      "Processing record number 31 in set number 3 | airai\n",
      "City not found. Skipping...\n",
      "City not found. Skipping...\n",
      "Processing record number 32 in set number 3 | half moon bay\n",
      "Processing record number 33 in set number 3 | esso\n",
      "Processing record number 34 in set number 3 | zaranj\n",
      "City not found. Skipping...\n",
      "Processing record number 35 in set number 3 | ponta do sol\n",
      "Processing record number 36 in set number 3 | victoria\n",
      "Processing record number 37 in set number 3 | tucumcari\n",
      "Processing record number 38 in set number 3 | ulaangom\n",
      "Processing record number 39 in set number 3 | xuddur\n",
      "Processing record number 40 in set number 3 | port elizabeth\n",
      "Processing record number 41 in set number 3 | vestmanna\n"
     ]
    },
    {
     "name": "stdout",
     "output_type": "stream",
     "text": [
      "Processing record number 42 in set number 3 | santa fe\n",
      "City not found. Skipping...\n",
      "Processing record number 43 in set number 3 | bhuban\n",
      "Processing record number 44 in set number 3 | plettenberg bay\n",
      "City not found. Skipping...\n",
      "Processing record number 45 in set number 3 | fortuna\n",
      "Processing record number 46 in set number 3 | port hardy\n",
      "Processing record number 47 in set number 3 | kavaratti\n",
      "Processing record number 48 in set number 3 | prince rupert\n",
      "Processing record number 49 in set number 3 | shirokiy\n",
      "Processing record number 1 in set number 4 | saint-pierre\n",
      "Processing record number 2 in set number 4 | paso de carrasco\n",
      "Processing record number 3 in set number 4 | lebu\n",
      "Processing record number 4 in set number 4 | atambua\n",
      "Processing record number 5 in set number 4 | kruisfontein\n",
      "Processing record number 6 in set number 4 | constitucion\n",
      "Processing record number 7 in set number 4 | coria\n",
      "Processing record number 8 in set number 4 | okha\n",
      "Processing record number 9 in set number 4 | upernavik\n",
      "Processing record number 10 in set number 4 | aketi\n",
      "Processing record number 11 in set number 4 | pisco\n",
      "Processing record number 12 in set number 4 | winneba\n",
      "Processing record number 13 in set number 4 | erenhot\n",
      "Processing record number 14 in set number 4 | ilulissat\n",
      "Processing record number 15 in set number 4 | mys shmidta\n",
      "City not found. Skipping...\n",
      "City not found. Skipping...\n",
      "Processing record number 16 in set number 4 | oktyabrskiy\n",
      "Processing record number 17 in set number 4 | hofn\n",
      "Processing record number 18 in set number 4 | oppdal\n",
      "Processing record number 19 in set number 4 | hasaki\n",
      "Processing record number 20 in set number 4 | bredasdorp\n",
      "Processing record number 21 in set number 4 | ribeira grande\n",
      "Processing record number 22 in set number 4 | cherskiy\n",
      "Processing record number 23 in set number 4 | rawson\n",
      "Processing record number 24 in set number 4 | murray bridge\n",
      "Processing record number 25 in set number 4 | katherine\n",
      "Processing record number 26 in set number 4 | kemin\n",
      "Processing record number 27 in set number 4 | emmen\n",
      "Processing record number 28 in set number 4 | sulphur\n",
      "Processing record number 29 in set number 4 | maroua\n",
      "Processing record number 30 in set number 4 | sitka\n",
      "Processing record number 31 in set number 4 | egvekinot\n",
      "Processing record number 32 in set number 4 | mayo\n",
      "Processing record number 33 in set number 4 | tapes\n",
      "City not found. Skipping...\n",
      "Processing record number 34 in set number 4 | barentu\n",
      "Processing record number 35 in set number 4 | wajir\n",
      "Processing record number 36 in set number 4 | lillooet\n",
      "Processing record number 37 in set number 4 | mount pleasant\n",
      "City not found. Skipping...\n",
      "Processing record number 38 in set number 4 | kurtamysh\n",
      "Processing record number 39 in set number 4 | padang\n",
      "Processing record number 40 in set number 4 | khatanga\n",
      "Processing record number 41 in set number 4 | felanitx\n",
      "Processing record number 42 in set number 4 | oro valley\n",
      "Processing record number 43 in set number 4 | talaya\n",
      "Processing record number 44 in set number 4 | kodiak\n",
      "Processing record number 45 in set number 4 | guider\n",
      "City not found. Skipping...\n",
      "Processing record number 46 in set number 4 | praia da vitoria\n",
      "Processing record number 47 in set number 4 | koulamoutou\n",
      "Processing record number 48 in set number 4 | tiksi\n",
      "Processing record number 49 in set number 4 | chulman\n",
      "Processing record number 1 in set number 5 | udachnyy\n",
      "Processing record number 2 in set number 5 | kozhevnikovo\n",
      "Processing record number 3 in set number 5 | eltham\n",
      "Processing record number 4 in set number 5 | mitsamiouli\n",
      "Processing record number 5 in set number 5 | sinjar\n",
      "Processing record number 6 in set number 5 | mizdah\n",
      "Processing record number 7 in set number 5 | jasper\n",
      "Processing record number 8 in set number 5 | namibe\n",
      "Processing record number 9 in set number 5 | alice springs\n",
      "Processing record number 10 in set number 5 | porto novo\n",
      "City not found. Skipping...\n",
      "Processing record number 11 in set number 5 | ilabaya\n",
      "City not found. Skipping...\n",
      "Processing record number 12 in set number 5 | kahului\n",
      "City not found. Skipping...\n",
      "Processing record number 13 in set number 5 | fare\n",
      "Processing record number 14 in set number 5 | madaoua\n",
      "Processing record number 15 in set number 5 | bilma\n",
      "Processing record number 16 in set number 5 | kargopol\n",
      "Processing record number 17 in set number 5 | posse\n",
      "Processing record number 18 in set number 5 | makakilo city\n",
      "Processing record number 19 in set number 5 | lata\n",
      "Processing record number 20 in set number 5 | pevek\n",
      "Processing record number 21 in set number 5 | kakinada\n",
      "Processing record number 22 in set number 5 | brainerd\n",
      "Processing record number 23 in set number 5 | teya\n",
      "Processing record number 24 in set number 5 | brokopondo\n",
      "Processing record number 25 in set number 5 | paita\n",
      "Processing record number 26 in set number 5 | kemijarvi\n",
      "Processing record number 27 in set number 5 | gazanjyk\n",
      "City not found. Skipping...\n",
      "Processing record number 28 in set number 5 | swiecie\n",
      "City not found. Skipping...\n",
      "Processing record number 29 in set number 5 | dingle\n",
      "Processing record number 30 in set number 5 | xinxiang\n",
      "Processing record number 31 in set number 5 | mount gambier\n",
      "City not found. Skipping...\n",
      "Processing record number 32 in set number 5 | carnarvon\n",
      "City not found. Skipping...\n",
      "Processing record number 33 in set number 5 | comarapa\n",
      "Processing record number 34 in set number 5 | banjar\n",
      "Processing record number 35 in set number 5 | bredy\n",
      "Processing record number 36 in set number 5 | ostrovnoy\n",
      "Processing record number 37 in set number 5 | provideniya\n",
      "Processing record number 38 in set number 5 | svetlogorsk\n",
      "Processing record number 39 in set number 5 | bintulu\n",
      "Processing record number 40 in set number 5 | monrovia\n",
      "Processing record number 41 in set number 5 | volda\n",
      "Processing record number 42 in set number 5 | bahia blanca\n",
      "Processing record number 43 in set number 5 | garmsar\n",
      "Processing record number 44 in set number 5 | inuvik\n",
      "Processing record number 45 in set number 5 | sabang\n",
      "Processing record number 46 in set number 5 | sioux falls\n",
      "Processing record number 47 in set number 5 | deer lake\n",
      "Processing record number 48 in set number 5 | krasnogorskoye\n",
      "Processing record number 49 in set number 5 | mar del plata\n",
      "Processing record number 1 in set number 6 | berbera\n",
      "Processing record number 2 in set number 6 | arman\n",
      "Processing record number 3 in set number 6 | caravelas\n",
      "Processing record number 4 in set number 6 | bonthe\n",
      "Processing record number 5 in set number 6 | arlit\n",
      "Processing record number 6 in set number 6 | pyay\n",
      "Processing record number 7 in set number 6 | domoni\n",
      "Processing record number 8 in set number 6 | chabahar\n",
      "Processing record number 9 in set number 6 | ghanzi\n",
      "Processing record number 10 in set number 6 | hermiston\n",
      "Processing record number 11 in set number 6 | oriximina\n",
      "Processing record number 12 in set number 6 | san francisco del mar\n",
      "Processing record number 13 in set number 6 | saint-denis\n",
      "Processing record number 14 in set number 6 | lac-megantic\n",
      "City not found. Skipping...\n",
      "Processing record number 15 in set number 6 | sinazongwe\n",
      "City not found. Skipping...\n",
      "Processing record number 16 in set number 6 | fort nelson\n",
      "Processing record number 17 in set number 6 | tigzirt\n",
      "Processing record number 18 in set number 6 | thompson\n",
      "City not found. Skipping...\n",
      "Processing record number 19 in set number 6 | marawi\n",
      "Processing record number 20 in set number 6 | kasongo-lunda\n",
      "Processing record number 21 in set number 6 | mount isa\n",
      "Processing record number 22 in set number 6 | vardo\n",
      "Processing record number 23 in set number 6 | high level\n",
      "Processing record number 24 in set number 6 | anadyr\n",
      "Processing record number 25 in set number 6 | bengkulu\n",
      "City not found. Skipping...\n",
      "Processing record number 26 in set number 6 | sao filipe\n",
      "Processing record number 27 in set number 6 | iqaluit\n",
      "Processing record number 28 in set number 6 | usinsk\n",
      "Processing record number 29 in set number 6 | hamilton\n",
      "Processing record number 30 in set number 6 | bambous virieux\n",
      "Processing record number 31 in set number 6 | constantine\n",
      "Processing record number 32 in set number 6 | collie\n",
      "Processing record number 33 in set number 6 | iracoubo\n",
      "City not found. Skipping...\n",
      "Processing record number 34 in set number 6 | rocha\n",
      "Processing record number 35 in set number 6 | torbay\n"
     ]
    },
    {
     "name": "stdout",
     "output_type": "stream",
     "text": [
      "Processing record number 36 in set number 6 | gorontalo\n",
      "Processing record number 37 in set number 6 | jalu\n",
      "Processing record number 38 in set number 6 | touros\n",
      "Processing record number 39 in set number 6 | holme\n",
      "Processing record number 40 in set number 6 | ixtapa\n",
      "Processing record number 41 in set number 6 | yulara\n",
      "Processing record number 42 in set number 6 | samarai\n",
      "Processing record number 43 in set number 6 | waipawa\n",
      "Processing record number 44 in set number 6 | lincoln\n",
      "Processing record number 45 in set number 6 | coquimbo\n",
      "Processing record number 46 in set number 6 | nanakuli\n",
      "Processing record number 47 in set number 6 | pimentel\n",
      "Processing record number 48 in set number 6 | russell\n",
      "City not found. Skipping...\n",
      "Processing record number 49 in set number 6 | kidal\n",
      "Processing record number 1 in set number 7 | tautira\n",
      "Processing record number 2 in set number 7 | severo-kurilsk\n",
      "Processing record number 3 in set number 7 | saskylakh\n",
      "City not found. Skipping...\n",
      "Processing record number 4 in set number 7 | saldanha\n",
      "Processing record number 5 in set number 7 | ponta delgada\n",
      "Processing record number 6 in set number 7 | faanui\n",
      "Processing record number 7 in set number 7 | ambam\n",
      "Processing record number 8 in set number 7 | dondo\n",
      "Processing record number 9 in set number 7 | shenjiamen\n",
      "Processing record number 10 in set number 7 | beidao\n",
      "Processing record number 11 in set number 7 | saint-augustin\n",
      "Processing record number 12 in set number 7 | srednekolymsk\n",
      "Processing record number 13 in set number 7 | san luis\n",
      "Processing record number 14 in set number 7 | matara\n",
      "Processing record number 15 in set number 7 | belaya gora\n",
      "Processing record number 16 in set number 7 | puerto madero\n",
      "Processing record number 17 in set number 7 | bemidji\n",
      "Processing record number 18 in set number 7 | bud\n",
      "City not found. Skipping...\n",
      "Processing record number 19 in set number 7 | botwood\n",
      "Processing record number 20 in set number 7 | konstantinovsk\n",
      "Processing record number 21 in set number 7 | aloleng\n",
      "Processing record number 22 in set number 7 | solnechnyy\n",
      "Processing record number 23 in set number 7 | margate\n",
      "Processing record number 24 in set number 7 | nacala\n",
      "Processing record number 25 in set number 7 | port lincoln\n",
      "Processing record number 26 in set number 7 | carberry\n",
      "Processing record number 27 in set number 7 | soyo\n",
      "Processing record number 28 in set number 7 | kirovskiy\n",
      "Processing record number 29 in set number 7 | katobu\n",
      "Processing record number 30 in set number 7 | pacific grove\n",
      "City not found. Skipping...\n",
      "Processing record number 31 in set number 7 | acapulco\n",
      "City not found. Skipping...\n",
      "Processing record number 32 in set number 7 | new iberia\n",
      "Processing record number 33 in set number 7 | neustadt\n",
      "Processing record number 34 in set number 7 | santa isabel do rio negro\n",
      "Processing record number 35 in set number 7 | jaen\n",
      "Processing record number 36 in set number 7 | minot\n",
      "Processing record number 37 in set number 7 | loubomo\n",
      "Processing record number 38 in set number 7 | mahebourg\n",
      "Processing record number 39 in set number 7 | taoudenni\n",
      "Processing record number 40 in set number 7 | termoli\n",
      "Processing record number 41 in set number 7 | necochea\n",
      "Processing record number 42 in set number 7 | cururupu\n",
      "Processing record number 43 in set number 7 | itarema\n",
      "Processing record number 44 in set number 7 | barcelos\n",
      "Processing record number 45 in set number 7 | osakarovka\n",
      "Processing record number 46 in set number 7 | kajaani\n",
      "Processing record number 47 in set number 7 | belmonte\n",
      "Processing record number 48 in set number 7 | mapimi\n",
      "Processing record number 49 in set number 7 | bonavista\n",
      "Processing record number 1 in set number 8 | hambantota\n",
      "Processing record number 2 in set number 8 | ishigaki\n",
      "Processing record number 3 in set number 8 | leningradskiy\n",
      "Processing record number 4 in set number 8 | ushtobe\n",
      "Processing record number 5 in set number 8 | doha\n",
      "Processing record number 6 in set number 8 | kuala terengganu\n",
      "Processing record number 7 in set number 8 | verkhnevilyuysk\n",
      "City not found. Skipping...\n",
      "Processing record number 8 in set number 8 | wundanyi\n",
      "Processing record number 9 in set number 8 | yar-sale\n",
      "Processing record number 10 in set number 8 | lethem\n",
      "Processing record number 11 in set number 8 | gazi\n",
      "Processing record number 12 in set number 8 | brigham city\n",
      "Processing record number 13 in set number 8 | loreto\n",
      "Processing record number 14 in set number 8 | aguimes\n",
      "Processing record number 15 in set number 8 | kargil\n",
      "Processing record number 16 in set number 8 | abalak\n",
      "Processing record number 17 in set number 8 | gawler\n",
      "Processing record number 18 in set number 8 | ancud\n",
      "Processing record number 19 in set number 8 | sept-iles\n",
      "Processing record number 20 in set number 8 | kondinskoye\n",
      "Processing record number 21 in set number 8 | olinda\n",
      "Processing record number 22 in set number 8 | pangody\n",
      "Processing record number 23 in set number 8 | dwarka\n",
      "Processing record number 24 in set number 8 | terrace bay\n",
      "Processing record number 25 in set number 8 | northam\n",
      "Processing record number 26 in set number 8 | westport\n",
      "Processing record number 27 in set number 8 | havelock\n",
      "City not found. Skipping...\n",
      "City not found. Skipping...\n",
      "Processing record number 28 in set number 8 | vanimo\n",
      "Processing record number 29 in set number 8 | nome\n",
      "Processing record number 30 in set number 8 | kirakira\n",
      "Processing record number 31 in set number 8 | fernie\n",
      "Processing record number 32 in set number 8 | kostomuksha\n",
      "Processing record number 33 in set number 8 | pitsunda\n",
      "Processing record number 34 in set number 8 | caceres\n",
      "Processing record number 35 in set number 8 | wanxian\n",
      "Processing record number 36 in set number 8 | grand river south east\n",
      "Processing record number 37 in set number 8 | kieta\n",
      "Processing record number 38 in set number 8 | kattivakkam\n",
      "Processing record number 39 in set number 8 | pombas\n",
      "City not found. Skipping...\n",
      "Processing record number 40 in set number 8 | korla\n",
      "Processing record number 41 in set number 8 | vilhena\n",
      "Processing record number 42 in set number 8 | contamana\n",
      "City not found. Skipping...\n",
      "Processing record number 43 in set number 8 | bogo\n",
      "Processing record number 44 in set number 8 | altamira\n",
      "Processing record number 45 in set number 8 | axim\n",
      "Processing record number 46 in set number 8 | skelleftea\n",
      "Processing record number 47 in set number 8 | sur\n",
      "Processing record number 48 in set number 8 | nantucket\n",
      "City not found. Skipping...\n",
      "Processing record number 49 in set number 8 | kaitangata\n",
      "City not found. Skipping...\n",
      "Processing record number 1 in set number 9 | morondava\n",
      "Processing record number 2 in set number 9 | cayenne\n",
      "City not found. Skipping...\n",
      "Processing record number 3 in set number 9 | berlevag\n",
      "Processing record number 4 in set number 9 | nyurba\n",
      "Processing record number 5 in set number 9 | rotifunk\n",
      "Processing record number 6 in set number 9 | pasni\n",
      "Processing record number 7 in set number 9 | vinkovci\n",
      "Processing record number 8 in set number 9 | havre-saint-pierre\n",
      "Processing record number 9 in set number 9 | yeppoon\n",
      "Processing record number 10 in set number 9 | luanda\n",
      "Processing record number 11 in set number 9 | darnah\n",
      "Processing record number 12 in set number 9 | skjervoy\n",
      "Processing record number 13 in set number 9 | kabare\n",
      "City not found. Skipping...\n",
      "Processing record number 14 in set number 9 | muscat\n",
      "Processing record number 15 in set number 9 | elizabeth city\n",
      "Processing record number 16 in set number 9 | colares\n",
      "Processing record number 17 in set number 9 | grand gaube\n",
      "Processing record number 18 in set number 9 | homer\n",
      "Processing record number 19 in set number 9 | albanel\n",
      "Processing record number 20 in set number 9 | gravdal\n",
      "Processing record number 21 in set number 9 | asau\n",
      "Processing record number 22 in set number 9 | casalmaggiore\n",
      "Processing record number 23 in set number 9 | sao joao da barra\n",
      "Processing record number 24 in set number 9 | marienburg\n",
      "Processing record number 25 in set number 9 | geraldton\n",
      "Processing record number 26 in set number 9 | guerrero negro\n",
      "Processing record number 27 in set number 9 | viedma\n",
      "Processing record number 28 in set number 9 | manga\n",
      "Processing record number 29 in set number 9 | port hedland\n",
      "City not found. Skipping...\n",
      "Processing record number 30 in set number 9 | vilyuysk\n"
     ]
    },
    {
     "name": "stdout",
     "output_type": "stream",
     "text": [
      "Processing record number 31 in set number 9 | mayumba\n",
      "Processing record number 32 in set number 9 | sayat\n",
      "Processing record number 33 in set number 9 | klaksvik\n",
      "Processing record number 34 in set number 9 | iaciara\n",
      "Processing record number 35 in set number 9 | wawa\n",
      "Processing record number 36 in set number 9 | zyryanovsk\n",
      "Processing record number 37 in set number 9 | glendive\n",
      "Processing record number 38 in set number 9 | abomey\n",
      "Processing record number 39 in set number 9 | mnogovershinnyy\n",
      "Processing record number 40 in set number 9 | morgan city\n",
      "Processing record number 41 in set number 9 | novyy karachay\n",
      "Processing record number 42 in set number 9 | mildura\n",
      "Processing record number 43 in set number 9 | urucui\n",
      "Processing record number 44 in set number 9 | sibolga\n",
      "Processing record number 45 in set number 9 | bilibino\n",
      "Processing record number 46 in set number 9 | samana\n",
      "Processing record number 47 in set number 9 | khandyga\n",
      "Processing record number 48 in set number 9 | teguldet\n",
      "Processing record number 49 in set number 9 | vestmannaeyjar\n",
      "Processing record number 1 in set number 10 | bac lieu\n",
      "Processing record number 2 in set number 10 | alofi\n",
      "Processing record number 3 in set number 10 | mufumbwe\n",
      "Processing record number 4 in set number 10 | blagoyevo\n",
      "Processing record number 5 in set number 10 | shache\n",
      "City not found. Skipping...\n",
      "Processing record number 6 in set number 10 | bur gabo\n",
      "Processing record number 7 in set number 10 | sinnamary\n",
      "Processing record number 8 in set number 10 | karachi\n",
      "Processing record number 9 in set number 10 | hue\n",
      "Processing record number 10 in set number 10 | craig\n",
      "Processing record number 11 in set number 10 | deyang\n",
      "Processing record number 12 in set number 10 | yarada\n",
      "Processing record number 13 in set number 10 | glazov\n",
      "Processing record number 14 in set number 10 | zhangye\n",
      "Processing record number 15 in set number 10 | hua hin\n",
      "Processing record number 16 in set number 10 | lazaro cardenas\n",
      "Processing record number 17 in set number 10 | kundiawa\n",
      "Processing record number 18 in set number 10 | vityazevo\n",
      "Processing record number 19 in set number 10 | cetraro\n",
      "Processing record number 20 in set number 10 | sadao\n",
      "City not found. Skipping...\n",
      "Processing record number 21 in set number 10 | nicolas bravo\n",
      "Processing record number 22 in set number 10 | kholtoson\n",
      "Processing record number 23 in set number 10 | dapaong\n",
      "Processing record number 24 in set number 10 | wote\n",
      "City not found. Skipping...\n",
      "Processing record number 25 in set number 10 | manjacaze\n",
      "Processing record number 26 in set number 10 | san policarpo\n",
      "Processing record number 27 in set number 10 | santa cruz cabralia\n",
      "Processing record number 28 in set number 10 | maldonado\n",
      "Processing record number 29 in set number 10 | sarankhola\n",
      "Processing record number 30 in set number 10 | burgeo\n",
      "Processing record number 31 in set number 10 | xichang\n",
      "Processing record number 32 in set number 10 | loncoche\n",
      "Processing record number 33 in set number 10 | bijar\n",
      "Processing record number 34 in set number 10 | evensk\n",
      "Processing record number 35 in set number 10 | sioux lookout\n",
      "Processing record number 36 in set number 10 | corinto\n",
      "Processing record number 37 in set number 10 | nago\n",
      "Processing record number 38 in set number 10 | valer\n",
      "City not found. Skipping...\n",
      "Processing record number 39 in set number 10 | uchaly\n",
      "Processing record number 40 in set number 10 | lavrentiya\n",
      "Processing record number 41 in set number 10 | auki\n",
      "Processing record number 42 in set number 10 | iskateley\n",
      "Processing record number 43 in set number 10 | misratah\n",
      "City not found. Skipping...\n",
      "Processing record number 44 in set number 10 | madison heights\n",
      "Processing record number 45 in set number 10 | souillac\n",
      "Processing record number 46 in set number 10 | huarmey\n",
      "Processing record number 47 in set number 10 | krasnyy chikoy\n",
      "Processing record number 48 in set number 10 | brigantine\n",
      "Processing record number 49 in set number 10 | leshukonskoye\n",
      "Processing record number 1 in set number 11 | beringovskiy\n",
      "Processing record number 2 in set number 11 | alta floresta\n",
      "Processing record number 3 in set number 11 | jumla\n",
      "Processing record number 4 in set number 11 | campos\n",
      "Processing record number 5 in set number 11 | nevsehir\n",
      "City not found. Skipping...\n",
      "Processing record number 6 in set number 11 | podgornoye\n",
      "Processing record number 7 in set number 11 | eyrarbakki\n",
      "Processing record number 8 in set number 11 | simao\n",
      "City not found. Skipping...\n",
      "Processing record number 9 in set number 11 | tiarei\n",
      "Processing record number 10 in set number 11 | stromness\n",
      "Processing record number 11 in set number 11 | ola\n",
      "Processing record number 12 in set number 11 | nenita\n",
      "Processing record number 13 in set number 11 | keetmanshoop\n",
      "Processing record number 14 in set number 11 | asnaes\n",
      "City not found. Skipping...\n",
      "Processing record number 15 in set number 11 | awjilah\n",
      "Processing record number 16 in set number 11 | muroto\n",
      "Processing record number 17 in set number 11 | balaipungut\n",
      "City not found. Skipping...\n",
      "Processing record number 18 in set number 11 | laguna\n",
      "Processing record number 19 in set number 11 | mogocha\n",
      "Processing record number 20 in set number 11 | hualmay\n",
      "Processing record number 21 in set number 11 | gwadar\n",
      "Processing record number 22 in set number 11 | moose factory\n",
      "Processing record number 23 in set number 11 | ust-nera\n",
      "City not found. Skipping...\n",
      "Processing record number 24 in set number 11 | pangnirtung\n",
      "Processing record number 25 in set number 11 | port keats\n",
      "Processing record number 26 in set number 11 | meulaboh\n",
      "Processing record number 27 in set number 11 | requena\n",
      "Processing record number 28 in set number 11 | rio branco\n",
      "Processing record number 29 in set number 11 | san felipe\n",
      "Processing record number 30 in set number 11 | fuxin\n",
      "Processing record number 31 in set number 11 | tilichiki\n",
      "Processing record number 32 in set number 11 | bowen\n",
      "Processing record number 33 in set number 11 | wasilla\n",
      "Processing record number 34 in set number 11 | tuskegee\n",
      "Processing record number 35 in set number 11 | balagansk\n",
      "Processing record number 36 in set number 11 | norilsk\n",
      "Processing record number 37 in set number 11 | nioro\n",
      "City not found. Skipping...\n",
      "Processing record number 38 in set number 11 | dali\n",
      "Processing record number 39 in set number 11 | gat\n",
      "Processing record number 40 in set number 11 | balfour\n",
      "Processing record number 41 in set number 11 | mexico\n",
      "Processing record number 42 in set number 11 | luderitz\n",
      "Processing record number 43 in set number 11 | buala\n",
      "Processing record number 44 in set number 11 | paracuru\n",
      "Processing record number 45 in set number 11 | kamenka\n",
      "Processing record number 46 in set number 11 | mandalgovi\n",
      "Processing record number 47 in set number 11 | mecca\n",
      "Processing record number 48 in set number 11 | minsk\n",
      "Processing record number 49 in set number 11 | merauke\n",
      "Processing record number 1 in set number 12 | zyryanka\n",
      "Processing record number 2 in set number 12 | mbandaka\n",
      "Processing record number 3 in set number 12 | jackson\n",
      "Processing record number 4 in set number 12 | kosai\n",
      "Processing record number 5 in set number 12 | rockport\n",
      "Processing record number 6 in set number 12 | bambanglipuro\n",
      "Processing record number 7 in set number 12 | escanaba\n",
      "Processing record number 8 in set number 12 | kachug\n",
      "City not found. Skipping...\n"
     ]
    }
   ],
   "source": [
    "# Create empty lists for each data set\n",
    "city_name = []\n",
    "lat = []\n",
    "lng = []\n",
    "max_temp = []\n",
    "humidity = []\n",
    "cloudiness = []\n",
    "wind_speed = []\n",
    "country = []\n",
    "date = []\n",
    "\n",
    "records = 0\n",
    "sets = 1\n",
    "# loop through response data\n",
    "for city in cities_list:\n",
    "    try:\n",
    "        # API Calls\n",
    "        response = requests.get(query_url + city.replace(\" \", \"&\")).json()\n",
    "        \n",
    "        # Apeend all those empty lists with data from loop\n",
    "        lat.append(response['coord']['lat'])\n",
    "        lng.append(response['coord']['lon'])\n",
    "        max_temp.append(response['main']['temp_max'])\n",
    "        humidity.append(response['main']['humidity'])\n",
    "        cloudiness.append(response['clouds']['all'])\n",
    "        wind_speed.append(response['wind']['speed'])\n",
    "        country.append(response['sys']['country'])\n",
    "        date.append(response['dt'])\n",
    "        \n",
    "        # Create if statement, add counts, and append\n",
    "        if records > 48:\n",
    "            records = 1\n",
    "            sets += 1\n",
    "            city_name.append(city)\n",
    "        else:\n",
    "            records += 1\n",
    "            city_name.append(city)\n",
    "        print(f\"Processing record number {records} in set number {sets} | {city}\")\n",
    "    except:\n",
    "        print(\"City not found. Skipping...\")\n"
   ]
  },
  {
   "cell_type": "markdown",
   "metadata": {},
   "source": [
    "### Convert Raw Data to DataFrame\n",
    "* Export the city data into a .csv.\n",
    "* Display the DataFrame"
   ]
  },
  {
   "cell_type": "code",
   "execution_count": 66,
   "metadata": {},
   "outputs": [
    {
     "data": {
      "text/html": [
       "<div>\n",
       "<style scoped>\n",
       "    .dataframe tbody tr th:only-of-type {\n",
       "        vertical-align: middle;\n",
       "    }\n",
       "\n",
       "    .dataframe tbody tr th {\n",
       "        vertical-align: top;\n",
       "    }\n",
       "\n",
       "    .dataframe thead th {\n",
       "        text-align: right;\n",
       "    }\n",
       "</style>\n",
       "<table border=\"1\" class=\"dataframe\">\n",
       "  <thead>\n",
       "    <tr style=\"text-align: right;\">\n",
       "      <th></th>\n",
       "      <th>City</th>\n",
       "      <th>Lat</th>\n",
       "      <th>Lng</th>\n",
       "      <th>Max Temp</th>\n",
       "      <th>Humidity</th>\n",
       "      <th>Cloudiness</th>\n",
       "      <th>Wind Speed</th>\n",
       "      <th>Country</th>\n",
       "      <th>Date</th>\n",
       "    </tr>\n",
       "  </thead>\n",
       "  <tbody>\n",
       "    <tr>\n",
       "      <th>0</th>\n",
       "      <td>broome</td>\n",
       "      <td>42.25</td>\n",
       "      <td>-75.83</td>\n",
       "      <td>50.00</td>\n",
       "      <td>39</td>\n",
       "      <td>1</td>\n",
       "      <td>3.89</td>\n",
       "      <td>US</td>\n",
       "      <td>1602973875</td>\n",
       "    </tr>\n",
       "    <tr>\n",
       "      <th>1</th>\n",
       "      <td>fairbanks</td>\n",
       "      <td>64.84</td>\n",
       "      <td>-147.72</td>\n",
       "      <td>27.00</td>\n",
       "      <td>38</td>\n",
       "      <td>75</td>\n",
       "      <td>3.36</td>\n",
       "      <td>US</td>\n",
       "      <td>1602973802</td>\n",
       "    </tr>\n",
       "    <tr>\n",
       "      <th>2</th>\n",
       "      <td>hermanus</td>\n",
       "      <td>-34.42</td>\n",
       "      <td>19.23</td>\n",
       "      <td>55.00</td>\n",
       "      <td>92</td>\n",
       "      <td>32</td>\n",
       "      <td>4.68</td>\n",
       "      <td>ZA</td>\n",
       "      <td>1602973876</td>\n",
       "    </tr>\n",
       "    <tr>\n",
       "      <th>3</th>\n",
       "      <td>norman wells</td>\n",
       "      <td>35.22</td>\n",
       "      <td>-97.44</td>\n",
       "      <td>75.20</td>\n",
       "      <td>41</td>\n",
       "      <td>1</td>\n",
       "      <td>16.11</td>\n",
       "      <td>US</td>\n",
       "      <td>1602973876</td>\n",
       "    </tr>\n",
       "    <tr>\n",
       "      <th>4</th>\n",
       "      <td>lagoa</td>\n",
       "      <td>39.05</td>\n",
       "      <td>-27.98</td>\n",
       "      <td>62.29</td>\n",
       "      <td>66</td>\n",
       "      <td>60</td>\n",
       "      <td>17.13</td>\n",
       "      <td>PT</td>\n",
       "      <td>1602973622</td>\n",
       "    </tr>\n",
       "  </tbody>\n",
       "</table>\n",
       "</div>"
      ],
      "text/plain": [
       "           City    Lat     Lng  Max Temp  Humidity  Cloudiness  Wind Speed  \\\n",
       "0        broome  42.25  -75.83     50.00        39           1        3.89   \n",
       "1     fairbanks  64.84 -147.72     27.00        38          75        3.36   \n",
       "2      hermanus -34.42   19.23     55.00        92          32        4.68   \n",
       "3  norman wells  35.22  -97.44     75.20        41           1       16.11   \n",
       "4         lagoa  39.05  -27.98     62.29        66          60       17.13   \n",
       "\n",
       "  Country        Date  \n",
       "0      US  1602973875  \n",
       "1      US  1602973802  \n",
       "2      ZA  1602973876  \n",
       "3      US  1602973876  \n",
       "4      PT  1602973622  "
      ]
     },
     "execution_count": 66,
     "metadata": {},
     "output_type": "execute_result"
    }
   ],
   "source": [
    "# Create a dictionary to store the results\n",
    "weather_data = {\n",
    "    \"City\": city_name,\n",
    "    \"Lat\": lat,\n",
    "    \"Lng\": lng,\n",
    "    \"Max Temp\": max_temp,\n",
    "    \"Humidity\": humidity,\n",
    "    \"Cloudiness\": cloudiness,\n",
    "    \"Wind Speed\": wind_speed,\n",
    "    \"Country\": country,\n",
    "    \"Date\": date\n",
    "}\n",
    "\n",
    "weather_df = pd.DataFrame(weather_data)\n",
    "\n",
    "weather_df.head()"
   ]
  },
  {
   "cell_type": "code",
   "execution_count": 67,
   "metadata": {},
   "outputs": [],
   "source": [
    "weather_df.to_csv(\"../Output_Data/Weather_Data\")"
   ]
  },
  {
   "cell_type": "code",
   "execution_count": 68,
   "metadata": {},
   "outputs": [
    {
     "data": {
      "text/html": [
       "<div>\n",
       "<style scoped>\n",
       "    .dataframe tbody tr th:only-of-type {\n",
       "        vertical-align: middle;\n",
       "    }\n",
       "\n",
       "    .dataframe tbody tr th {\n",
       "        vertical-align: top;\n",
       "    }\n",
       "\n",
       "    .dataframe thead th {\n",
       "        text-align: right;\n",
       "    }\n",
       "</style>\n",
       "<table border=\"1\" class=\"dataframe\">\n",
       "  <thead>\n",
       "    <tr style=\"text-align: right;\">\n",
       "      <th></th>\n",
       "      <th>Lat</th>\n",
       "      <th>Lng</th>\n",
       "      <th>Max Temp</th>\n",
       "      <th>Humidity</th>\n",
       "      <th>Cloudiness</th>\n",
       "      <th>Wind Speed</th>\n",
       "      <th>Date</th>\n",
       "    </tr>\n",
       "  </thead>\n",
       "  <tbody>\n",
       "    <tr>\n",
       "      <th>count</th>\n",
       "      <td>547.000000</td>\n",
       "      <td>547.000000</td>\n",
       "      <td>547.000000</td>\n",
       "      <td>547.000000</td>\n",
       "      <td>547.000000</td>\n",
       "      <td>547.000000</td>\n",
       "      <td>5.470000e+02</td>\n",
       "    </tr>\n",
       "    <tr>\n",
       "      <th>mean</th>\n",
       "      <td>23.964936</td>\n",
       "      <td>17.894186</td>\n",
       "      <td>59.722834</td>\n",
       "      <td>71.201097</td>\n",
       "      <td>50.224863</td>\n",
       "      <td>7.803492</td>\n",
       "      <td>1.602974e+09</td>\n",
       "    </tr>\n",
       "    <tr>\n",
       "      <th>std</th>\n",
       "      <td>31.533197</td>\n",
       "      <td>88.047922</td>\n",
       "      <td>19.849310</td>\n",
       "      <td>22.295628</td>\n",
       "      <td>38.356181</td>\n",
       "      <td>5.593034</td>\n",
       "      <td>1.585081e+02</td>\n",
       "    </tr>\n",
       "    <tr>\n",
       "      <th>min</th>\n",
       "      <td>-54.800000</td>\n",
       "      <td>-179.170000</td>\n",
       "      <td>3.630000</td>\n",
       "      <td>1.000000</td>\n",
       "      <td>0.000000</td>\n",
       "      <td>0.360000</td>\n",
       "      <td>1.602973e+09</td>\n",
       "    </tr>\n",
       "    <tr>\n",
       "      <th>25%</th>\n",
       "      <td>-1.885000</td>\n",
       "      <td>-55.260000</td>\n",
       "      <td>44.770000</td>\n",
       "      <td>59.000000</td>\n",
       "      <td>5.000000</td>\n",
       "      <td>3.725000</td>\n",
       "      <td>1.602974e+09</td>\n",
       "    </tr>\n",
       "    <tr>\n",
       "      <th>50%</th>\n",
       "      <td>30.800000</td>\n",
       "      <td>18.450000</td>\n",
       "      <td>62.580000</td>\n",
       "      <td>78.000000</td>\n",
       "      <td>53.000000</td>\n",
       "      <td>5.990000</td>\n",
       "      <td>1.602974e+09</td>\n",
       "    </tr>\n",
       "    <tr>\n",
       "      <th>75%</th>\n",
       "      <td>49.815000</td>\n",
       "      <td>92.765000</td>\n",
       "      <td>77.000000</td>\n",
       "      <td>88.000000</td>\n",
       "      <td>90.000000</td>\n",
       "      <td>10.290000</td>\n",
       "      <td>1.602974e+09</td>\n",
       "    </tr>\n",
       "    <tr>\n",
       "      <th>max</th>\n",
       "      <td>78.220000</td>\n",
       "      <td>179.320000</td>\n",
       "      <td>96.130000</td>\n",
       "      <td>100.000000</td>\n",
       "      <td>100.000000</td>\n",
       "      <td>33.820000</td>\n",
       "      <td>1.602974e+09</td>\n",
       "    </tr>\n",
       "  </tbody>\n",
       "</table>\n",
       "</div>"
      ],
      "text/plain": [
       "              Lat         Lng    Max Temp    Humidity  Cloudiness  Wind Speed  \\\n",
       "count  547.000000  547.000000  547.000000  547.000000  547.000000  547.000000   \n",
       "mean    23.964936   17.894186   59.722834   71.201097   50.224863    7.803492   \n",
       "std     31.533197   88.047922   19.849310   22.295628   38.356181    5.593034   \n",
       "min    -54.800000 -179.170000    3.630000    1.000000    0.000000    0.360000   \n",
       "25%     -1.885000  -55.260000   44.770000   59.000000    5.000000    3.725000   \n",
       "50%     30.800000   18.450000   62.580000   78.000000   53.000000    5.990000   \n",
       "75%     49.815000   92.765000   77.000000   88.000000   90.000000   10.290000   \n",
       "max     78.220000  179.320000   96.130000  100.000000  100.000000   33.820000   \n",
       "\n",
       "               Date  \n",
       "count  5.470000e+02  \n",
       "mean   1.602974e+09  \n",
       "std    1.585081e+02  \n",
       "min    1.602973e+09  \n",
       "25%    1.602974e+09  \n",
       "50%    1.602974e+09  \n",
       "75%    1.602974e+09  \n",
       "max    1.602974e+09  "
      ]
     },
     "execution_count": 68,
     "metadata": {},
     "output_type": "execute_result"
    }
   ],
   "source": [
    "weather_df.describe()"
   ]
  },
  {
   "cell_type": "code",
   "execution_count": null,
   "metadata": {},
   "outputs": [],
   "source": []
  },
  {
   "cell_type": "markdown",
   "metadata": {},
   "source": [
    "## Inspect the data and remove the cities where the humidity > 100%.\n",
    "----\n",
    "Skip this step if there are no cities that have humidity > 100%. "
   ]
  },
  {
   "cell_type": "code",
   "execution_count": 69,
   "metadata": {},
   "outputs": [
    {
     "data": {
      "text/plain": [
       "100"
      ]
     },
     "execution_count": 69,
     "metadata": {},
     "output_type": "execute_result"
    }
   ],
   "source": [
    "weather_df[\"Humidity\"].max()\n",
    "# There are no cities GREATER than 100% humidity, the max is 100%."
   ]
  },
  {
   "cell_type": "code",
   "execution_count": 70,
   "metadata": {},
   "outputs": [
    {
     "name": "stdout",
     "output_type": "stream",
     "text": [
      "The lower quartile of humidity is: 59.0\n",
      "The upper quartile of humidity is: 88.0\n",
      "The interquartile range of humidity is: 29.0\n",
      "The the median of humidity is: 78.0 \n",
      "Values below 15.5 could be outliers.\n",
      "Values above 131.5 could be outliers.\n"
     ]
    }
   ],
   "source": [
    "# Make a new DataFrame equal to the city data to drop all humidity outliers by index.\n",
    "# Passing \"inplace=False\" will make a copy of the city_data DataFrame, which we call \"clean_city_data\".\n",
    "quartiles = weather_df['Humidity'].quantile([.25,.5,.75])\n",
    "lowerq = quartiles[0.25]\n",
    "upperq = quartiles[0.75]\n",
    "iqr = upperq-lowerq\n",
    "\n",
    "print(f\"The lower quartile of humidity is: {lowerq}\")\n",
    "print(f\"The upper quartile of humidity is: {upperq}\")\n",
    "print(f\"The interquartile range of humidity is: {iqr}\")\n",
    "print(f\"The the median of humidity is: {quartiles[0.5]} \")\n",
    "\n",
    "lower_bound = lowerq - (1.5*iqr)\n",
    "upper_bound = upperq + (1.5*iqr)\n",
    "print(f\"Values below {lower_bound} could be outliers.\")\n",
    "print(f\"Values above {upper_bound} could be outliers.\")"
   ]
  },
  {
   "cell_type": "code",
   "execution_count": 71,
   "metadata": {},
   "outputs": [
    {
     "data": {
      "text/plain": [
       "City          539\n",
       "Lat           539\n",
       "Lng           539\n",
       "Max Temp      539\n",
       "Humidity      539\n",
       "Cloudiness    539\n",
       "Wind Speed    539\n",
       "Country       539\n",
       "Date          539\n",
       "dtype: int64"
      ]
     },
     "execution_count": 71,
     "metadata": {},
     "output_type": "execute_result"
    }
   ],
   "source": [
    "# Remove outliers\n",
    "clean_city_data = pd.DataFrame(weather_df[weather_df.Humidity >= 15.5])\n",
    "clean_city_data.count()"
   ]
  },
  {
   "cell_type": "code",
   "execution_count": 72,
   "metadata": {},
   "outputs": [
    {
     "data": {
      "text/html": [
       "<div>\n",
       "<style scoped>\n",
       "    .dataframe tbody tr th:only-of-type {\n",
       "        vertical-align: middle;\n",
       "    }\n",
       "\n",
       "    .dataframe tbody tr th {\n",
       "        vertical-align: top;\n",
       "    }\n",
       "\n",
       "    .dataframe thead th {\n",
       "        text-align: right;\n",
       "    }\n",
       "</style>\n",
       "<table border=\"1\" class=\"dataframe\">\n",
       "  <thead>\n",
       "    <tr style=\"text-align: right;\">\n",
       "      <th></th>\n",
       "      <th>City</th>\n",
       "      <th>Lat</th>\n",
       "      <th>Lng</th>\n",
       "      <th>Max Temp</th>\n",
       "      <th>Humidity</th>\n",
       "      <th>Cloudiness</th>\n",
       "      <th>Wind Speed</th>\n",
       "      <th>Country</th>\n",
       "      <th>Date</th>\n",
       "    </tr>\n",
       "  </thead>\n",
       "  <tbody>\n",
       "    <tr>\n",
       "      <th>0</th>\n",
       "      <td>broome</td>\n",
       "      <td>42.25</td>\n",
       "      <td>-75.83</td>\n",
       "      <td>50.00</td>\n",
       "      <td>39</td>\n",
       "      <td>1</td>\n",
       "      <td>3.89</td>\n",
       "      <td>US</td>\n",
       "      <td>1602973875</td>\n",
       "    </tr>\n",
       "    <tr>\n",
       "      <th>1</th>\n",
       "      <td>fairbanks</td>\n",
       "      <td>64.84</td>\n",
       "      <td>-147.72</td>\n",
       "      <td>27.00</td>\n",
       "      <td>38</td>\n",
       "      <td>75</td>\n",
       "      <td>3.36</td>\n",
       "      <td>US</td>\n",
       "      <td>1602973802</td>\n",
       "    </tr>\n",
       "    <tr>\n",
       "      <th>2</th>\n",
       "      <td>hermanus</td>\n",
       "      <td>-34.42</td>\n",
       "      <td>19.23</td>\n",
       "      <td>55.00</td>\n",
       "      <td>92</td>\n",
       "      <td>32</td>\n",
       "      <td>4.68</td>\n",
       "      <td>ZA</td>\n",
       "      <td>1602973876</td>\n",
       "    </tr>\n",
       "    <tr>\n",
       "      <th>3</th>\n",
       "      <td>norman wells</td>\n",
       "      <td>35.22</td>\n",
       "      <td>-97.44</td>\n",
       "      <td>75.20</td>\n",
       "      <td>41</td>\n",
       "      <td>1</td>\n",
       "      <td>16.11</td>\n",
       "      <td>US</td>\n",
       "      <td>1602973876</td>\n",
       "    </tr>\n",
       "    <tr>\n",
       "      <th>4</th>\n",
       "      <td>lagoa</td>\n",
       "      <td>39.05</td>\n",
       "      <td>-27.98</td>\n",
       "      <td>62.29</td>\n",
       "      <td>66</td>\n",
       "      <td>60</td>\n",
       "      <td>17.13</td>\n",
       "      <td>PT</td>\n",
       "      <td>1602973622</td>\n",
       "    </tr>\n",
       "  </tbody>\n",
       "</table>\n",
       "</div>"
      ],
      "text/plain": [
       "           City    Lat     Lng  Max Temp  Humidity  Cloudiness  Wind Speed  \\\n",
       "0        broome  42.25  -75.83     50.00        39           1        3.89   \n",
       "1     fairbanks  64.84 -147.72     27.00        38          75        3.36   \n",
       "2      hermanus -34.42   19.23     55.00        92          32        4.68   \n",
       "3  norman wells  35.22  -97.44     75.20        41           1       16.11   \n",
       "4         lagoa  39.05  -27.98     62.29        66          60       17.13   \n",
       "\n",
       "  Country        Date  \n",
       "0      US  1602973875  \n",
       "1      US  1602973802  \n",
       "2      ZA  1602973876  \n",
       "3      US  1602973876  \n",
       "4      PT  1602973622  "
      ]
     },
     "execution_count": 72,
     "metadata": {},
     "output_type": "execute_result"
    }
   ],
   "source": [
    "# Save the new df as a csv\n",
    "clean_city_data.to_csv(\"../Output_Data/Clean_City_Data\")\n",
    "\n",
    "# Display the new df\n",
    "clean_city_data.head()"
   ]
  },
  {
   "cell_type": "code",
   "execution_count": null,
   "metadata": {},
   "outputs": [],
   "source": []
  },
  {
   "cell_type": "markdown",
   "metadata": {},
   "source": [
    "## Plotting the Data\n",
    "* Use proper labeling of the plots using plot titles (including date of analysis) and axes labels.\n",
    "* Save the plotted figures as .pngs."
   ]
  },
  {
   "cell_type": "markdown",
   "metadata": {},
   "source": [
    "## Latitude vs. Temperature Plot"
   ]
  },
  {
   "cell_type": "code",
   "execution_count": 73,
   "metadata": {
    "scrolled": true
   },
   "outputs": [
    {
     "data": {
      "image/png": "[encoded data removed]",
      "text/plain": [
       "<Figure size 432x288 with 1 Axes>"
      ]
     },
     "metadata": {
      "needs_background": "light"
     },
     "output_type": "display_data"
    }
   ],
   "source": [
    "plt.scatter(clean_city_data[\"Lat\"],clean_city_data[\"Max Temp\"],edgecolors=\"black\",facecolors=\"lightskyblue\")\n",
    "plt.title(\"City Latitude vs. Max Temperature (04/01/20)\")\n",
    "plt.xlabel(\"Latitude\")\n",
    "plt.ylabel(\"Max Temperature (F)\")\n",
    "plt.grid (True)\n",
    "plt.savefig(\"../Images/Lat_v_Temp.png\")\n",
    "plt.show()"
   ]
  },
  {
   "cell_type": "markdown",
   "metadata": {},
   "source": [
    "## Latitude vs. Humidity Plot"
   ]
  },
  {
   "cell_type": "code",
   "execution_count": 74,
   "metadata": {},
   "outputs": [
    {
     "data": {
      "image/png": "[encoded data removed]",
      "text/plain": [
       "<Figure size 432x288 with 1 Axes>"
      ]
     },
     "metadata": {
      "needs_background": "light"
     },
     "output_type": "display_data"
    }
   ],
   "source": [
    "plt.scatter(clean_city_data[\"Lat\"],clean_city_data[\"Humidity\"],edgecolors=\"black\",facecolors=\"lightskyblue\")\n",
    "plt.title(\"City Latitude vs. Humidity (04/01/20)\")\n",
    "plt.xlabel(\"Latitude\")\n",
    "plt.ylabel(\"Humidity (%)\")\n",
    "plt.grid (True)\n",
    "plt.savefig(\"../Images/Lat_v_Humid.png\")\n",
    "plt.show()"
   ]
  },
  {
   "cell_type": "markdown",
   "metadata": {},
   "source": [
    "## Latitude vs. Cloudiness Plot"
   ]
  },
  {
   "cell_type": "code",
   "execution_count": 75,
   "metadata": {},
   "outputs": [
    {
     "data": {
      "image/png": "[encoded data removed]",
      "text/plain": [
       "<Figure size 432x288 with 1 Axes>"
      ]
     },
     "metadata": {
      "needs_background": "light"
     },
     "output_type": "display_data"
    }
   ],
   "source": [
    "plt.scatter(clean_city_data[\"Lat\"],clean_city_data[\"Cloudiness\"],edgecolors=\"black\",facecolors=\"lightskyblue\")\n",
    "plt.title(\"City Latitude vs. Cloudiness (04/01/20)\")\n",
    "plt.xlabel(\"Latitude\")\n",
    "plt.ylabel(\"Cloudiness (%)\")\n",
    "plt.grid (True)\n",
    "plt.savefig(\"../Images/Lat_v_Cloud.png\")\n",
    "plt.show()"
   ]
  },
  {
   "cell_type": "markdown",
   "metadata": {},
   "source": [
    "## Latitude vs. Wind Speed Plot"
   ]
  },
  {
   "cell_type": "code",
   "execution_count": 76,
   "metadata": {},
   "outputs": [
    {
     "data": {
      "image/png": "[encoded data removed]",
      "text/plain": [
       "<Figure size 432x288 with 1 Axes>"
      ]
     },
     "metadata": {
      "needs_background": "light"
     },
     "output_type": "display_data"
    }
   ],
   "source": [
    "plt.scatter(clean_city_data[\"Lat\"],clean_city_data[\"Wind Speed\"],edgecolors=\"black\",facecolors=\"lightskyblue\")\n",
    "plt.title(\"City Latitude vs. Wind Speed (04/01/20)\")\n",
    "plt.xlabel(\"Latitude\")\n",
    "plt.ylabel(\"WindSpeed (MPH)\")\n",
    "plt.grid (True)\n",
    "plt.savefig(\"../Images/Lat_v_Wind.png\")\n",
    "plt.show()"
   ]
  },
  {
   "cell_type": "markdown",
   "metadata": {},
   "source": [
    "## Linear Regression"
   ]
  },
  {
   "cell_type": "code",
   "execution_count": 77,
   "metadata": {},
   "outputs": [
    {
     "data": {
      "text/html": [
       "<div>\n",
       "<style scoped>\n",
       "    .dataframe tbody tr th:only-of-type {\n",
       "        vertical-align: middle;\n",
       "    }\n",
       "\n",
       "    .dataframe tbody tr th {\n",
       "        vertical-align: top;\n",
       "    }\n",
       "\n",
       "    .dataframe thead th {\n",
       "        text-align: right;\n",
       "    }\n",
       "</style>\n",
       "<table border=\"1\" class=\"dataframe\">\n",
       "  <thead>\n",
       "    <tr style=\"text-align: right;\">\n",
       "      <th></th>\n",
       "      <th>City</th>\n",
       "      <th>Lat</th>\n",
       "      <th>Lng</th>\n",
       "      <th>Max Temp</th>\n",
       "      <th>Humidity</th>\n",
       "      <th>Cloudiness</th>\n",
       "      <th>Wind Speed</th>\n",
       "      <th>Country</th>\n",
       "      <th>Date</th>\n",
       "    </tr>\n",
       "  </thead>\n",
       "  <tbody>\n",
       "    <tr>\n",
       "      <th>0</th>\n",
       "      <td>broome</td>\n",
       "      <td>42.25</td>\n",
       "      <td>-75.83</td>\n",
       "      <td>50.00</td>\n",
       "      <td>39</td>\n",
       "      <td>1</td>\n",
       "      <td>3.89</td>\n",
       "      <td>US</td>\n",
       "      <td>1602973875</td>\n",
       "    </tr>\n",
       "    <tr>\n",
       "      <th>1</th>\n",
       "      <td>fairbanks</td>\n",
       "      <td>64.84</td>\n",
       "      <td>-147.72</td>\n",
       "      <td>27.00</td>\n",
       "      <td>38</td>\n",
       "      <td>75</td>\n",
       "      <td>3.36</td>\n",
       "      <td>US</td>\n",
       "      <td>1602973802</td>\n",
       "    </tr>\n",
       "    <tr>\n",
       "      <th>3</th>\n",
       "      <td>norman wells</td>\n",
       "      <td>35.22</td>\n",
       "      <td>-97.44</td>\n",
       "      <td>75.20</td>\n",
       "      <td>41</td>\n",
       "      <td>1</td>\n",
       "      <td>16.11</td>\n",
       "      <td>US</td>\n",
       "      <td>1602973876</td>\n",
       "    </tr>\n",
       "    <tr>\n",
       "      <th>4</th>\n",
       "      <td>lagoa</td>\n",
       "      <td>39.05</td>\n",
       "      <td>-27.98</td>\n",
       "      <td>62.29</td>\n",
       "      <td>66</td>\n",
       "      <td>60</td>\n",
       "      <td>17.13</td>\n",
       "      <td>PT</td>\n",
       "      <td>1602973622</td>\n",
       "    </tr>\n",
       "    <tr>\n",
       "      <th>7</th>\n",
       "      <td>chokurdakh</td>\n",
       "      <td>70.63</td>\n",
       "      <td>147.92</td>\n",
       "      <td>24.17</td>\n",
       "      <td>98</td>\n",
       "      <td>100</td>\n",
       "      <td>3.69</td>\n",
       "      <td>RU</td>\n",
       "      <td>1602973548</td>\n",
       "    </tr>\n",
       "  </tbody>\n",
       "</table>\n",
       "</div>"
      ],
      "text/plain": [
       "           City    Lat     Lng  Max Temp  Humidity  Cloudiness  Wind Speed  \\\n",
       "0        broome  42.25  -75.83     50.00        39           1        3.89   \n",
       "1     fairbanks  64.84 -147.72     27.00        38          75        3.36   \n",
       "3  norman wells  35.22  -97.44     75.20        41           1       16.11   \n",
       "4         lagoa  39.05  -27.98     62.29        66          60       17.13   \n",
       "7    chokurdakh  70.63  147.92     24.17        98         100        3.69   \n",
       "\n",
       "  Country        Date  \n",
       "0      US  1602973875  \n",
       "1      US  1602973802  \n",
       "3      US  1602973876  \n",
       "4      PT  1602973622  \n",
       "7      RU  1602973548  "
      ]
     },
     "execution_count": 77,
     "metadata": {},
     "output_type": "execute_result"
    }
   ],
   "source": [
    "# I am creating all new data frames for each hemishperes, \n",
    "# since i couldn't figure out how to do it any other way,\n",
    "# but this makes it easier for me, and produces same result\n",
    "northern_df = pd.DataFrame(clean_city_data[clean_city_data.Lat >= 0])\n",
    "# Save the new df as a csv\n",
    "clean_city_data.to_csv(\"../Output_Data/Northern_DF\")\n",
    "\n",
    "northern_df.head()"
   ]
  },
  {
   "cell_type": "code",
   "execution_count": 78,
   "metadata": {},
   "outputs": [
    {
     "data": {
      "text/html": [
       "<div>\n",
       "<style scoped>\n",
       "    .dataframe tbody tr th:only-of-type {\n",
       "        vertical-align: middle;\n",
       "    }\n",
       "\n",
       "    .dataframe tbody tr th {\n",
       "        vertical-align: top;\n",
       "    }\n",
       "\n",
       "    .dataframe thead th {\n",
       "        text-align: right;\n",
       "    }\n",
       "</style>\n",
       "<table border=\"1\" class=\"dataframe\">\n",
       "  <thead>\n",
       "    <tr style=\"text-align: right;\">\n",
       "      <th></th>\n",
       "      <th>City</th>\n",
       "      <th>Lat</th>\n",
       "      <th>Lng</th>\n",
       "      <th>Max Temp</th>\n",
       "      <th>Humidity</th>\n",
       "      <th>Cloudiness</th>\n",
       "      <th>Wind Speed</th>\n",
       "      <th>Country</th>\n",
       "      <th>Date</th>\n",
       "    </tr>\n",
       "  </thead>\n",
       "  <tbody>\n",
       "    <tr>\n",
       "      <th>2</th>\n",
       "      <td>hermanus</td>\n",
       "      <td>-34.42</td>\n",
       "      <td>19.23</td>\n",
       "      <td>55.00</td>\n",
       "      <td>92</td>\n",
       "      <td>32</td>\n",
       "      <td>4.68</td>\n",
       "      <td>ZA</td>\n",
       "      <td>1602973876</td>\n",
       "    </tr>\n",
       "    <tr>\n",
       "      <th>5</th>\n",
       "      <td>mackay</td>\n",
       "      <td>-21.15</td>\n",
       "      <td>149.20</td>\n",
       "      <td>75.99</td>\n",
       "      <td>69</td>\n",
       "      <td>47</td>\n",
       "      <td>5.82</td>\n",
       "      <td>AU</td>\n",
       "      <td>1602973856</td>\n",
       "    </tr>\n",
       "    <tr>\n",
       "      <th>6</th>\n",
       "      <td>hobart</td>\n",
       "      <td>-42.88</td>\n",
       "      <td>147.33</td>\n",
       "      <td>48.99</td>\n",
       "      <td>81</td>\n",
       "      <td>75</td>\n",
       "      <td>9.17</td>\n",
       "      <td>AU</td>\n",
       "      <td>1602973063</td>\n",
       "    </tr>\n",
       "    <tr>\n",
       "      <th>8</th>\n",
       "      <td>vaini</td>\n",
       "      <td>-21.20</td>\n",
       "      <td>-175.20</td>\n",
       "      <td>78.80</td>\n",
       "      <td>83</td>\n",
       "      <td>40</td>\n",
       "      <td>12.75</td>\n",
       "      <td>TO</td>\n",
       "      <td>1602973877</td>\n",
       "    </tr>\n",
       "    <tr>\n",
       "      <th>9</th>\n",
       "      <td>chuy</td>\n",
       "      <td>-33.70</td>\n",
       "      <td>-53.46</td>\n",
       "      <td>65.57</td>\n",
       "      <td>76</td>\n",
       "      <td>99</td>\n",
       "      <td>11.03</td>\n",
       "      <td>UY</td>\n",
       "      <td>1602973630</td>\n",
       "    </tr>\n",
       "  </tbody>\n",
       "</table>\n",
       "</div>"
      ],
      "text/plain": [
       "       City    Lat     Lng  Max Temp  Humidity  Cloudiness  Wind Speed  \\\n",
       "2  hermanus -34.42   19.23     55.00        92          32        4.68   \n",
       "5    mackay -21.15  149.20     75.99        69          47        5.82   \n",
       "6    hobart -42.88  147.33     48.99        81          75        9.17   \n",
       "8     vaini -21.20 -175.20     78.80        83          40       12.75   \n",
       "9      chuy -33.70  -53.46     65.57        76          99       11.03   \n",
       "\n",
       "  Country        Date  \n",
       "2      ZA  1602973876  \n",
       "5      AU  1602973856  \n",
       "6      AU  1602973063  \n",
       "8      TO  1602973877  \n",
       "9      UY  1602973630  "
      ]
     },
     "execution_count": 78,
     "metadata": {},
     "output_type": "execute_result"
    }
   ],
   "source": [
    "southern_df = pd.DataFrame(clean_city_data[clean_city_data.Lat < 0])\n",
    "# Save the new df as a csv\n",
    "clean_city_data.to_csv(\"../Output_Data/Southern_DF\")\n",
    "\n",
    "southern_df.head()"
   ]
  },
  {
   "cell_type": "markdown",
   "metadata": {},
   "source": [
    "####  Northern Hemisphere - Max Temp vs. Latitude Linear Regression"
   ]
  },
  {
   "cell_type": "code",
   "execution_count": 79,
   "metadata": {},
   "outputs": [
    {
     "name": "stdout",
     "output_type": "stream",
     "text": [
      "The r-value is: -0.881563530197278\n"
     ]
    },
    {
     "data": {
      "image/png": "[encoded data removed]",
      "text/plain": [
       "<Figure size 432x288 with 1 Axes>"
      ]
     },
     "metadata": {
      "needs_background": "light"
     },
     "output_type": "display_data"
    }
   ],
   "source": [
    "x_values = northern_df['Lat']\n",
    "y_values = northern_df['Max Temp']\n",
    "(slope, intercept, rvalue, pvalue, stderr) = linregress(x_values, y_values)\n",
    "regress_values = x_values * slope + intercept\n",
    "line_eq = \"y = \" + str(round(slope,2)) + \"x + \" + str(round(intercept,2))\n",
    "plt.scatter(x_values,y_values)\n",
    "plt.plot(x_values,regress_values,\"r-\")\n",
    "plt.title('Norther Hemisphere-Max Temp vs Latitude Linear Regression')\n",
    "plt.annotate(line_eq,(20,50),fontsize=15,color=\"red\")\n",
    "plt.xlabel('Latitude')\n",
    "plt.ylabel('Max Temp (F)')\n",
    "print(f\"The r-value is: {rvalue}\")\n",
    "plt.savefig(\"../Images/north_temp.png\")\n",
    "plt.show()"
   ]
  },
  {
   "cell_type": "markdown",
   "metadata": {},
   "source": [
    "####  Southern Hemisphere - Max Temp vs. Latitude Linear Regression"
   ]
  },
  {
   "cell_type": "code",
   "execution_count": 80,
   "metadata": {},
   "outputs": [
    {
     "name": "stdout",
     "output_type": "stream",
     "text": [
      "The r-value is: 0.7445969120560126\n"
     ]
    },
    {
     "data": {
      "image/png": "[encoded data removed]",
      "text/plain": [
       "<Figure size 432x288 with 1 Axes>"
      ]
     },
     "metadata": {
      "needs_background": "light"
     },
     "output_type": "display_data"
    }
   ],
   "source": [
    "x_values = southern_df['Lat']\n",
    "y_values = southern_df['Max Temp']\n",
    "(slope, intercept, rvalue, pvalue, stderr) = linregress(x_values, y_values)\n",
    "regress_values = x_values * slope + intercept\n",
    "line_eq = \"y = \" + str(round(slope,2)) + \"x + \" + str(round(intercept,2))\n",
    "plt.scatter(x_values,y_values)\n",
    "plt.plot(x_values,regress_values,\"r-\")\n",
    "plt.title('Southern Hemisphere-Max Temp vs Latitude Linear Regression')\n",
    "plt.annotate(line_eq,(-50,70),fontsize=15,color=\"red\")\n",
    "plt.xlabel('Latitude')\n",
    "plt.ylabel('Max Temp (F)')\n",
    "print(f\"The r-value is: {rvalue}\")\n",
    "plt.savefig(\"../Images/south_temp.png\")\n",
    "plt.show()"
   ]
  },
  {
   "cell_type": "markdown",
   "metadata": {},
   "source": [
    "####  Northern Hemisphere - Humidity (%) vs. Latitude Linear Regression"
   ]
  },
  {
   "cell_type": "code",
   "execution_count": 81,
   "metadata": {},
   "outputs": [
    {
     "name": "stdout",
     "output_type": "stream",
     "text": [
      "The r-value is: 0.20141737411436317\n"
     ]
    },
    {
     "data": {
      "image/png": "[encoded data removed]",
      "text/plain": [
       "<Figure size 432x288 with 1 Axes>"
      ]
     },
     "metadata": {
      "needs_background": "light"
     },
     "output_type": "display_data"
    }
   ],
   "source": [
    "x_values = northern_df['Lat']\n",
    "y_values = northern_df['Humidity']\n",
    "(slope, intercept, rvalue, pvalue, stderr) = linregress(x_values, y_values)\n",
    "regress_values = x_values * slope + intercept\n",
    "line_eq = \"y = \" + str(round(slope,2)) + \"x + \" + str(round(intercept,2))\n",
    "plt.scatter(x_values,y_values)\n",
    "plt.plot(x_values,regress_values,\"r-\")\n",
    "plt.title('Northern Hemisphere-Humidity vs Latitude Linear Regression')\n",
    "plt.annotate(line_eq,(20,60),fontsize=15,color=\"red\")\n",
    "plt.xlabel('Latitude')\n",
    "plt.ylabel('Humidity (%)')\n",
    "print(f\"The r-value is: {rvalue}\")\n",
    "plt.savefig(\"../Images/north_humid.png\")\n",
    "plt.show()"
   ]
  },
  {
   "cell_type": "markdown",
   "metadata": {},
   "source": [
    "####  Southern Hemisphere - Humidity (%) vs. Latitude Linear Regression"
   ]
  },
  {
   "cell_type": "code",
   "execution_count": 82,
   "metadata": {},
   "outputs": [
    {
     "name": "stdout",
     "output_type": "stream",
     "text": [
      "The r-value is: 0.03672432979275402\n"
     ]
    },
    {
     "data": {
      "image/png": "[encoded data removed]",
      "text/plain": [
       "<Figure size 432x288 with 1 Axes>"
      ]
     },
     "metadata": {
      "needs_background": "light"
     },
     "output_type": "display_data"
    }
   ],
   "source": [
    "x_values = southern_df['Lat']\n",
    "y_values = southern_df['Humidity']\n",
    "(slope, intercept, rvalue, pvalue, stderr) = linregress(x_values, y_values)\n",
    "regress_values = x_values * slope + intercept\n",
    "line_eq = \"y = \" + str(round(slope,2)) + \"x + \" + str(round(intercept,2))\n",
    "plt.scatter(x_values,y_values)\n",
    "plt.plot(x_values,regress_values,\"r-\")\n",
    "plt.title('Southern Hemisphere-Humidity vs Latitude Linear Regression')\n",
    "plt.annotate(line_eq,(-30,60),fontsize=15,color=\"red\")\n",
    "plt.xlabel('Latitude')\n",
    "plt.ylabel('Humidity (%)')\n",
    "print(f\"The r-value is: {rvalue}\")\n",
    "plt.savefig(\"../Images/south_humid.png\")\n",
    "plt.show()"
   ]
  },
  {
   "cell_type": "markdown",
   "metadata": {},
   "source": [
    "####  Northern Hemisphere - Cloudiness (%) vs. Latitude Linear Regression"
   ]
  },
  {
   "cell_type": "code",
   "execution_count": 83,
   "metadata": {},
   "outputs": [
    {
     "name": "stdout",
     "output_type": "stream",
     "text": [
      "The r-value is: 0.14007402726127294\n"
     ]
    },
    {
     "data": {
      "image/png": "[encoded data removed]",
      "text/plain": [
       "<Figure size 432x288 with 1 Axes>"
      ]
     },
     "metadata": {
      "needs_background": "light"
     },
     "output_type": "display_data"
    }
   ],
   "source": [
    "x_values = northern_df['Lat']\n",
    "y_values = northern_df['Cloudiness']\n",
    "(slope, intercept, rvalue, pvalue, stderr) = linregress(x_values, y_values)\n",
    "regress_values = x_values * slope + intercept\n",
    "line_eq = \"y = \" + str(round(slope,2)) + \"x + \" + str(round(intercept,2))\n",
    "plt.scatter(x_values,y_values)\n",
    "plt.plot(x_values,regress_values,\"r-\")\n",
    "plt.title('Northern Hemisphere-Cloudiness vs Latitude Linear Regression')\n",
    "plt.annotate(line_eq,(40,60),fontsize=15,color=\"red\")\n",
    "plt.xlabel('Latitude')\n",
    "plt.ylabel('Cloudiness (%)')\n",
    "print(f\"The r-value is: {rvalue}\")\n",
    "plt.savefig(\"../Images/north_cloud.png\")\n",
    "plt.show()"
   ]
  },
  {
   "cell_type": "markdown",
   "metadata": {},
   "source": [
    "####  Southern Hemisphere - Cloudiness (%) vs. Latitude Linear Regression"
   ]
  },
  {
   "cell_type": "code",
   "execution_count": 84,
   "metadata": {},
   "outputs": [
    {
     "name": "stdout",
     "output_type": "stream",
     "text": [
      "The r-value is: 0.06847619104867138\n"
     ]
    },
    {
     "data": {
      "image/png": "[encoded data removed]",
      "text/plain": [
       "<Figure size 432x288 with 1 Axes>"
      ]
     },
     "metadata": {
      "needs_background": "light"
     },
     "output_type": "display_data"
    }
   ],
   "source": [
    "x_values = southern_df['Lat']\n",
    "y_values = southern_df['Cloudiness']\n",
    "(slope, intercept, rvalue, pvalue, stderr) = linregress(x_values, y_values)\n",
    "regress_values = x_values * slope + intercept\n",
    "line_eq = \"y = \" + str(round(slope,2)) + \"x + \" + str(round(intercept,2))\n",
    "plt.scatter(x_values,y_values)\n",
    "plt.plot(x_values,regress_values,\"r-\")\n",
    "plt.title('Southern Hemisphere-Cloudiness vs Latitude Linear Regression')\n",
    "plt.annotate(line_eq,(-30,60),fontsize=15,color=\"red\")\n",
    "plt.xlabel('Latitude')\n",
    "plt.ylabel('Cloudiness (%)')\n",
    "print(f\"The r-value is: {rvalue}\")\n",
    "plt.savefig(\"../Images/south_cloud.png\")\n",
    "plt.show()"
   ]
  },
  {
   "cell_type": "markdown",
   "metadata": {},
   "source": [
    "####  Northern Hemisphere - Wind Speed (mph) vs. Latitude Linear Regression"
   ]
  },
  {
   "cell_type": "code",
   "execution_count": 85,
   "metadata": {},
   "outputs": [
    {
     "name": "stdout",
     "output_type": "stream",
     "text": [
      "The r-value is: 0.19832497620663297\n"
     ]
    },
    {
     "data": {
      "image/png": "[encoded data removed]",
      "text/plain": [
       "<Figure size 432x288 with 1 Axes>"
      ]
     },
     "metadata": {
      "needs_background": "light"
     },
     "output_type": "display_data"
    }
   ],
   "source": [
    "x_values = northern_df['Lat']\n",
    "y_values = northern_df['Wind Speed']\n",
    "(slope, intercept, rvalue, pvalue, stderr) = linregress(x_values, y_values)\n",
    "regress_values = x_values * slope + intercept\n",
    "line_eq = \"y = \" + str(round(slope,2)) + \"x + \" + str(round(intercept,2))\n",
    "plt.scatter(x_values,y_values)\n",
    "plt.plot(x_values,regress_values,\"r-\")\n",
    "plt.title('Northern Hemisphere-Wind Speed vs Latitude Linear Regression')\n",
    "plt.annotate(line_eq,(40,20),fontsize=15,color=\"red\")\n",
    "plt.xlabel('Latitude')\n",
    "plt.ylabel('Wind Speed (MPH)')\n",
    "print(f\"The r-value is: {rvalue}\")\n",
    "plt.savefig(\"../Images/north_wind.png\")\n",
    "plt.show()"
   ]
  },
  {
   "cell_type": "markdown",
   "metadata": {},
   "source": [
    "####  Southern Hemisphere - Wind Speed (mph) vs. Latitude Linear Regression"
   ]
  },
  {
   "cell_type": "code",
   "execution_count": 86,
   "metadata": {},
   "outputs": [
    {
     "name": "stdout",
     "output_type": "stream",
     "text": [
      "The r-value is: -0.1915185667261202\n"
     ]
    },
    {
     "data": {
      "image/png": "[encoded data removed]",
      "text/plain": [
       "<Figure size 432x288 with 1 Axes>"
      ]
     },
     "metadata": {
      "needs_background": "light"
     },
     "output_type": "display_data"
    },
    {
     "data": {
      "text/plain": [
       "<Figure size 432x288 with 0 Axes>"
      ]
     },
     "metadata": {},
     "output_type": "display_data"
    }
   ],
   "source": [
    "x_values = southern_df['Lat']\n",
    "y_values = southern_df['Wind Speed']\n",
    "(slope, intercept, rvalue, pvalue, stderr) = linregress(x_values, y_values)\n",
    "regress_values = x_values * slope + intercept\n",
    "line_eq = \"y = \" + str(round(slope,2)) + \"x + \" + str(round(intercept,2))\n",
    "plt.scatter(x_values,y_values)\n",
    "plt.plot(x_values,regress_values,\"r-\")\n",
    "plt.title('Southern Hemisphere-Wind Speed vs Latitude Linear Regression')\n",
    "plt.annotate(line_eq,(-30,15),fontsize=15,color=\"red\")\n",
    "plt.xlabel('Latitude')\n",
    "plt.ylabel('Wind Speed (MPH)')\n",
    "print(f\"The r-value is: {rvalue}\")\n",
    "plt.show()\n",
    "plt.savefig(\"../Images/south_wind.png\")"
   ]
  },
  {
   "cell_type": "code",
   "execution_count": null,
   "metadata": {},
   "outputs": [],
   "source": []
  }
 ],
 "metadata": {
  "anaconda-cloud": {},
  "kernel_info": {
   "name": "python3"
  },
  "kernelspec": {
   "display_name": "Python 3",
   "language": "python",
   "name": "python3"
  },
  "language_info": {
   "codemirror_mode": {
    "name": "ipython",
    "version": 3
   },
   "file_extension": ".py",
   "mimetype": "text/x-python",
   "name": "python",
   "nbconvert_exporter": "python",
   "pygments_lexer": "ipython3",
   "version": "3.8.5"
  },
  "latex_envs": {
   "LaTeX_envs_menu_present": true,
   "autoclose": false,
   "autocomplete": true,
   "bibliofile": "biblio.bib",
   "cite_by": "apalike",
   "current_citInitial": 1,
   "eqLabelWithNumbers": true,
   "eqNumInitial": 1,
   "hotkeys": {
    "equation": "Ctrl-E",
    "itemize": "Ctrl-I"
   },
   "labels_anchors": false,
   "latex_user_defs": false,
   "report_style_numbering": false,
   "user_envs_cfg": false
  },
  "nteract": {
   "version": "0.12.3"
  }
 },
 "nbformat": 4,
 "nbformat_minor": 2
}
