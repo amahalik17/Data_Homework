{
 "cells": [
  {
   "cell_type": "markdown",
   "metadata": {},
   "source": [
    "# WeatherPy\n",
    "----\n",
    "\n",
    "#### Analysis and Observations\n",
    "* In this project, I generate a random list of more than 500 cities across the world of varying distance from the equator. The purpose of this study is to determine if there is a correlation betwen cloudiness and latitude, humidity and latitude, wind speed and latitude, and temperature and latitude. I do this by first creating scater plots that display any relationships between the four focuses of study. Then I run linear regression on each relationship, only this time separating them into Northern Hemisphere (greater than or equal to 0 degrees latitude) and Southern Hemisphere (less than 0 degrees latitude). I removed any outliers before analysing this data.\n",
    "\n",
    "\n",
    "### ----------------------------------------------------\n",
    "\n",
    "##### Observations:\n",
    "* In the scatter plot displaying Temperature (F) vs. Latitude in the Northern Hemisphere, I can conclude that there is a very strong negative correlation between the them, and the plot shows clearly that the lower the latitude(lowest value being 0), the higher the max temperature is. The higher the latitude, the lower the max temperature.\n",
    "\n",
    "* In the scatter plot displaying Temperature (F) vs. Latitude in the Southern Hemisphere, I can conclude that there is a strong positive correlation between them, and the correlation is not as strong as the northern hemisphere plot, but still strong. It is clear that the higher the latitude, the higher the max temperature is. \n",
    "\n",
    "* The farther north you go, in the northern hemisphere(away from the equator), the lower the temperature.\n",
    "* The farther north you go, in the southern hemisphere(towards the equator), the higher the temperature.\n",
    "\n",
    "### ----------------------------------------------------\n",
    "\n",
    "##### Observations:\n",
    "* In the scatter plot displaying Humidity (%) vs. Latitude in the Northern Hemisphere, I can conclude that there is a weak negative correlation between them, and the data points are more spread out.\n",
    "\n",
    "* In the scatter plot displaying Humidity (%) vs. Latitude in the Southern Hemisphere, I can conclude that there is basicly no correlation between them, and the data is spread out.\n",
    "\n",
    "* In both hemispheres, there are weak negative correlations between the humidty (%) and latitude.\n",
    "\n",
    "### -----------------------------------------------------\n",
    "\n",
    "##### Observations:\n",
    "* In the scatter plot displaying Cloudiness (%) vs. Latitude in the Northern Hemisphere, I can conclude that there is a very weak positive correlation between them, and the data points are spread out .\n",
    "\n",
    "* In the scatter plot displaying Cloudiness (%) vs. Latitude in the Southern Hemisphere, I can conclude that there is basicly no correlation between them. If any correlation, it is negative, but very weak, and the data is as spread out.\n",
    "\n",
    "* In both hemishperes, there is very week to no correlation between the cloudiness (%) and the latitude.\n",
    "\n",
    "### -----------------------------------------------------\n",
    "\n",
    "##### Observations:\n",
    "* In the scatter plot displaying Wind Speed (MPH) vs. Latitude in the Northern Hemisphere, I can conclude that there is a very weak positive correlation between them, and the data is spread out.\n",
    "\n",
    "* In the scatter plot displaying Wind Speed (MPH) vs. Latitude in the Southern Hemisphere, I can conclude that there is weak negative correlation between them, and you can see that the higher the latitude(max of 0), the lower the wind speed, but it is a very week negative sorrelation.\n",
    "\n",
    "* In both hemishperes there is weak correlations between the wind seed (mph) and the latitude.\n",
    "\n",
    "### -----------------------------------------------------\n"
   ]
  },
  {
   "cell_type": "code",
   "execution_count": 1,
   "metadata": {
    "scrolled": true
   },
   "outputs": [],
   "source": [
    "# Import dependencies\n",
    "import pandas as pd\n",
    "import numpy as np\n",
    "import matplotlib.pyplot as plt\n",
    "import requests\n",
    "import time\n",
    "from citipy import citipy\n",
    "from api_keys import api_key\n",
    "from scipy.stats import linregress"
   ]
  },
  {
   "cell_type": "code",
   "execution_count": 2,
   "metadata": {},
   "outputs": [],
   "source": [
    "# Initiate variables and query address\n",
    "temp_type = \"imperial\"\n",
    "query_url = f\"http://api.openweathermap.org/data/2.5/weather?appid={api_key}&units={temp_type}&q=\"\n",
    "\n",
    "# Set the range for lat and lon\n",
    "lat_range = (-90, 90)\n",
    "lon_range = (-180, 180)"
   ]
  },
  {
   "cell_type": "markdown",
   "metadata": {},
   "source": [
    "## Generate Cities List"
   ]
  },
  {
   "cell_type": "code",
   "execution_count": 3,
   "metadata": {},
   "outputs": [
    {
     "data": {
      "text/plain": [
       "619"
      ]
     },
     "execution_count": 3,
     "metadata": {},
     "output_type": "execute_result"
    }
   ],
   "source": [
    "# Create empty lists to store our data\n",
    "lat_lon_list = []\n",
    "cities_list = []\n",
    "\n",
    "# Creat a set of random lats and lons\n",
    "# use random.random or random.unifrom, one auto rounds and one doesnt\n",
    "latitude = np.random.uniform(low = -90, high = 90, size = 1500)\n",
    "longitude = np.random.uniform(low = -180, high = 180, size = 1500)\n",
    "\n",
    "# Zip both sets to your empty list\n",
    "lat_lon_list = zip(latitude, longitude)\n",
    "\n",
    "# Create loop to add random coordinates and cities to their lists\n",
    "# Look up citipy documentation\n",
    "for x in lat_lon_list:\n",
    "    city = citipy.nearest_city(x[0], x[1]).city_name\n",
    "    \n",
    "    if city not in cities_list:\n",
    "        cities_list.append(city)\n",
    "        \n",
    "len(cities_list)"
   ]
  },
  {
   "cell_type": "markdown",
   "metadata": {},
   "source": [
    "### Perform API Calls\n",
    "* Perform a weather check on each city using a series of successive API calls.\n",
    "* Include a print log of each city as it'sbeing processed (with the city number and city name).\n"
   ]
  },
  {
   "cell_type": "code",
   "execution_count": 4,
   "metadata": {
    "scrolled": true
   },
   "outputs": [
    {
     "name": "stdout",
     "output_type": "stream",
     "text": [
      "Processing record number 1 in set number 1 | ushuaia\n",
      "Processing record number 2 in set number 1 | katsuura\n",
      "Processing record number 3 in set number 1 | mongo\n",
      "Processing record number 4 in set number 1 | cap malheureux\n",
      "Processing record number 5 in set number 1 | chokurdakh\n",
      "Processing record number 6 in set number 1 | hobart\n",
      "Processing record number 7 in set number 1 | ondjiva\n",
      "Processing record number 8 in set number 1 | hermanus\n",
      "Processing record number 9 in set number 1 | hambantota\n",
      "Processing record number 10 in set number 1 | port alfred\n",
      "Processing record number 11 in set number 1 | nanortalik\n",
      "Processing record number 12 in set number 1 | kafanchan\n",
      "Processing record number 13 in set number 1 | cascais\n",
      "Processing record number 14 in set number 1 | hithadhoo\n",
      "Processing record number 15 in set number 1 | san cristobal\n",
      "Processing record number 16 in set number 1 | samarai\n",
      "Processing record number 17 in set number 1 | manadhoo\n",
      "Processing record number 18 in set number 1 | karratha\n",
      "Processing record number 19 in set number 1 | dingle\n",
      "Processing record number 20 in set number 1 | atuona\n",
      "Processing record number 21 in set number 1 | dikson\n",
      "Processing record number 22 in set number 1 | punta arenas\n",
      "Processing record number 23 in set number 1 | fort abbas\n",
      "Processing record number 24 in set number 1 | rikitea\n",
      "Processing record number 25 in set number 1 | bilibino\n",
      "Processing record number 26 in set number 1 | busselton\n",
      "City not found. Skipping...\n",
      "Processing record number 27 in set number 1 | camocim\n",
      "Processing record number 28 in set number 1 | pevek\n",
      "Processing record number 29 in set number 1 | bluff\n",
      "Processing record number 30 in set number 1 | norman wells\n",
      "City not found. Skipping...\n",
      "Processing record number 31 in set number 1 | biak\n",
      "City not found. Skipping...\n",
      "Processing record number 32 in set number 1 | sao felix do xingu\n",
      "Processing record number 33 in set number 1 | clyde river\n",
      "Processing record number 34 in set number 1 | tuatapere\n",
      "Processing record number 35 in set number 1 | waingapu\n",
      "Processing record number 36 in set number 1 | elizabeth city\n",
      "Processing record number 37 in set number 1 | omboue\n",
      "Processing record number 38 in set number 1 | verkhoyansk\n",
      "City not found. Skipping...\n",
      "Processing record number 39 in set number 1 | kamareddi\n",
      "Processing record number 40 in set number 1 | hami\n",
      "Processing record number 41 in set number 1 | port-gentil\n",
      "Processing record number 42 in set number 1 | provideniya\n",
      "Processing record number 43 in set number 1 | nemuro\n",
      "Processing record number 44 in set number 1 | fort nelson\n",
      "Processing record number 45 in set number 1 | buala\n",
      "Processing record number 46 in set number 1 | tucuma\n",
      "Processing record number 47 in set number 1 | puerto ayora\n",
      "Processing record number 48 in set number 1 | tsabong\n",
      "Processing record number 49 in set number 1 | tasiilaq\n",
      "Processing record number 1 in set number 2 | cape town\n",
      "Processing record number 2 in set number 2 | ponta do sol\n",
      "Processing record number 3 in set number 2 | airai\n",
      "Processing record number 4 in set number 2 | hilo\n",
      "Processing record number 5 in set number 2 | upernavik\n",
      "Processing record number 6 in set number 2 | kerch\n",
      "Processing record number 7 in set number 2 | nikolskoye\n",
      "Processing record number 8 in set number 2 | tiksi\n",
      "Processing record number 9 in set number 2 | avera\n",
      "Processing record number 10 in set number 2 | chara\n",
      "City not found. Skipping...\n",
      "Processing record number 11 in set number 2 | thompson\n",
      "Processing record number 12 in set number 2 | taoudenni\n",
      "Processing record number 13 in set number 2 | chuy\n",
      "Processing record number 14 in set number 2 | fairbanks\n",
      "Processing record number 15 in set number 2 | lebu\n",
      "Processing record number 16 in set number 2 | kaitangata\n",
      "Processing record number 17 in set number 2 | bobenheim-roxheim\n",
      "Processing record number 18 in set number 2 | bredasdorp\n",
      "City not found. Skipping...\n",
      "Processing record number 19 in set number 2 | yellowknife\n",
      "Processing record number 20 in set number 2 | sistranda\n",
      "City not found. Skipping...\n",
      "Processing record number 21 in set number 2 | winchester\n",
      "City not found. Skipping...\n",
      "City not found. Skipping...\n",
      "Processing record number 22 in set number 2 | imeni babushkina\n",
      "Processing record number 23 in set number 2 | saravan\n",
      "Processing record number 24 in set number 2 | vila franca do campo\n",
      "Processing record number 25 in set number 2 | ibra\n",
      "Processing record number 26 in set number 2 | qaanaaq\n",
      "Processing record number 27 in set number 2 | andenes\n",
      "Processing record number 28 in set number 2 | albany\n",
      "Processing record number 29 in set number 2 | new norfolk\n",
      "Processing record number 30 in set number 2 | grindavik\n",
      "Processing record number 31 in set number 2 | mataura\n",
      "Processing record number 32 in set number 2 | pasni\n",
      "Processing record number 33 in set number 2 | vardo\n",
      "Processing record number 34 in set number 2 | avarua\n",
      "City not found. Skipping...\n",
      "Processing record number 35 in set number 2 | kongolo\n",
      "City not found. Skipping...\n",
      "Processing record number 36 in set number 2 | barrow\n",
      "Processing record number 37 in set number 2 | cockburn town\n",
      "Processing record number 38 in set number 2 | kitimat\n",
      "Processing record number 39 in set number 2 | omsukchan\n",
      "Processing record number 40 in set number 2 | kodiak\n",
      "Processing record number 41 in set number 2 | fortuna\n",
      "Processing record number 42 in set number 2 | sioux lookout\n",
      "Processing record number 43 in set number 2 | glasgow\n",
      "Processing record number 44 in set number 2 | liverpool\n",
      "Processing record number 45 in set number 2 | grand bank\n",
      "Processing record number 46 in set number 2 | riviere-du-loup\n",
      "Processing record number 47 in set number 2 | emerald\n",
      "Processing record number 48 in set number 2 | kabalo\n",
      "Processing record number 49 in set number 2 | vaini\n",
      "Processing record number 1 in set number 3 | isangel\n",
      "Processing record number 2 in set number 3 | susanville\n",
      "Processing record number 3 in set number 3 | el alto\n",
      "Processing record number 4 in set number 3 | chumikan\n",
      "Processing record number 5 in set number 3 | yaan\n",
      "Processing record number 6 in set number 3 | saint-philippe\n",
      "Processing record number 7 in set number 3 | tuktoyaktuk\n",
      "Processing record number 8 in set number 3 | bethel\n",
      "Processing record number 9 in set number 3 | ilulissat\n",
      "City not found. Skipping...\n",
      "Processing record number 10 in set number 3 | makakilo city\n",
      "Processing record number 11 in set number 3 | arraial do cabo\n",
      "Processing record number 12 in set number 3 | egvekinot\n",
      "Processing record number 13 in set number 3 | tura\n",
      "Processing record number 14 in set number 3 | meulaboh\n",
      "Processing record number 15 in set number 3 | bandarbeyla\n",
      "Processing record number 16 in set number 3 | lagoa\n",
      "Processing record number 17 in set number 3 | caravelas\n",
      "Processing record number 18 in set number 3 | mar del plata\n",
      "City not found. Skipping...\n",
      "Processing record number 19 in set number 3 | breves\n",
      "Processing record number 20 in set number 3 | port elizabeth\n",
      "Processing record number 21 in set number 3 | tilichiki\n",
      "Processing record number 22 in set number 3 | east london\n",
      "Processing record number 23 in set number 3 | thinadhoo\n",
      "Processing record number 24 in set number 3 | tevriz\n",
      "Processing record number 25 in set number 3 | vanimo\n",
      "Processing record number 26 in set number 3 | hovd\n",
      "Processing record number 27 in set number 3 | cranbrook\n",
      "Processing record number 28 in set number 3 | butaritari\n",
      "Processing record number 29 in set number 3 | gat\n",
      "Processing record number 30 in set number 3 | sao filipe\n",
      "Processing record number 31 in set number 3 | sitka\n",
      "Processing record number 32 in set number 3 | khatanga\n",
      "Processing record number 33 in set number 3 | nara\n",
      "Processing record number 34 in set number 3 | kruisfontein\n",
      "Processing record number 35 in set number 3 | macenta\n",
      "Processing record number 36 in set number 3 | suclayin\n",
      "Processing record number 37 in set number 3 | turukhansk\n",
      "Processing record number 38 in set number 3 | obama\n",
      "City not found. Skipping...\n",
      "City not found. Skipping...\n",
      "Processing record number 39 in set number 3 | dabat\n",
      "Processing record number 40 in set number 3 | port hardy\n",
      "Processing record number 41 in set number 3 | chippewa falls\n",
      "Processing record number 42 in set number 3 | nishihara\n",
      "Processing record number 43 in set number 3 | ripky\n"
     ]
    },
    {
     "name": "stdout",
     "output_type": "stream",
     "text": [
      "Processing record number 44 in set number 3 | zhezkazgan\n",
      "Processing record number 45 in set number 3 | quang ngai\n",
      "Processing record number 46 in set number 3 | zagreb\n",
      "City not found. Skipping...\n",
      "Processing record number 47 in set number 3 | zhanaozen\n",
      "Processing record number 48 in set number 3 | ishigaki\n",
      "City not found. Skipping...\n",
      "Processing record number 49 in set number 3 | ternovka\n",
      "Processing record number 1 in set number 4 | nouakchott\n",
      "Processing record number 2 in set number 4 | jamestown\n",
      "Processing record number 3 in set number 4 | harper\n",
      "Processing record number 4 in set number 4 | xining\n",
      "Processing record number 5 in set number 4 | bengkulu\n",
      "Processing record number 6 in set number 4 | dharchula\n",
      "Processing record number 7 in set number 4 | ammon\n",
      "Processing record number 8 in set number 4 | antofagasta\n",
      "Processing record number 9 in set number 4 | diamantino\n",
      "Processing record number 10 in set number 4 | peterongan\n",
      "Processing record number 11 in set number 4 | kaohsiung\n",
      "Processing record number 12 in set number 4 | constitucion\n",
      "Processing record number 13 in set number 4 | karema\n",
      "Processing record number 14 in set number 4 | faanui\n",
      "Processing record number 15 in set number 4 | liwale\n",
      "Processing record number 16 in set number 4 | am timan\n",
      "Processing record number 17 in set number 4 | rio gallegos\n",
      "Processing record number 18 in set number 4 | pangoa\n",
      "Processing record number 19 in set number 4 | angoche\n",
      "Processing record number 20 in set number 4 | severo-kurilsk\n",
      "Processing record number 21 in set number 4 | lagoa santa\n",
      "City not found. Skipping...\n",
      "Processing record number 22 in set number 4 | saskylakh\n",
      "Processing record number 23 in set number 4 | cherskiy\n",
      "Processing record number 24 in set number 4 | victoria\n",
      "Processing record number 25 in set number 4 | nome\n",
      "Processing record number 26 in set number 4 | ostroleka\n",
      "Processing record number 27 in set number 4 | kavaratti\n",
      "Processing record number 28 in set number 4 | katherine\n",
      "Processing record number 29 in set number 4 | zyryanka\n",
      "Processing record number 30 in set number 4 | willowmore\n",
      "Processing record number 31 in set number 4 | butajira\n",
      "Processing record number 32 in set number 4 | bony\n",
      "Processing record number 33 in set number 4 | placido de castro\n",
      "Processing record number 34 in set number 4 | mnogovershinnyy\n",
      "Processing record number 35 in set number 4 | taltal\n",
      "Processing record number 36 in set number 4 | geraldton\n",
      "Processing record number 37 in set number 4 | somvarpet\n",
      "Processing record number 38 in set number 4 | qujing\n",
      "Processing record number 39 in set number 4 | termoli\n",
      "Processing record number 40 in set number 4 | ancud\n",
      "Processing record number 41 in set number 4 | kloulklubed\n",
      "Processing record number 42 in set number 4 | ballina\n",
      "Processing record number 43 in set number 4 | bambous virieux\n",
      "Processing record number 44 in set number 4 | saldanha\n",
      "Processing record number 45 in set number 4 | waipawa\n",
      "Processing record number 46 in set number 4 | longyearbyen\n",
      "Processing record number 47 in set number 4 | leningradskiy\n",
      "Processing record number 48 in set number 4 | kapaa\n",
      "Processing record number 49 in set number 4 | virginia beach\n",
      "Processing record number 1 in set number 5 | naze\n",
      "Processing record number 2 in set number 5 | castro\n",
      "Processing record number 3 in set number 5 | olinda\n",
      "Processing record number 4 in set number 5 | kahului\n",
      "Processing record number 5 in set number 5 | iqaluit\n",
      "Processing record number 6 in set number 5 | paharpur\n",
      "Processing record number 7 in set number 5 | dire\n",
      "Processing record number 8 in set number 5 | encruzilhada\n",
      "Processing record number 9 in set number 5 | polyarnyy\n",
      "Processing record number 10 in set number 5 | korem\n",
      "Processing record number 11 in set number 5 | vikulovo\n",
      "City not found. Skipping...\n",
      "Processing record number 12 in set number 5 | husavik\n",
      "Processing record number 13 in set number 5 | vikhorevka\n",
      "Processing record number 14 in set number 5 | roblin\n",
      "Processing record number 15 in set number 5 | mahmudabad\n",
      "Processing record number 16 in set number 5 | esperance\n",
      "City not found. Skipping...\n",
      "Processing record number 17 in set number 5 | sao joao da barra\n",
      "Processing record number 18 in set number 5 | manoel urbano\n",
      "Processing record number 19 in set number 5 | magaria\n",
      "Processing record number 20 in set number 5 | praya\n",
      "Processing record number 21 in set number 5 | nuevo progreso\n",
      "Processing record number 22 in set number 5 | huarmey\n",
      "Processing record number 23 in set number 5 | beohari\n",
      "Processing record number 24 in set number 5 | aykhal\n",
      "Processing record number 25 in set number 5 | hamilton\n",
      "Processing record number 26 in set number 5 | wilmington\n",
      "Processing record number 27 in set number 5 | dunedin\n",
      "Processing record number 28 in set number 5 | vao\n",
      "Processing record number 29 in set number 5 | gorontalo\n",
      "Processing record number 30 in set number 5 | tambura\n",
      "Processing record number 31 in set number 5 | starobaltachevo\n",
      "Processing record number 32 in set number 5 | malakal\n",
      "Processing record number 33 in set number 5 | houma\n",
      "Processing record number 34 in set number 5 | kasongo\n",
      "Processing record number 35 in set number 5 | bathsheba\n",
      "Processing record number 36 in set number 5 | dauphin\n",
      "Processing record number 37 in set number 5 | wanning\n",
      "Processing record number 38 in set number 5 | thomaston\n",
      "Processing record number 39 in set number 5 | hasaki\n",
      "Processing record number 40 in set number 5 | torbay\n",
      "City not found. Skipping...\n",
      "Processing record number 41 in set number 5 | cidreira\n",
      "Processing record number 42 in set number 5 | manta\n",
      "Processing record number 43 in set number 5 | faya\n",
      "Processing record number 44 in set number 5 | luderitz\n",
      "Processing record number 45 in set number 5 | leshukonskoye\n",
      "Processing record number 46 in set number 5 | talnakh\n",
      "Processing record number 47 in set number 5 | robertsport\n",
      "Processing record number 48 in set number 5 | klaksvik\n",
      "Processing record number 49 in set number 5 | alamos\n",
      "City not found. Skipping...\n",
      "Processing record number 1 in set number 6 | jogighopa\n",
      "Processing record number 2 in set number 6 | honiara\n",
      "Processing record number 3 in set number 6 | acarau\n",
      "Processing record number 4 in set number 6 | kondopoga\n",
      "City not found. Skipping...\n",
      "Processing record number 5 in set number 6 | linxia\n",
      "Processing record number 6 in set number 6 | amuntai\n",
      "Processing record number 7 in set number 6 | bandar-e lengeh\n",
      "Processing record number 8 in set number 6 | lasem\n",
      "Processing record number 9 in set number 6 | bowen\n",
      "City not found. Skipping...\n",
      "Processing record number 10 in set number 6 | blandiana\n",
      "Processing record number 11 in set number 6 | karatuzskoye\n",
      "Processing record number 12 in set number 6 | kassala\n",
      "Processing record number 13 in set number 6 | narsaq\n",
      "Processing record number 14 in set number 6 | qasigiannguit\n",
      "City not found. Skipping...\n",
      "Processing record number 15 in set number 6 | liaocheng\n",
      "Processing record number 16 in set number 6 | praia da vitoria\n",
      "Processing record number 17 in set number 6 | palmer\n",
      "Processing record number 18 in set number 6 | namibe\n",
      "Processing record number 19 in set number 6 | neuquen\n",
      "Processing record number 20 in set number 6 | kununurra\n",
      "Processing record number 21 in set number 6 | neder vindinge\n",
      "Processing record number 22 in set number 6 | jasper\n",
      "Processing record number 23 in set number 6 | coruripe\n",
      "Processing record number 24 in set number 6 | anloga\n",
      "Processing record number 25 in set number 6 | tsalka\n",
      "Processing record number 26 in set number 6 | lavrentiya\n",
      "Processing record number 27 in set number 6 | maralal\n",
      "Processing record number 28 in set number 6 | mizan teferi\n",
      "Processing record number 29 in set number 6 | bubaque\n",
      "Processing record number 30 in set number 6 | kenai\n",
      "Processing record number 31 in set number 6 | aswan\n",
      "Processing record number 32 in set number 6 | sainte-rose\n",
      "Processing record number 33 in set number 6 | lorengau\n",
      "Processing record number 34 in set number 6 | bhadasar\n",
      "City not found. Skipping...\n",
      "Processing record number 35 in set number 6 | sambava\n",
      "Processing record number 36 in set number 6 | itoman\n",
      "City not found. Skipping...\n",
      "City not found. Skipping...\n",
      "Processing record number 37 in set number 6 | menongue\n",
      "Processing record number 38 in set number 6 | lamar\n",
      "Processing record number 39 in set number 6 | zhigansk\n"
     ]
    },
    {
     "name": "stdout",
     "output_type": "stream",
     "text": [
      "Processing record number 40 in set number 6 | miyako\n",
      "Processing record number 41 in set number 6 | laguna\n",
      "Processing record number 42 in set number 6 | evensk\n",
      "Processing record number 43 in set number 6 | tsilna\n",
      "Processing record number 44 in set number 6 | privolzhsk\n",
      "Processing record number 45 in set number 6 | bursa\n",
      "Processing record number 46 in set number 6 | caucaia\n",
      "Processing record number 47 in set number 6 | madingou\n",
      "Processing record number 48 in set number 6 | nyuksenitsa\n",
      "Processing record number 49 in set number 6 | ribeira grande\n",
      "Processing record number 1 in set number 7 | ukiah\n",
      "Processing record number 2 in set number 7 | roma\n",
      "Processing record number 3 in set number 7 | hohhot\n",
      "City not found. Skipping...\n",
      "Processing record number 4 in set number 7 | kieta\n",
      "Processing record number 5 in set number 7 | dalianwan\n",
      "City not found. Skipping...\n",
      "Processing record number 6 in set number 7 | trairi\n",
      "Processing record number 7 in set number 7 | inhambane\n",
      "Processing record number 8 in set number 7 | cervo\n",
      "Processing record number 9 in set number 7 | kavieng\n",
      "Processing record number 10 in set number 7 | aklavik\n",
      "Processing record number 11 in set number 7 | iaciara\n",
      "Processing record number 12 in set number 7 | sakakah\n",
      "Processing record number 13 in set number 7 | baykit\n",
      "Processing record number 14 in set number 7 | oltu\n",
      "Processing record number 15 in set number 7 | panambi\n",
      "Processing record number 16 in set number 7 | saint george\n",
      "City not found. Skipping...\n",
      "Processing record number 17 in set number 7 | jiaozuo\n",
      "City not found. Skipping...\n",
      "Processing record number 18 in set number 7 | ketchikan\n",
      "City not found. Skipping...\n",
      "Processing record number 19 in set number 7 | tautira\n",
      "Processing record number 20 in set number 7 | san patricio\n",
      "Processing record number 21 in set number 7 | georgetown\n",
      "Processing record number 22 in set number 7 | kudahuvadhoo\n",
      "Processing record number 23 in set number 7 | morlaix\n",
      "City not found. Skipping...\n",
      "City not found. Skipping...\n",
      "Processing record number 24 in set number 7 | saint-joseph\n",
      "Processing record number 25 in set number 7 | enkoping\n",
      "Processing record number 26 in set number 7 | la rioja\n",
      "Processing record number 27 in set number 7 | sasina\n",
      "Processing record number 28 in set number 7 | ciudad ojeda\n",
      "Processing record number 29 in set number 7 | lompoc\n",
      "Processing record number 30 in set number 7 | mahebourg\n",
      "Processing record number 31 in set number 7 | pinawa\n",
      "Processing record number 32 in set number 7 | san vicente\n",
      "Processing record number 33 in set number 7 | santiago del estero\n",
      "Processing record number 34 in set number 7 | maragogi\n",
      "Processing record number 35 in set number 7 | kifri\n",
      "Processing record number 36 in set number 7 | araguaina\n",
      "Processing record number 37 in set number 7 | corowa\n",
      "Processing record number 38 in set number 7 | olga\n",
      "Processing record number 39 in set number 7 | markova\n",
      "Processing record number 40 in set number 7 | temerloh\n",
      "Processing record number 41 in set number 7 | souillac\n",
      "Processing record number 42 in set number 7 | banda aceh\n",
      "Processing record number 43 in set number 7 | darovskoy\n",
      "Processing record number 44 in set number 7 | boyolangu\n",
      "Processing record number 45 in set number 7 | antalaha\n",
      "Processing record number 46 in set number 7 | hohr-grenzhausen\n",
      "City not found. Skipping...\n",
      "Processing record number 47 in set number 7 | mezen\n",
      "Processing record number 48 in set number 7 | khrebtovaya\n",
      "Processing record number 49 in set number 7 | sechelt\n",
      "Processing record number 1 in set number 8 | komsomolskiy\n",
      "Processing record number 2 in set number 8 | chaohu\n",
      "Processing record number 3 in set number 8 | kirakira\n",
      "Processing record number 4 in set number 8 | oda\n",
      "Processing record number 5 in set number 8 | lakselv\n",
      "Processing record number 6 in set number 8 | college\n",
      "Processing record number 7 in set number 8 | yulara\n",
      "Processing record number 8 in set number 8 | mattru\n",
      "Processing record number 9 in set number 8 | champerico\n",
      "Processing record number 10 in set number 8 | umm kaddadah\n",
      "Processing record number 11 in set number 8 | atambua\n",
      "City not found. Skipping...\n",
      "Processing record number 12 in set number 8 | chifeng\n",
      "Processing record number 13 in set number 8 | lodwar\n",
      "Processing record number 14 in set number 8 | griffith\n",
      "Processing record number 15 in set number 8 | sechura\n",
      "Processing record number 16 in set number 8 | rocha\n",
      "Processing record number 17 in set number 8 | amalapuram\n",
      "Processing record number 18 in set number 8 | ulaanbaatar\n",
      "Processing record number 19 in set number 8 | monrovia\n",
      "Processing record number 20 in set number 8 | cam ranh\n",
      "Processing record number 21 in set number 8 | provost\n",
      "Processing record number 22 in set number 8 | muscat\n",
      "Processing record number 23 in set number 8 | carnarvon\n",
      "Processing record number 24 in set number 8 | cabo san lucas\n",
      "Processing record number 25 in set number 8 | krasnoselkup\n",
      "Processing record number 26 in set number 8 | mayo\n",
      "Processing record number 27 in set number 8 | luorong\n",
      "Processing record number 28 in set number 8 | estelle\n",
      "Processing record number 29 in set number 8 | asmara\n",
      "Processing record number 30 in set number 8 | namatanai\n",
      "Processing record number 31 in set number 8 | margate\n",
      "Processing record number 32 in set number 8 | beyneu\n",
      "Processing record number 33 in set number 8 | kuruman\n",
      "City not found. Skipping...\n",
      "Processing record number 34 in set number 8 | alice springs\n",
      "Processing record number 35 in set number 8 | belmonte\n",
      "Processing record number 36 in set number 8 | leh\n",
      "Processing record number 37 in set number 8 | ponta delgada\n",
      "Processing record number 38 in set number 8 | sinop\n",
      "Processing record number 39 in set number 8 | bonga\n",
      "Processing record number 40 in set number 8 | verkhnevilyuysk\n",
      "Processing record number 41 in set number 8 | mehamn\n",
      "Processing record number 42 in set number 8 | marzuq\n",
      "Processing record number 43 in set number 8 | matelandia\n",
      "Processing record number 44 in set number 8 | quelimane\n",
      "City not found. Skipping...\n",
      "Processing record number 45 in set number 8 | deputatskiy\n",
      "City not found. Skipping...\n",
      "Processing record number 46 in set number 8 | westport\n",
      "Processing record number 47 in set number 8 | sao jose de ribamar\n",
      "City not found. Skipping...\n",
      "Processing record number 48 in set number 8 | kabansk\n",
      "Processing record number 49 in set number 8 | sorong\n",
      "Processing record number 1 in set number 9 | nisia floresta\n",
      "Processing record number 2 in set number 9 | garissa\n",
      "Processing record number 3 in set number 9 | kattivakkam\n",
      "City not found. Skipping...\n",
      "Processing record number 4 in set number 9 | mabaruma\n",
      "Processing record number 5 in set number 9 | arlit\n",
      "Processing record number 6 in set number 9 | trincomalee\n",
      "Processing record number 7 in set number 9 | batsfjord\n",
      "Processing record number 8 in set number 9 | jandaia do sul\n",
      "Processing record number 9 in set number 9 | mao\n",
      "Processing record number 10 in set number 9 | cabedelo\n",
      "Processing record number 11 in set number 9 | port blair\n",
      "City not found. Skipping...\n",
      "Processing record number 12 in set number 9 | kodinsk\n",
      "Processing record number 13 in set number 9 | kaeo\n",
      "Processing record number 14 in set number 9 | vaitape\n",
      "Processing record number 15 in set number 9 | sobolevo\n",
      "Processing record number 16 in set number 9 | turmalina\n",
      "Processing record number 17 in set number 9 | saint-pierre\n",
      "Processing record number 18 in set number 9 | guerrero negro\n",
      "Processing record number 19 in set number 9 | loa janan\n",
      "Processing record number 20 in set number 9 | marquette\n",
      "Processing record number 21 in set number 9 | ginda\n",
      "Processing record number 22 in set number 9 | salinas\n",
      "Processing record number 23 in set number 9 | soron\n",
      "Processing record number 24 in set number 9 | maniitsoq\n",
      "Processing record number 25 in set number 9 | vilhena\n",
      "Processing record number 26 in set number 9 | chernenko\n",
      "Processing record number 27 in set number 9 | galesong\n",
      "Processing record number 28 in set number 9 | ambilobe\n",
      "Processing record number 29 in set number 9 | biloela\n",
      "Processing record number 30 in set number 9 | port hawkesbury\n",
      "Processing record number 31 in set number 9 | galbshtadt\n",
      "City not found. Skipping...\n",
      "Processing record number 32 in set number 9 | sept-iles\n",
      "Processing record number 33 in set number 9 | nemencine\n"
     ]
    },
    {
     "name": "stdout",
     "output_type": "stream",
     "text": [
      "Processing record number 34 in set number 9 | vestmannaeyjar\n",
      "Processing record number 35 in set number 9 | kemijarvi\n",
      "Processing record number 36 in set number 9 | sarh\n",
      "Processing record number 37 in set number 9 | adoni\n",
      "Processing record number 38 in set number 9 | pingliang\n",
      "Processing record number 39 in set number 9 | pine bluff\n",
      "Processing record number 40 in set number 9 | bam\n",
      "Processing record number 41 in set number 9 | fukuma\n",
      "Processing record number 42 in set number 9 | kyren\n",
      "Processing record number 43 in set number 9 | nioro\n",
      "Processing record number 44 in set number 9 | marsaxlokk\n",
      "Processing record number 45 in set number 9 | codrington\n",
      "Processing record number 46 in set number 9 | vila velha\n",
      "Processing record number 47 in set number 9 | cody\n",
      "Processing record number 48 in set number 9 | ayagoz\n",
      "Processing record number 49 in set number 9 | andrews\n",
      "Processing record number 1 in set number 10 | rio grande\n",
      "Processing record number 2 in set number 10 | pimentel\n",
      "Processing record number 3 in set number 10 | turtas\n",
      "City not found. Skipping...\n",
      "Processing record number 4 in set number 10 | havoysund\n",
      "Processing record number 5 in set number 10 | kemin\n",
      "Processing record number 6 in set number 10 | luanda\n",
      "Processing record number 7 in set number 10 | hofn\n",
      "Processing record number 8 in set number 10 | sakaraha\n",
      "Processing record number 9 in set number 10 | kutum\n",
      "Processing record number 10 in set number 10 | baghdad\n",
      "Processing record number 11 in set number 10 | soyo\n",
      "Processing record number 12 in set number 10 | guymon\n",
      "Processing record number 13 in set number 10 | plesetsk\n",
      "Processing record number 14 in set number 10 | lappeenranta\n",
      "Processing record number 15 in set number 10 | poum\n",
      "Processing record number 16 in set number 10 | adrar\n",
      "Processing record number 17 in set number 10 | vostok\n",
      "Processing record number 18 in set number 10 | broome\n",
      "Processing record number 19 in set number 10 | nouadhibou\n",
      "Processing record number 20 in set number 10 | chardara\n",
      "Processing record number 21 in set number 10 | hay river\n",
      "Processing record number 22 in set number 10 | alexandria\n",
      "Processing record number 23 in set number 10 | boa vista\n",
      "Processing record number 24 in set number 10 | middelburg\n",
      "Processing record number 25 in set number 10 | jati\n",
      "Processing record number 26 in set number 10 | wuzhou\n",
      "Processing record number 27 in set number 10 | masyaf\n",
      "Processing record number 28 in set number 10 | ornskoldsvik\n",
      "Processing record number 29 in set number 10 | sinnamary\n",
      "Processing record number 30 in set number 10 | ahipara\n",
      "Processing record number 31 in set number 10 | inverell\n",
      "Processing record number 32 in set number 10 | benguela\n",
      "Processing record number 33 in set number 10 | ulladulla\n",
      "Processing record number 34 in set number 10 | batagay\n",
      "Processing record number 35 in set number 10 | wahpeton\n",
      "Processing record number 36 in set number 10 | beringovskiy\n",
      "Processing record number 37 in set number 10 | tall kayf\n",
      "Processing record number 38 in set number 10 | port hedland\n",
      "Processing record number 39 in set number 10 | rio claro\n",
      "Processing record number 40 in set number 10 | mount gambier\n",
      "Processing record number 41 in set number 10 | riyadh\n",
      "Processing record number 42 in set number 10 | san quintin\n",
      "Processing record number 43 in set number 10 | atasu\n",
      "City not found. Skipping...\n",
      "Processing record number 44 in set number 10 | mobaye\n",
      "Processing record number 45 in set number 10 | necochea\n",
      "City not found. Skipping...\n",
      "Processing record number 46 in set number 10 | khor\n",
      "Processing record number 47 in set number 10 | abu samrah\n",
      "Processing record number 48 in set number 10 | soe\n",
      "Processing record number 49 in set number 10 | west wendover\n",
      "Processing record number 1 in set number 11 | villa del rosario\n",
      "Processing record number 2 in set number 11 | alofi\n",
      "Processing record number 3 in set number 11 | portland\n",
      "Processing record number 4 in set number 11 | pedernales\n",
      "Processing record number 5 in set number 11 | qaqortoq\n",
      "Processing record number 6 in set number 11 | plastun\n",
      "Processing record number 7 in set number 11 | bonavista\n",
      "City not found. Skipping...\n",
      "Processing record number 8 in set number 11 | manicore\n",
      "Processing record number 9 in set number 11 | corralillo\n",
      "Processing record number 10 in set number 11 | manyana\n",
      "Processing record number 11 in set number 11 | san joaquin\n",
      "Processing record number 12 in set number 11 | salalah\n",
      "Processing record number 13 in set number 11 | praia\n",
      "Processing record number 14 in set number 11 | tselinnoye\n",
      "Processing record number 15 in set number 11 | irbeyskoye\n",
      "Processing record number 16 in set number 11 | north vanlaiphai\n",
      "City not found. Skipping...\n",
      "Processing record number 17 in set number 11 | presidencia roque saenz pena\n",
      "Processing record number 18 in set number 11 | defiance\n",
      "Processing record number 19 in set number 11 | semnan\n",
      "Processing record number 20 in set number 11 | ingham\n",
      "Processing record number 21 in set number 11 | little current\n",
      "Processing record number 22 in set number 11 | tripoli\n",
      "Processing record number 23 in set number 11 | tabou\n",
      "Processing record number 24 in set number 11 | sarakhs\n",
      "Processing record number 25 in set number 11 | zapolyarnyy\n",
      "Processing record number 26 in set number 11 | victor harbor\n",
      "Processing record number 27 in set number 11 | wanaraja\n",
      "Processing record number 28 in set number 11 | topolobampo\n",
      "Processing record number 29 in set number 11 | pangai\n",
      "Processing record number 30 in set number 11 | red deer\n",
      "Processing record number 31 in set number 11 | erice\n",
      "Processing record number 32 in set number 11 | atar\n",
      "Processing record number 33 in set number 11 | nieuw amsterdam\n",
      "Processing record number 34 in set number 11 | coahuayana\n",
      "Processing record number 35 in set number 11 | yarmouth\n",
      "Processing record number 36 in set number 11 | edgewater\n",
      "Processing record number 37 in set number 11 | sebinkarahisar\n",
      "City not found. Skipping...\n",
      "Processing record number 38 in set number 11 | tres arroyos\n",
      "Processing record number 39 in set number 11 | saurimo\n",
      "Processing record number 40 in set number 11 | northam\n",
      "Processing record number 41 in set number 11 | san jose\n",
      "Processing record number 42 in set number 11 | pacific grove\n",
      "Processing record number 43 in set number 11 | nelson bay\n",
      "Processing record number 44 in set number 11 | las palmas\n",
      "Processing record number 45 in set number 11 | los lunas\n",
      "Processing record number 46 in set number 11 | coronel\n",
      "City not found. Skipping...\n",
      "Processing record number 47 in set number 11 | durban\n",
      "Processing record number 48 in set number 11 | hualmay\n",
      "Processing record number 49 in set number 11 | moose factory\n",
      "Processing record number 1 in set number 12 | port macquarie\n",
      "Processing record number 2 in set number 12 | nadym\n",
      "Processing record number 3 in set number 12 | the valley\n",
      "Processing record number 4 in set number 12 | catungan\n",
      "Processing record number 5 in set number 12 | pemangkat\n",
      "Processing record number 6 in set number 12 | broken hill\n",
      "Processing record number 7 in set number 12 | rantepao\n",
      "Processing record number 8 in set number 12 | sur\n",
      "Processing record number 9 in set number 12 | lincoln\n",
      "Processing record number 10 in set number 12 | brattleboro\n",
      "Processing record number 11 in set number 12 | penzance\n",
      "Processing record number 12 in set number 12 | azul\n",
      "Processing record number 13 in set number 12 | requena\n",
      "Processing record number 14 in set number 12 | fernie\n",
      "Processing record number 15 in set number 12 | dalby\n",
      "Processing record number 16 in set number 12 | yeniseysk\n",
      "Processing record number 17 in set number 12 | amos\n",
      "Processing record number 18 in set number 12 | camacha\n",
      "Processing record number 19 in set number 12 | kungurtug\n",
      "Processing record number 20 in set number 12 | ayorou\n",
      "Processing record number 21 in set number 12 | jibuti\n",
      "Processing record number 22 in set number 12 | kulhudhuffushi\n",
      "Processing record number 23 in set number 12 | cabinda\n",
      "Processing record number 24 in set number 12 | manono\n",
      "Processing record number 25 in set number 12 | male\n",
      "Processing record number 26 in set number 12 | christchurch\n",
      "City not found. Skipping...\n",
      "Processing record number 27 in set number 12 | kiama\n",
      "Processing record number 28 in set number 12 | watsa\n"
     ]
    }
   ],
   "source": [
    "# Create empty lists for each data set\n",
    "city_name = []\n",
    "lat = []\n",
    "lng = []\n",
    "max_temp = []\n",
    "humidity = []\n",
    "cloudiness = []\n",
    "wind_speed = []\n",
    "country = []\n",
    "date = []\n",
    "\n",
    "# Start the counters\n",
    "records = 0\n",
    "sets = 1\n",
    "\n",
    "# loop through response data\n",
    "# Use the try and except error handling\n",
    "for city in cities_list:\n",
    "    try:\n",
    "        # API Call\n",
    "        response = requests.get(query_url + city).json()\n",
    "        \n",
    "        # Apeend all those empty lists with data from loop\n",
    "        lat.append(response['coord']['lat'])\n",
    "        lng.append(response['coord']['lon'])\n",
    "        max_temp.append(response['main']['temp_max'])\n",
    "        humidity.append(response['main']['humidity'])\n",
    "        cloudiness.append(response['clouds']['all'])\n",
    "        wind_speed.append(response['wind']['speed'])\n",
    "        country.append(response['sys']['country'])\n",
    "        date.append(response['dt'])\n",
    "        \n",
    "        # Create if statement, add counts, and append\n",
    "        if records > 48:\n",
    "            records = 1\n",
    "            sets += 1\n",
    "            city_name.append(city)\n",
    "        else:\n",
    "            records += 1\n",
    "            city_name.append(city)\n",
    "        print(f\"Processing record number {records} in set number {sets} | {city}\")\n",
    "    except:\n",
    "        print(\"City not found. Skipping...\")\n"
   ]
  },
  {
   "cell_type": "markdown",
   "metadata": {},
   "source": [
    "### Convert Raw Data to DataFrame\n",
    "* Export the city data into a .csv.\n",
    "* Display the DataFrame"
   ]
  },
  {
   "cell_type": "code",
   "execution_count": 5,
   "metadata": {},
   "outputs": [
    {
     "data": {
      "text/html": [
       "<div>\n",
       "<style scoped>\n",
       "    .dataframe tbody tr th:only-of-type {\n",
       "        vertical-align: middle;\n",
       "    }\n",
       "\n",
       "    .dataframe tbody tr th {\n",
       "        vertical-align: top;\n",
       "    }\n",
       "\n",
       "    .dataframe thead th {\n",
       "        text-align: right;\n",
       "    }\n",
       "</style>\n",
       "<table border=\"1\" class=\"dataframe\">\n",
       "  <thead>\n",
       "    <tr style=\"text-align: right;\">\n",
       "      <th></th>\n",
       "      <th>City</th>\n",
       "      <th>Lat</th>\n",
       "      <th>Lng</th>\n",
       "      <th>Max Temp</th>\n",
       "      <th>Humidity</th>\n",
       "      <th>Cloudiness</th>\n",
       "      <th>Wind Speed</th>\n",
       "      <th>Country</th>\n",
       "      <th>Date</th>\n",
       "    </tr>\n",
       "  </thead>\n",
       "  <tbody>\n",
       "    <tr>\n",
       "      <th>0</th>\n",
       "      <td>ushuaia</td>\n",
       "      <td>-54.80</td>\n",
       "      <td>-68.30</td>\n",
       "      <td>53.60</td>\n",
       "      <td>46</td>\n",
       "      <td>75</td>\n",
       "      <td>12.75</td>\n",
       "      <td>AR</td>\n",
       "      <td>1603317621</td>\n",
       "    </tr>\n",
       "    <tr>\n",
       "      <th>1</th>\n",
       "      <td>katsuura</td>\n",
       "      <td>35.13</td>\n",
       "      <td>140.30</td>\n",
       "      <td>60.80</td>\n",
       "      <td>67</td>\n",
       "      <td>75</td>\n",
       "      <td>13.87</td>\n",
       "      <td>JP</td>\n",
       "      <td>1603317044</td>\n",
       "    </tr>\n",
       "    <tr>\n",
       "      <th>2</th>\n",
       "      <td>mongo</td>\n",
       "      <td>12.18</td>\n",
       "      <td>18.69</td>\n",
       "      <td>81.59</td>\n",
       "      <td>30</td>\n",
       "      <td>69</td>\n",
       "      <td>4.70</td>\n",
       "      <td>TD</td>\n",
       "      <td>1603317621</td>\n",
       "    </tr>\n",
       "    <tr>\n",
       "      <th>3</th>\n",
       "      <td>cap malheureux</td>\n",
       "      <td>-19.98</td>\n",
       "      <td>57.61</td>\n",
       "      <td>71.01</td>\n",
       "      <td>86</td>\n",
       "      <td>74</td>\n",
       "      <td>5.99</td>\n",
       "      <td>MU</td>\n",
       "      <td>1603317405</td>\n",
       "    </tr>\n",
       "    <tr>\n",
       "      <th>4</th>\n",
       "      <td>chokurdakh</td>\n",
       "      <td>70.63</td>\n",
       "      <td>147.92</td>\n",
       "      <td>9.93</td>\n",
       "      <td>94</td>\n",
       "      <td>100</td>\n",
       "      <td>4.36</td>\n",
       "      <td>RU</td>\n",
       "      <td>1603317035</td>\n",
       "    </tr>\n",
       "  </tbody>\n",
       "</table>\n",
       "</div>"
      ],
      "text/plain": [
       "             City    Lat     Lng  Max Temp  Humidity  Cloudiness  Wind Speed  \\\n",
       "0         ushuaia -54.80  -68.30     53.60        46          75       12.75   \n",
       "1        katsuura  35.13  140.30     60.80        67          75       13.87   \n",
       "2           mongo  12.18   18.69     81.59        30          69        4.70   \n",
       "3  cap malheureux -19.98   57.61     71.01        86          74        5.99   \n",
       "4      chokurdakh  70.63  147.92      9.93        94         100        4.36   \n",
       "\n",
       "  Country        Date  \n",
       "0      AR  1603317621  \n",
       "1      JP  1603317044  \n",
       "2      TD  1603317621  \n",
       "3      MU  1603317405  \n",
       "4      RU  1603317035  "
      ]
     },
     "execution_count": 5,
     "metadata": {},
     "output_type": "execute_result"
    }
   ],
   "source": [
    "# Create a dictionary to store the results\n",
    "weather_data = {\n",
    "    \"City\": city_name,\n",
    "    \"Lat\": lat,\n",
    "    \"Lng\": lng,\n",
    "    \"Max Temp\": max_temp,\n",
    "    \"Humidity\": humidity,\n",
    "    \"Cloudiness\": cloudiness,\n",
    "    \"Wind Speed\": wind_speed,\n",
    "    \"Country\": country,\n",
    "    \"Date\": date\n",
    "}\n",
    "\n",
    "# Create a dataframe with the dictionary data\n",
    "weather_df = pd.DataFrame(weather_data)\n",
    "\n",
    "weather_df.head()"
   ]
  },
  {
   "cell_type": "code",
   "execution_count": 6,
   "metadata": {},
   "outputs": [],
   "source": [
    "# Turn that into a csv file\n",
    "weather_df.to_csv(\"../Output_Data/Weather_Data\")"
   ]
  },
  {
   "cell_type": "code",
   "execution_count": 7,
   "metadata": {},
   "outputs": [
    {
     "data": {
      "text/html": [
       "<div>\n",
       "<style scoped>\n",
       "    .dataframe tbody tr th:only-of-type {\n",
       "        vertical-align: middle;\n",
       "    }\n",
       "\n",
       "    .dataframe tbody tr th {\n",
       "        vertical-align: top;\n",
       "    }\n",
       "\n",
       "    .dataframe thead th {\n",
       "        text-align: right;\n",
       "    }\n",
       "</style>\n",
       "<table border=\"1\" class=\"dataframe\">\n",
       "  <thead>\n",
       "    <tr style=\"text-align: right;\">\n",
       "      <th></th>\n",
       "      <th>Lat</th>\n",
       "      <th>Lng</th>\n",
       "      <th>Max Temp</th>\n",
       "      <th>Humidity</th>\n",
       "      <th>Cloudiness</th>\n",
       "      <th>Wind Speed</th>\n",
       "      <th>Date</th>\n",
       "    </tr>\n",
       "  </thead>\n",
       "  <tbody>\n",
       "    <tr>\n",
       "      <th>count</th>\n",
       "      <td>567.000000</td>\n",
       "      <td>567.000000</td>\n",
       "      <td>567.000000</td>\n",
       "      <td>567.000000</td>\n",
       "      <td>567.000000</td>\n",
       "      <td>567.000000</td>\n",
       "      <td>5.670000e+02</td>\n",
       "    </tr>\n",
       "    <tr>\n",
       "      <th>mean</th>\n",
       "      <td>19.859630</td>\n",
       "      <td>17.127213</td>\n",
       "      <td>60.635926</td>\n",
       "      <td>73.874780</td>\n",
       "      <td>53.003527</td>\n",
       "      <td>7.690071</td>\n",
       "      <td>1.603318e+09</td>\n",
       "    </tr>\n",
       "    <tr>\n",
       "      <th>std</th>\n",
       "      <td>32.889581</td>\n",
       "      <td>89.743682</td>\n",
       "      <td>20.523706</td>\n",
       "      <td>20.145237</td>\n",
       "      <td>38.577442</td>\n",
       "      <td>4.891269</td>\n",
       "      <td>2.396183e+02</td>\n",
       "    </tr>\n",
       "    <tr>\n",
       "      <th>min</th>\n",
       "      <td>-54.800000</td>\n",
       "      <td>-179.170000</td>\n",
       "      <td>-0.400000</td>\n",
       "      <td>7.000000</td>\n",
       "      <td>0.000000</td>\n",
       "      <td>0.560000</td>\n",
       "      <td>1.603317e+09</td>\n",
       "    </tr>\n",
       "    <tr>\n",
       "      <th>25%</th>\n",
       "      <td>-7.075000</td>\n",
       "      <td>-59.650000</td>\n",
       "      <td>47.000000</td>\n",
       "      <td>65.500000</td>\n",
       "      <td>11.000000</td>\n",
       "      <td>3.935000</td>\n",
       "      <td>1.603318e+09</td>\n",
       "    </tr>\n",
       "    <tr>\n",
       "      <th>50%</th>\n",
       "      <td>23.610000</td>\n",
       "      <td>24.670000</td>\n",
       "      <td>66.000000</td>\n",
       "      <td>79.000000</td>\n",
       "      <td>64.000000</td>\n",
       "      <td>6.930000</td>\n",
       "      <td>1.603318e+09</td>\n",
       "    </tr>\n",
       "    <tr>\n",
       "      <th>75%</th>\n",
       "      <td>47.375000</td>\n",
       "      <td>92.810000</td>\n",
       "      <td>77.000000</td>\n",
       "      <td>88.000000</td>\n",
       "      <td>90.000000</td>\n",
       "      <td>10.560000</td>\n",
       "      <td>1.603318e+09</td>\n",
       "    </tr>\n",
       "    <tr>\n",
       "      <th>max</th>\n",
       "      <td>78.220000</td>\n",
       "      <td>179.320000</td>\n",
       "      <td>99.000000</td>\n",
       "      <td>100.000000</td>\n",
       "      <td>100.000000</td>\n",
       "      <td>33.330000</td>\n",
       "      <td>1.603318e+09</td>\n",
       "    </tr>\n",
       "  </tbody>\n",
       "</table>\n",
       "</div>"
      ],
      "text/plain": [
       "              Lat         Lng    Max Temp    Humidity  Cloudiness  Wind Speed  \\\n",
       "count  567.000000  567.000000  567.000000  567.000000  567.000000  567.000000   \n",
       "mean    19.859630   17.127213   60.635926   73.874780   53.003527    7.690071   \n",
       "std     32.889581   89.743682   20.523706   20.145237   38.577442    4.891269   \n",
       "min    -54.800000 -179.170000   -0.400000    7.000000    0.000000    0.560000   \n",
       "25%     -7.075000  -59.650000   47.000000   65.500000   11.000000    3.935000   \n",
       "50%     23.610000   24.670000   66.000000   79.000000   64.000000    6.930000   \n",
       "75%     47.375000   92.810000   77.000000   88.000000   90.000000   10.560000   \n",
       "max     78.220000  179.320000   99.000000  100.000000  100.000000   33.330000   \n",
       "\n",
       "               Date  \n",
       "count  5.670000e+02  \n",
       "mean   1.603318e+09  \n",
       "std    2.396183e+02  \n",
       "min    1.603317e+09  \n",
       "25%    1.603318e+09  \n",
       "50%    1.603318e+09  \n",
       "75%    1.603318e+09  \n",
       "max    1.603318e+09  "
      ]
     },
     "execution_count": 7,
     "metadata": {},
     "output_type": "execute_result"
    }
   ],
   "source": [
    "weather_df.describe()"
   ]
  },
  {
   "cell_type": "code",
   "execution_count": null,
   "metadata": {},
   "outputs": [],
   "source": []
  },
  {
   "cell_type": "markdown",
   "metadata": {},
   "source": [
    "## Inspect the data and remove the cities where the humidity > 100%.\n",
    "----\n",
    "Skip this step if there are no cities that have humidity > 100%. "
   ]
  },
  {
   "cell_type": "code",
   "execution_count": 8,
   "metadata": {},
   "outputs": [
    {
     "data": {
      "text/plain": [
       "100"
      ]
     },
     "execution_count": 8,
     "metadata": {},
     "output_type": "execute_result"
    }
   ],
   "source": [
    "weather_df[\"Humidity\"].max()\n",
    "# There are no cities GREATER than 100% humidity, the max is 100%."
   ]
  },
  {
   "cell_type": "code",
   "execution_count": 9,
   "metadata": {},
   "outputs": [
    {
     "name": "stdout",
     "output_type": "stream",
     "text": [
      "The lower quartile of humidity is: 65.5\n",
      "The upper quartile of humidity is: 88.0\n",
      "The interquartile range of humidity is: 22.5\n",
      "The the median of humidity is: 79.0 \n",
      "Values below 31.75 could be outliers.\n",
      "Values above 121.75 could be outliers.\n"
     ]
    }
   ],
   "source": [
    "# Make a new DataFrame equal to the city data to drop all humidity outliers by index.\n",
    "# Passing \"inplace=False\" will make a copy of the city_data DataFrame, which we call \"clean_city_data\".\n",
    "quartiles = weather_df['Humidity'].quantile([.25,.5,.75])\n",
    "lowerq = quartiles[0.25]\n",
    "upperq = quartiles[0.75]\n",
    "iqr = upperq-lowerq\n",
    "\n",
    "print(f\"The lower quartile of humidity is: {lowerq}\")\n",
    "print(f\"The upper quartile of humidity is: {upperq}\")\n",
    "print(f\"The interquartile range of humidity is: {iqr}\")\n",
    "print(f\"The the median of humidity is: {quartiles[0.5]} \")\n",
    "\n",
    "lower_bound = lowerq - (1.5*iqr)\n",
    "upper_bound = upperq + (1.5*iqr)\n",
    "print(f\"Values below {lower_bound} could be outliers.\")\n",
    "print(f\"Values above {upper_bound} could be outliers.\")"
   ]
  },
  {
   "cell_type": "code",
   "execution_count": 10,
   "metadata": {},
   "outputs": [
    {
     "data": {
      "text/plain": [
       "City          560\n",
       "Lat           560\n",
       "Lng           560\n",
       "Max Temp      560\n",
       "Humidity      560\n",
       "Cloudiness    560\n",
       "Wind Speed    560\n",
       "Country       560\n",
       "Date          560\n",
       "dtype: int64"
      ]
     },
     "execution_count": 10,
     "metadata": {},
     "output_type": "execute_result"
    }
   ],
   "source": [
    "# Remove outliers and create a new dataframe without them\n",
    "clean_city_data = pd.DataFrame(weather_df[weather_df.Humidity >= 15.5])\n",
    "clean_city_data.count()"
   ]
  },
  {
   "cell_type": "code",
   "execution_count": 11,
   "metadata": {},
   "outputs": [
    {
     "data": {
      "text/html": [
       "<div>\n",
       "<style scoped>\n",
       "    .dataframe tbody tr th:only-of-type {\n",
       "        vertical-align: middle;\n",
       "    }\n",
       "\n",
       "    .dataframe tbody tr th {\n",
       "        vertical-align: top;\n",
       "    }\n",
       "\n",
       "    .dataframe thead th {\n",
       "        text-align: right;\n",
       "    }\n",
       "</style>\n",
       "<table border=\"1\" class=\"dataframe\">\n",
       "  <thead>\n",
       "    <tr style=\"text-align: right;\">\n",
       "      <th></th>\n",
       "      <th>City</th>\n",
       "      <th>Lat</th>\n",
       "      <th>Lng</th>\n",
       "      <th>Max Temp</th>\n",
       "      <th>Humidity</th>\n",
       "      <th>Cloudiness</th>\n",
       "      <th>Wind Speed</th>\n",
       "      <th>Country</th>\n",
       "      <th>Date</th>\n",
       "    </tr>\n",
       "  </thead>\n",
       "  <tbody>\n",
       "    <tr>\n",
       "      <th>0</th>\n",
       "      <td>ushuaia</td>\n",
       "      <td>-54.80</td>\n",
       "      <td>-68.30</td>\n",
       "      <td>53.60</td>\n",
       "      <td>46</td>\n",
       "      <td>75</td>\n",
       "      <td>12.75</td>\n",
       "      <td>AR</td>\n",
       "      <td>1603317621</td>\n",
       "    </tr>\n",
       "    <tr>\n",
       "      <th>1</th>\n",
       "      <td>katsuura</td>\n",
       "      <td>35.13</td>\n",
       "      <td>140.30</td>\n",
       "      <td>60.80</td>\n",
       "      <td>67</td>\n",
       "      <td>75</td>\n",
       "      <td>13.87</td>\n",
       "      <td>JP</td>\n",
       "      <td>1603317044</td>\n",
       "    </tr>\n",
       "    <tr>\n",
       "      <th>2</th>\n",
       "      <td>mongo</td>\n",
       "      <td>12.18</td>\n",
       "      <td>18.69</td>\n",
       "      <td>81.59</td>\n",
       "      <td>30</td>\n",
       "      <td>69</td>\n",
       "      <td>4.70</td>\n",
       "      <td>TD</td>\n",
       "      <td>1603317621</td>\n",
       "    </tr>\n",
       "    <tr>\n",
       "      <th>3</th>\n",
       "      <td>cap malheureux</td>\n",
       "      <td>-19.98</td>\n",
       "      <td>57.61</td>\n",
       "      <td>71.01</td>\n",
       "      <td>86</td>\n",
       "      <td>74</td>\n",
       "      <td>5.99</td>\n",
       "      <td>MU</td>\n",
       "      <td>1603317405</td>\n",
       "    </tr>\n",
       "    <tr>\n",
       "      <th>4</th>\n",
       "      <td>chokurdakh</td>\n",
       "      <td>70.63</td>\n",
       "      <td>147.92</td>\n",
       "      <td>9.93</td>\n",
       "      <td>94</td>\n",
       "      <td>100</td>\n",
       "      <td>4.36</td>\n",
       "      <td>RU</td>\n",
       "      <td>1603317035</td>\n",
       "    </tr>\n",
       "  </tbody>\n",
       "</table>\n",
       "</div>"
      ],
      "text/plain": [
       "             City    Lat     Lng  Max Temp  Humidity  Cloudiness  Wind Speed  \\\n",
       "0         ushuaia -54.80  -68.30     53.60        46          75       12.75   \n",
       "1        katsuura  35.13  140.30     60.80        67          75       13.87   \n",
       "2           mongo  12.18   18.69     81.59        30          69        4.70   \n",
       "3  cap malheureux -19.98   57.61     71.01        86          74        5.99   \n",
       "4      chokurdakh  70.63  147.92      9.93        94         100        4.36   \n",
       "\n",
       "  Country        Date  \n",
       "0      AR  1603317621  \n",
       "1      JP  1603317044  \n",
       "2      TD  1603317621  \n",
       "3      MU  1603317405  \n",
       "4      RU  1603317035  "
      ]
     },
     "execution_count": 11,
     "metadata": {},
     "output_type": "execute_result"
    }
   ],
   "source": [
    "# Save the new df as a csv\n",
    "clean_city_data.to_csv(\"../Output_Data/Clean_City_Data\")\n",
    "\n",
    "# Display the new df\n",
    "clean_city_data.head()"
   ]
  },
  {
   "cell_type": "code",
   "execution_count": null,
   "metadata": {},
   "outputs": [],
   "source": []
  },
  {
   "cell_type": "markdown",
   "metadata": {},
   "source": [
    "## Plotting the Data\n",
    "* Use proper labeling of the plots using plot titles (including date of analysis) and axes labels.\n",
    "* Save the plotted figures as .pngs."
   ]
  },
  {
   "cell_type": "markdown",
   "metadata": {},
   "source": [
    "## Latitude vs. Temperature Plot"
   ]
  },
  {
   "cell_type": "code",
   "execution_count": 12,
   "metadata": {
    "scrolled": true
   },
   "outputs": [
    {
     "data": {
      "image/png": "[encoded data removed]",
      "text/plain": [
       "<Figure size 432x288 with 1 Axes>"
      ]
     },
     "metadata": {
      "needs_background": "light"
     },
     "output_type": "display_data"
    }
   ],
   "source": [
    "plt.scatter(clean_city_data[\"Lat\"],clean_city_data[\"Max Temp\"],edgecolors=\"black\",facecolors=\"lightskyblue\")\n",
    "plt.title(\"City Latitude vs. Max Temperature (04/01/20)\")\n",
    "plt.xlabel(\"Latitude\")\n",
    "plt.ylabel(\"Max Temperature (F)\")\n",
    "plt.grid (True)\n",
    "plt.savefig(\"../Images/Lat_v_Temp.png\")\n",
    "plt.show()"
   ]
  },
  {
   "cell_type": "markdown",
   "metadata": {},
   "source": [
    "## Latitude vs. Humidity Plot"
   ]
  },
  {
   "cell_type": "code",
   "execution_count": 13,
   "metadata": {},
   "outputs": [
    {
     "data": {
      "image/png": "[encoded data removed]",
      "text/plain": [
       "<Figure size 432x288 with 1 Axes>"
      ]
     },
     "metadata": {
      "needs_background": "light"
     },
     "output_type": "display_data"
    }
   ],
   "source": [
    "plt.scatter(clean_city_data[\"Lat\"],clean_city_data[\"Humidity\"],edgecolors=\"black\",facecolors=\"lightskyblue\")\n",
    "plt.title(\"City Latitude vs. Humidity (04/01/20)\")\n",
    "plt.xlabel(\"Latitude\")\n",
    "plt.ylabel(\"Humidity (%)\")\n",
    "plt.grid (True)\n",
    "plt.savefig(\"../Images/Lat_v_Humid.png\")\n",
    "plt.show()"
   ]
  },
  {
   "cell_type": "markdown",
   "metadata": {},
   "source": [
    "## Latitude vs. Cloudiness Plot"
   ]
  },
  {
   "cell_type": "code",
   "execution_count": 14,
   "metadata": {},
   "outputs": [
    {
     "data": {
      "image/png": "[encoded data removed]",
      "text/plain": [
       "<Figure size 432x288 with 1 Axes>"
      ]
     },
     "metadata": {
      "needs_background": "light"
     },
     "output_type": "display_data"
    }
   ],
   "source": [
    "plt.scatter(clean_city_data[\"Lat\"],clean_city_data[\"Cloudiness\"],edgecolors=\"black\",facecolors=\"lightskyblue\")\n",
    "plt.title(\"City Latitude vs. Cloudiness (04/01/20)\")\n",
    "plt.xlabel(\"Latitude\")\n",
    "plt.ylabel(\"Cloudiness (%)\")\n",
    "plt.grid (True)\n",
    "plt.savefig(\"../Images/Lat_v_Cloud.png\")\n",
    "plt.show()"
   ]
  },
  {
   "cell_type": "markdown",
   "metadata": {},
   "source": [
    "## Latitude vs. Wind Speed Plot"
   ]
  },
  {
   "cell_type": "code",
   "execution_count": 15,
   "metadata": {},
   "outputs": [
    {
     "data": {
      "image/png": "[encoded data removed]",
      "text/plain": [
       "<Figure size 432x288 with 1 Axes>"
      ]
     },
     "metadata": {
      "needs_background": "light"
     },
     "output_type": "display_data"
    }
   ],
   "source": [
    "plt.scatter(clean_city_data[\"Lat\"],clean_city_data[\"Wind Speed\"],edgecolors=\"black\",facecolors=\"lightskyblue\")\n",
    "plt.title(\"City Latitude vs. Wind Speed (04/01/20)\")\n",
    "plt.xlabel(\"Latitude\")\n",
    "plt.ylabel(\"WindSpeed (MPH)\")\n",
    "plt.grid (True)\n",
    "plt.savefig(\"../Images/Lat_v_Wind.png\")\n",
    "plt.show()"
   ]
  },
  {
   "cell_type": "markdown",
   "metadata": {},
   "source": [
    "## Linear Regression"
   ]
  },
  {
   "cell_type": "code",
   "execution_count": 16,
   "metadata": {},
   "outputs": [
    {
     "data": {
      "text/html": [
       "<div>\n",
       "<style scoped>\n",
       "    .dataframe tbody tr th:only-of-type {\n",
       "        vertical-align: middle;\n",
       "    }\n",
       "\n",
       "    .dataframe tbody tr th {\n",
       "        vertical-align: top;\n",
       "    }\n",
       "\n",
       "    .dataframe thead th {\n",
       "        text-align: right;\n",
       "    }\n",
       "</style>\n",
       "<table border=\"1\" class=\"dataframe\">\n",
       "  <thead>\n",
       "    <tr style=\"text-align: right;\">\n",
       "      <th></th>\n",
       "      <th>City</th>\n",
       "      <th>Lat</th>\n",
       "      <th>Lng</th>\n",
       "      <th>Max Temp</th>\n",
       "      <th>Humidity</th>\n",
       "      <th>Cloudiness</th>\n",
       "      <th>Wind Speed</th>\n",
       "      <th>Country</th>\n",
       "      <th>Date</th>\n",
       "    </tr>\n",
       "  </thead>\n",
       "  <tbody>\n",
       "    <tr>\n",
       "      <th>1</th>\n",
       "      <td>katsuura</td>\n",
       "      <td>35.13</td>\n",
       "      <td>140.30</td>\n",
       "      <td>60.80</td>\n",
       "      <td>67</td>\n",
       "      <td>75</td>\n",
       "      <td>13.87</td>\n",
       "      <td>JP</td>\n",
       "      <td>1603317044</td>\n",
       "    </tr>\n",
       "    <tr>\n",
       "      <th>2</th>\n",
       "      <td>mongo</td>\n",
       "      <td>12.18</td>\n",
       "      <td>18.69</td>\n",
       "      <td>81.59</td>\n",
       "      <td>30</td>\n",
       "      <td>69</td>\n",
       "      <td>4.70</td>\n",
       "      <td>TD</td>\n",
       "      <td>1603317621</td>\n",
       "    </tr>\n",
       "    <tr>\n",
       "      <th>4</th>\n",
       "      <td>chokurdakh</td>\n",
       "      <td>70.63</td>\n",
       "      <td>147.92</td>\n",
       "      <td>9.93</td>\n",
       "      <td>94</td>\n",
       "      <td>100</td>\n",
       "      <td>4.36</td>\n",
       "      <td>RU</td>\n",
       "      <td>1603317035</td>\n",
       "    </tr>\n",
       "    <tr>\n",
       "      <th>8</th>\n",
       "      <td>hambantota</td>\n",
       "      <td>6.12</td>\n",
       "      <td>81.12</td>\n",
       "      <td>78.80</td>\n",
       "      <td>94</td>\n",
       "      <td>40</td>\n",
       "      <td>6.93</td>\n",
       "      <td>LK</td>\n",
       "      <td>1603317202</td>\n",
       "    </tr>\n",
       "    <tr>\n",
       "      <th>10</th>\n",
       "      <td>nanortalik</td>\n",
       "      <td>60.14</td>\n",
       "      <td>-45.24</td>\n",
       "      <td>33.78</td>\n",
       "      <td>87</td>\n",
       "      <td>100</td>\n",
       "      <td>19.26</td>\n",
       "      <td>GL</td>\n",
       "      <td>1603317315</td>\n",
       "    </tr>\n",
       "  </tbody>\n",
       "</table>\n",
       "</div>"
      ],
      "text/plain": [
       "          City    Lat     Lng  Max Temp  Humidity  Cloudiness  Wind Speed  \\\n",
       "1     katsuura  35.13  140.30     60.80        67          75       13.87   \n",
       "2        mongo  12.18   18.69     81.59        30          69        4.70   \n",
       "4   chokurdakh  70.63  147.92      9.93        94         100        4.36   \n",
       "8   hambantota   6.12   81.12     78.80        94          40        6.93   \n",
       "10  nanortalik  60.14  -45.24     33.78        87         100       19.26   \n",
       "\n",
       "   Country        Date  \n",
       "1       JP  1603317044  \n",
       "2       TD  1603317621  \n",
       "4       RU  1603317035  \n",
       "8       LK  1603317202  \n",
       "10      GL  1603317315  "
      ]
     },
     "execution_count": 16,
     "metadata": {},
     "output_type": "execute_result"
    }
   ],
   "source": [
    "# I am creating all new data frames for each hemishperes, \n",
    "# since i couldn't figure out how to do it any other way,\n",
    "# but this makes it easier for me, and produces same result\n",
    "northern_df = pd.DataFrame(clean_city_data[clean_city_data.Lat >= 0])\n",
    "# Save the new df as a csv\n",
    "clean_city_data.to_csv(\"../Output_Data/Northern_DF\")\n",
    "\n",
    "northern_df.head()"
   ]
  },
  {
   "cell_type": "code",
   "execution_count": 17,
   "metadata": {},
   "outputs": [
    {
     "data": {
      "text/html": [
       "<div>\n",
       "<style scoped>\n",
       "    .dataframe tbody tr th:only-of-type {\n",
       "        vertical-align: middle;\n",
       "    }\n",
       "\n",
       "    .dataframe tbody tr th {\n",
       "        vertical-align: top;\n",
       "    }\n",
       "\n",
       "    .dataframe thead th {\n",
       "        text-align: right;\n",
       "    }\n",
       "</style>\n",
       "<table border=\"1\" class=\"dataframe\">\n",
       "  <thead>\n",
       "    <tr style=\"text-align: right;\">\n",
       "      <th></th>\n",
       "      <th>City</th>\n",
       "      <th>Lat</th>\n",
       "      <th>Lng</th>\n",
       "      <th>Max Temp</th>\n",
       "      <th>Humidity</th>\n",
       "      <th>Cloudiness</th>\n",
       "      <th>Wind Speed</th>\n",
       "      <th>Country</th>\n",
       "      <th>Date</th>\n",
       "    </tr>\n",
       "  </thead>\n",
       "  <tbody>\n",
       "    <tr>\n",
       "      <th>0</th>\n",
       "      <td>ushuaia</td>\n",
       "      <td>-54.80</td>\n",
       "      <td>-68.30</td>\n",
       "      <td>53.60</td>\n",
       "      <td>46</td>\n",
       "      <td>75</td>\n",
       "      <td>12.75</td>\n",
       "      <td>AR</td>\n",
       "      <td>1603317621</td>\n",
       "    </tr>\n",
       "    <tr>\n",
       "      <th>3</th>\n",
       "      <td>cap malheureux</td>\n",
       "      <td>-19.98</td>\n",
       "      <td>57.61</td>\n",
       "      <td>71.01</td>\n",
       "      <td>86</td>\n",
       "      <td>74</td>\n",
       "      <td>5.99</td>\n",
       "      <td>MU</td>\n",
       "      <td>1603317405</td>\n",
       "    </tr>\n",
       "    <tr>\n",
       "      <th>5</th>\n",
       "      <td>hobart</td>\n",
       "      <td>-42.88</td>\n",
       "      <td>147.33</td>\n",
       "      <td>55.00</td>\n",
       "      <td>81</td>\n",
       "      <td>75</td>\n",
       "      <td>4.70</td>\n",
       "      <td>AU</td>\n",
       "      <td>1603317395</td>\n",
       "    </tr>\n",
       "    <tr>\n",
       "      <th>6</th>\n",
       "      <td>ondjiva</td>\n",
       "      <td>-17.07</td>\n",
       "      <td>15.73</td>\n",
       "      <td>75.43</td>\n",
       "      <td>22</td>\n",
       "      <td>37</td>\n",
       "      <td>12.44</td>\n",
       "      <td>AO</td>\n",
       "      <td>1603317622</td>\n",
       "    </tr>\n",
       "    <tr>\n",
       "      <th>7</th>\n",
       "      <td>hermanus</td>\n",
       "      <td>-34.42</td>\n",
       "      <td>19.23</td>\n",
       "      <td>55.00</td>\n",
       "      <td>90</td>\n",
       "      <td>0</td>\n",
       "      <td>1.01</td>\n",
       "      <td>ZA</td>\n",
       "      <td>1603317025</td>\n",
       "    </tr>\n",
       "  </tbody>\n",
       "</table>\n",
       "</div>"
      ],
      "text/plain": [
       "             City    Lat     Lng  Max Temp  Humidity  Cloudiness  Wind Speed  \\\n",
       "0         ushuaia -54.80  -68.30     53.60        46          75       12.75   \n",
       "3  cap malheureux -19.98   57.61     71.01        86          74        5.99   \n",
       "5          hobart -42.88  147.33     55.00        81          75        4.70   \n",
       "6         ondjiva -17.07   15.73     75.43        22          37       12.44   \n",
       "7        hermanus -34.42   19.23     55.00        90           0        1.01   \n",
       "\n",
       "  Country        Date  \n",
       "0      AR  1603317621  \n",
       "3      MU  1603317405  \n",
       "5      AU  1603317395  \n",
       "6      AO  1603317622  \n",
       "7      ZA  1603317025  "
      ]
     },
     "execution_count": 17,
     "metadata": {},
     "output_type": "execute_result"
    }
   ],
   "source": [
    "southern_df = pd.DataFrame(clean_city_data[clean_city_data.Lat < 0])\n",
    "# Save the new df as a csv\n",
    "clean_city_data.to_csv(\"../Output_Data/Southern_DF\")\n",
    "\n",
    "southern_df.head()"
   ]
  },
  {
   "cell_type": "markdown",
   "metadata": {},
   "source": [
    "####  Northern Hemisphere - Max Temp vs. Latitude Linear Regression"
   ]
  },
  {
   "cell_type": "code",
   "execution_count": 18,
   "metadata": {},
   "outputs": [
    {
     "name": "stdout",
     "output_type": "stream",
     "text": [
      "The r-value is: -0.8492066789254935\n"
     ]
    },
    {
     "data": {
      "image/png": "[encoded data removed]",
      "text/plain": [
       "<Figure size 432x288 with 1 Axes>"
      ]
     },
     "metadata": {
      "needs_background": "light"
     },
     "output_type": "display_data"
    }
   ],
   "source": [
    "x_values = northern_df['Lat']\n",
    "y_values = northern_df['Max Temp']\n",
    "(slope, intercept, rvalue, pvalue, stderr) = linregress(x_values, y_values)\n",
    "regress_values = x_values * slope + intercept\n",
    "line_eq = \"y = \" + str(round(slope,2)) + \"x + \" + str(round(intercept,2))\n",
    "plt.scatter(x_values,y_values)\n",
    "plt.plot(x_values,regress_values,\"r-\")\n",
    "plt.title('Norther Hemisphere-Max Temp vs Latitude Linear Regression')\n",
    "plt.annotate(line_eq,(20,50),fontsize=15,color=\"red\")\n",
    "plt.xlabel('Latitude')\n",
    "plt.ylabel('Max Temp (F)')\n",
    "print(f\"The r-value is: {rvalue}\")\n",
    "plt.savefig(\"../Images/north_temp.png\")\n",
    "plt.show()"
   ]
  },
  {
   "cell_type": "markdown",
   "metadata": {},
   "source": [
    "####  Southern Hemisphere - Max Temp vs. Latitude Linear Regression"
   ]
  },
  {
   "cell_type": "code",
   "execution_count": 19,
   "metadata": {},
   "outputs": [
    {
     "name": "stdout",
     "output_type": "stream",
     "text": [
      "The r-value is: 0.7487113804259835\n"
     ]
    },
    {
     "data": {
      "image/png": "[encoded data removed]",
      "text/plain": [
       "<Figure size 432x288 with 1 Axes>"
      ]
     },
     "metadata": {
      "needs_background": "light"
     },
     "output_type": "display_data"
    }
   ],
   "source": [
    "x_values = southern_df['Lat']\n",
    "y_values = southern_df['Max Temp']\n",
    "(slope, intercept, rvalue, pvalue, stderr) = linregress(x_values, y_values)\n",
    "regress_values = x_values * slope + intercept\n",
    "line_eq = \"y = \" + str(round(slope,2)) + \"x + \" + str(round(intercept,2))\n",
    "plt.scatter(x_values,y_values)\n",
    "plt.plot(x_values,regress_values,\"r-\")\n",
    "plt.title('Southern Hemisphere-Max Temp vs Latitude Linear Regression')\n",
    "plt.annotate(line_eq,(-50,70),fontsize=15,color=\"red\")\n",
    "plt.xlabel('Latitude')\n",
    "plt.ylabel('Max Temp (F)')\n",
    "print(f\"The r-value is: {rvalue}\")\n",
    "plt.savefig(\"../Images/south_temp.png\")\n",
    "plt.show()"
   ]
  },
  {
   "cell_type": "markdown",
   "metadata": {},
   "source": [
    "####  Northern Hemisphere - Humidity (%) vs. Latitude Linear Regression"
   ]
  },
  {
   "cell_type": "code",
   "execution_count": 20,
   "metadata": {},
   "outputs": [
    {
     "name": "stdout",
     "output_type": "stream",
     "text": [
      "The r-value is: 0.2969049106416354\n"
     ]
    },
    {
     "data": {
      "image/png": "[encoded data removed]",
      "text/plain": [
       "<Figure size 432x288 with 1 Axes>"
      ]
     },
     "metadata": {
      "needs_background": "light"
     },
     "output_type": "display_data"
    }
   ],
   "source": [
    "x_values = northern_df['Lat']\n",
    "y_values = northern_df['Humidity']\n",
    "(slope, intercept, rvalue, pvalue, stderr) = linregress(x_values, y_values)\n",
    "regress_values = x_values * slope + intercept\n",
    "line_eq = \"y = \" + str(round(slope,2)) + \"x + \" + str(round(intercept,2))\n",
    "plt.scatter(x_values,y_values)\n",
    "plt.plot(x_values,regress_values,\"r-\")\n",
    "plt.title('Northern Hemisphere-Humidity vs Latitude Linear Regression')\n",
    "plt.annotate(line_eq,(20,60),fontsize=15,color=\"red\")\n",
    "plt.xlabel('Latitude')\n",
    "plt.ylabel('Humidity (%)')\n",
    "print(f\"The r-value is: {rvalue}\")\n",
    "plt.savefig(\"../Images/north_humid.png\")\n",
    "plt.show()"
   ]
  },
  {
   "cell_type": "markdown",
   "metadata": {},
   "source": [
    "####  Southern Hemisphere - Humidity (%) vs. Latitude Linear Regression"
   ]
  },
  {
   "cell_type": "code",
   "execution_count": 21,
   "metadata": {},
   "outputs": [
    {
     "name": "stdout",
     "output_type": "stream",
     "text": [
      "The r-value is: 0.26035900254788524\n"
     ]
    },
    {
     "data": {
      "image/png": "[encoded data removed]",
      "text/plain": [
       "<Figure size 432x288 with 1 Axes>"
      ]
     },
     "metadata": {
      "needs_background": "light"
     },
     "output_type": "display_data"
    }
   ],
   "source": [
    "x_values = southern_df['Lat']\n",
    "y_values = southern_df['Humidity']\n",
    "(slope, intercept, rvalue, pvalue, stderr) = linregress(x_values, y_values)\n",
    "regress_values = x_values * slope + intercept\n",
    "line_eq = \"y = \" + str(round(slope,2)) + \"x + \" + str(round(intercept,2))\n",
    "plt.scatter(x_values,y_values)\n",
    "plt.plot(x_values,regress_values,\"r-\")\n",
    "plt.title('Southern Hemisphere-Humidity vs Latitude Linear Regression')\n",
    "plt.annotate(line_eq,(-30,60),fontsize=15,color=\"red\")\n",
    "plt.xlabel('Latitude')\n",
    "plt.ylabel('Humidity (%)')\n",
    "print(f\"The r-value is: {rvalue}\")\n",
    "plt.savefig(\"../Images/south_humid.png\")\n",
    "plt.show()"
   ]
  },
  {
   "cell_type": "markdown",
   "metadata": {},
   "source": [
    "####  Northern Hemisphere - Cloudiness (%) vs. Latitude Linear Regression"
   ]
  },
  {
   "cell_type": "code",
   "execution_count": 22,
   "metadata": {},
   "outputs": [
    {
     "name": "stdout",
     "output_type": "stream",
     "text": [
      "The r-value is: 0.22785435916685476\n"
     ]
    },
    {
     "data": {
      "image/png": "[encoded data removed]",
      "text/plain": [
       "<Figure size 432x288 with 1 Axes>"
      ]
     },
     "metadata": {
      "needs_background": "light"
     },
     "output_type": "display_data"
    }
   ],
   "source": [
    "x_values = northern_df['Lat']\n",
    "y_values = northern_df['Cloudiness']\n",
    "(slope, intercept, rvalue, pvalue, stderr) = linregress(x_values, y_values)\n",
    "regress_values = x_values * slope + intercept\n",
    "line_eq = \"y = \" + str(round(slope,2)) + \"x + \" + str(round(intercept,2))\n",
    "plt.scatter(x_values,y_values)\n",
    "plt.plot(x_values,regress_values,\"r-\")\n",
    "plt.title('Northern Hemisphere-Cloudiness vs Latitude Linear Regression')\n",
    "plt.annotate(line_eq,(40,60),fontsize=15,color=\"red\")\n",
    "plt.xlabel('Latitude')\n",
    "plt.ylabel('Cloudiness (%)')\n",
    "print(f\"The r-value is: {rvalue}\")\n",
    "plt.savefig(\"../Images/north_cloud.png\")\n",
    "plt.show()"
   ]
  },
  {
   "cell_type": "markdown",
   "metadata": {},
   "source": [
    "####  Southern Hemisphere - Cloudiness (%) vs. Latitude Linear Regression"
   ]
  },
  {
   "cell_type": "code",
   "execution_count": 23,
   "metadata": {},
   "outputs": [
    {
     "name": "stdout",
     "output_type": "stream",
     "text": [
      "The r-value is: 0.11144724304738866\n"
     ]
    },
    {
     "data": {
      "image/png": "[encoded data removed]",
      "text/plain": [
       "<Figure size 432x288 with 1 Axes>"
      ]
     },
     "metadata": {
      "needs_background": "light"
     },
     "output_type": "display_data"
    }
   ],
   "source": [
    "x_values = southern_df['Lat']\n",
    "y_values = southern_df['Cloudiness']\n",
    "(slope, intercept, rvalue, pvalue, stderr) = linregress(x_values, y_values)\n",
    "regress_values = x_values * slope + intercept\n",
    "line_eq = \"y = \" + str(round(slope,2)) + \"x + \" + str(round(intercept,2))\n",
    "plt.scatter(x_values,y_values)\n",
    "plt.plot(x_values,regress_values,\"r-\")\n",
    "plt.title('Southern Hemisphere-Cloudiness vs Latitude Linear Regression')\n",
    "plt.annotate(line_eq,(-30,60),fontsize=15,color=\"red\")\n",
    "plt.xlabel('Latitude')\n",
    "plt.ylabel('Cloudiness (%)')\n",
    "print(f\"The r-value is: {rvalue}\")\n",
    "plt.savefig(\"../Images/south_cloud.png\")\n",
    "plt.show()"
   ]
  },
  {
   "cell_type": "markdown",
   "metadata": {},
   "source": [
    "####  Northern Hemisphere - Wind Speed (mph) vs. Latitude Linear Regression"
   ]
  },
  {
   "cell_type": "code",
   "execution_count": 24,
   "metadata": {},
   "outputs": [
    {
     "name": "stdout",
     "output_type": "stream",
     "text": [
      "The r-value is: 0.022797451352364995\n"
     ]
    },
    {
     "data": {
      "image/png": "[encoded data removed]",
      "text/plain": [
       "<Figure size 432x288 with 1 Axes>"
      ]
     },
     "metadata": {
      "needs_background": "light"
     },
     "output_type": "display_data"
    }
   ],
   "source": [
    "x_values = northern_df['Lat']\n",
    "y_values = northern_df['Wind Speed']\n",
    "(slope, intercept, rvalue, pvalue, stderr) = linregress(x_values, y_values)\n",
    "regress_values = x_values * slope + intercept\n",
    "line_eq = \"y = \" + str(round(slope,2)) + \"x + \" + str(round(intercept,2))\n",
    "plt.scatter(x_values,y_values)\n",
    "plt.plot(x_values,regress_values,\"r-\")\n",
    "plt.title('Northern Hemisphere-Wind Speed vs Latitude Linear Regression')\n",
    "plt.annotate(line_eq,(40,20),fontsize=15,color=\"red\")\n",
    "plt.xlabel('Latitude')\n",
    "plt.ylabel('Wind Speed (MPH)')\n",
    "print(f\"The r-value is: {rvalue}\")\n",
    "plt.savefig(\"../Images/north_wind.png\")\n",
    "plt.show()"
   ]
  },
  {
   "cell_type": "markdown",
   "metadata": {},
   "source": [
    "####  Southern Hemisphere - Wind Speed (mph) vs. Latitude Linear Regression"
   ]
  },
  {
   "cell_type": "code",
   "execution_count": 25,
   "metadata": {},
   "outputs": [
    {
     "name": "stdout",
     "output_type": "stream",
     "text": [
      "The r-value is: -0.05211967300515968\n"
     ]
    },
    {
     "data": {
      "image/png": "[encoded data removed]",
      "text/plain": [
       "<Figure size 432x288 with 1 Axes>"
      ]
     },
     "metadata": {
      "needs_background": "light"
     },
     "output_type": "display_data"
    }
   ],
   "source": [
    "x_values = southern_df['Lat']\n",
    "y_values = southern_df['Wind Speed']\n",
    "(slope, intercept, rvalue, pvalue, stderr) = linregress(x_values, y_values)\n",
    "regress_values = x_values * slope + intercept\n",
    "line_eq = \"y = \" + str(round(slope,2)) + \"x + \" + str(round(intercept,2))\n",
    "plt.scatter(x_values,y_values)\n",
    "plt.plot(x_values,regress_values,\"r-\")\n",
    "plt.title('Southern Hemisphere-Wind Speed vs Latitude Linear Regression')\n",
    "plt.annotate(line_eq,(-30,15),fontsize=15,color=\"red\")\n",
    "plt.xlabel('Latitude')\n",
    "plt.ylabel('Wind Speed (MPH)')\n",
    "print(f\"The r-value is: {rvalue}\")\n",
    "plt.savefig(\"../Images/south_wind.png\")\n",
    "plt.show()"
   ]
  },
  {
   "cell_type": "code",
   "execution_count": null,
   "metadata": {},
   "outputs": [],
   "source": []
  },
  {
   "cell_type": "code",
   "execution_count": null,
   "metadata": {},
   "outputs": [],
   "source": []
  },
  {
   "cell_type": "code",
   "execution_count": null,
   "metadata": {},
   "outputs": [],
   "source": []
  }
 ],
 "metadata": {
  "anaconda-cloud": {},
  "kernel_info": {
   "name": "python3"
  },
  "kernelspec": {
   "display_name": "Python 3",
   "language": "python",
   "name": "python3"
  },
  "language_info": {
   "codemirror_mode": {
    "name": "ipython",
    "version": 3
   },
   "file_extension": ".py",
   "mimetype": "text/x-python",
   "name": "python",
   "nbconvert_exporter": "python",
   "pygments_lexer": "ipython3",
   "version": "3.8.5"
  },
  "latex_envs": {
   "LaTeX_envs_menu_present": true,
   "autoclose": false,
   "autocomplete": true,
   "bibliofile": "biblio.bib",
   "cite_by": "apalike",
   "current_citInitial": 1,
   "eqLabelWithNumbers": true,
   "eqNumInitial": 1,
   "hotkeys": {
    "equation": "Ctrl-E",
    "itemize": "Ctrl-I"
   },
   "labels_anchors": false,
   "latex_user_defs": false,
   "report_style_numbering": false,
   "user_envs_cfg": false
  },
  "nteract": {
   "version": "0.12.3"
  }
 },
 "nbformat": 4,
 "nbformat_minor": 2
}
