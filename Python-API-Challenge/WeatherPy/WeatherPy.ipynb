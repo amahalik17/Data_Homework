{
 "cells": [
  {
   "cell_type": "markdown",
   "metadata": {},
   "source": [
    "# WeatherPy\n",
    "----\n",
    "\n",
    "#### Note\n",
    "* Instructions have been included for each segment. You do not have to follow them exactly, but they are included to help you think through the steps."
   ]
  },
  {
   "cell_type": "code",
   "execution_count": 1,
   "metadata": {
    "scrolled": true
   },
   "outputs": [],
   "source": [
    "# Import dependencies\n",
    "import pandas as pd\n",
    "import numpy as np\n",
    "import matplotlib.pyplot as plt\n",
    "import requests\n",
    "import time\n",
    "from citipy import citipy\n",
    "from api_keys import api_key\n",
    "from scipy.stats import linregress"
   ]
  },
  {
   "cell_type": "code",
   "execution_count": 2,
   "metadata": {},
   "outputs": [],
   "source": [
    "# Initiate variables and query address\n",
    "temp_type = \"imperial\"\n",
    "query_url = f\"http://api.openweathermap.org/data/2.5/weather?appid={api_key}&units={temp_type}&q=\"\n",
    "\n",
    "# Set the range for lat and lon\n",
    "lat_range = (-90, 90)\n",
    "lon_range = (-180, 180)"
   ]
  },
  {
   "cell_type": "markdown",
   "metadata": {},
   "source": [
    "## Generate Cities List"
   ]
  },
  {
   "cell_type": "code",
   "execution_count": 3,
   "metadata": {},
   "outputs": [
    {
     "data": {
      "text/plain": [
       "619"
      ]
     },
     "execution_count": 3,
     "metadata": {},
     "output_type": "execute_result"
    }
   ],
   "source": [
    "# Create empty lists to store our data\n",
    "lat_lon_list = []\n",
    "cities_list = []\n",
    "\n",
    "# Creat a set of random lats and lons\n",
    "# use random.random or random.unifrom, one auto rounds and one doesnt\n",
    "latitude = np.random.uniform(low = -90, high = 90, size = 1500)\n",
    "longitude = np.random.uniform(low = -180, high = 180, size = 1500)\n",
    "\n",
    "# Zip both sets to your empty list\n",
    "lat_lon_list = zip(latitude, longitude)\n",
    "\n",
    "# Create loop to add random coordinates and cities to their lists\n",
    "# Look up citipy documentation\n",
    "for x in lat_lon_list:\n",
    "    city = citipy.nearest_city(x[0], x[1]).city_name\n",
    "    \n",
    "    if city not in cities_list:\n",
    "        cities_list.append(city)\n",
    "        \n",
    "len(cities_list)"
   ]
  },
  {
   "cell_type": "markdown",
   "metadata": {},
   "source": [
    "### Perform API Calls\n",
    "* Perform a weather check on each city using a series of successive API calls.\n",
    "* Include a print log of each city as it'sbeing processed (with the city number and city name).\n"
   ]
  },
  {
   "cell_type": "code",
   "execution_count": 4,
   "metadata": {
    "scrolled": true
   },
   "outputs": [
    {
     "name": "stdout",
     "output_type": "stream",
     "text": [
      "Processing record number 1 in set number 1 | kaputa\n",
      "Processing record number 2 in set number 1 | busselton\n",
      "Processing record number 3 in set number 1 | sal rei\n",
      "Processing record number 4 in set number 1 | zaranj\n",
      "Processing record number 5 in set number 1 | ostrovnoy\n",
      "Processing record number 6 in set number 1 | tasiilaq\n",
      "City not found. Skipping...\n",
      "Processing record number 7 in set number 1 | hualmay\n",
      "Processing record number 8 in set number 1 | qaanaaq\n",
      "Processing record number 9 in set number 1 | avarua\n",
      "Processing record number 10 in set number 1 | swift current\n",
      "Processing record number 11 in set number 1 | esperance\n",
      "Processing record number 12 in set number 1 | puerto ayora\n",
      "City not found. Skipping...\n",
      "Processing record number 13 in set number 1 | ushuaia\n",
      "Processing record number 14 in set number 1 | atuona\n",
      "Processing record number 15 in set number 1 | cape town\n",
      "Processing record number 16 in set number 1 | avera\n",
      "Processing record number 17 in set number 1 | tuktoyaktuk\n",
      "Processing record number 18 in set number 1 | lata\n",
      "Processing record number 19 in set number 1 | inirida\n",
      "Processing record number 20 in set number 1 | lebu\n",
      "Processing record number 21 in set number 1 | punta arenas\n",
      "Processing record number 22 in set number 1 | mataura\n",
      "Processing record number 23 in set number 1 | geraldton\n",
      "Processing record number 24 in set number 1 | jalalabad\n",
      "Processing record number 25 in set number 1 | beaumont\n",
      "Processing record number 26 in set number 1 | vaini\n",
      "Processing record number 27 in set number 1 | labuhan\n",
      "Processing record number 28 in set number 1 | kapaa\n",
      "Processing record number 29 in set number 1 | fos-sur-mer\n",
      "City not found. Skipping...\n",
      "Processing record number 30 in set number 1 | broome\n",
      "Processing record number 31 in set number 1 | rocha\n",
      "Processing record number 32 in set number 1 | fallon\n",
      "Processing record number 33 in set number 1 | camalu\n",
      "Processing record number 34 in set number 1 | kahului\n",
      "Processing record number 35 in set number 1 | ibra\n",
      "City not found. Skipping...\n",
      "Processing record number 36 in set number 1 | ventspils\n",
      "Processing record number 37 in set number 1 | hermanus\n",
      "Processing record number 38 in set number 1 | coquimbo\n",
      "Processing record number 39 in set number 1 | bluff\n",
      "Processing record number 40 in set number 1 | hithadhoo\n",
      "Processing record number 41 in set number 1 | kurumkan\n",
      "Processing record number 42 in set number 1 | narsaq\n",
      "Processing record number 43 in set number 1 | albany\n",
      "Processing record number 44 in set number 1 | rikitea\n",
      "Processing record number 45 in set number 1 | eyrarbakki\n",
      "Processing record number 46 in set number 1 | yellowknife\n",
      "Processing record number 47 in set number 1 | shihezi\n",
      "Processing record number 48 in set number 1 | gao\n",
      "Processing record number 49 in set number 1 | dakar\n",
      "Processing record number 1 in set number 2 | santa maria ixhuatan\n",
      "Processing record number 2 in set number 2 | athabasca\n",
      "City not found. Skipping...\n",
      "Processing record number 3 in set number 2 | cururupu\n",
      "Processing record number 4 in set number 2 | bengkulu\n",
      "Processing record number 5 in set number 2 | bredasdorp\n",
      "Processing record number 6 in set number 2 | bombay\n",
      "Processing record number 7 in set number 2 | conde\n",
      "Processing record number 8 in set number 2 | faya\n",
      "Processing record number 9 in set number 2 | cockburn town\n",
      "Processing record number 10 in set number 2 | mehamn\n",
      "Processing record number 11 in set number 2 | ancud\n",
      "Processing record number 12 in set number 2 | provideniya\n",
      "Processing record number 13 in set number 2 | butaritari\n",
      "Processing record number 14 in set number 2 | whitehorse\n",
      "Processing record number 15 in set number 2 | smithers\n",
      "Processing record number 16 in set number 2 | karratha\n",
      "Processing record number 17 in set number 2 | bambous virieux\n",
      "Processing record number 18 in set number 2 | alibag\n",
      "Processing record number 19 in set number 2 | nikolsk\n",
      "Processing record number 20 in set number 2 | mar del plata\n",
      "Processing record number 21 in set number 2 | pampierstad\n",
      "Processing record number 22 in set number 2 | new norfolk\n",
      "Processing record number 23 in set number 2 | havre-saint-pierre\n",
      "Processing record number 24 in set number 2 | verkhnevilyuysk\n",
      "Processing record number 25 in set number 2 | ponta do sol\n",
      "Processing record number 26 in set number 2 | zuwarah\n",
      "Processing record number 27 in set number 2 | saint-philippe\n",
      "Processing record number 28 in set number 2 | hilo\n",
      "Processing record number 29 in set number 2 | arraial do cabo\n",
      "Processing record number 30 in set number 2 | morrope\n",
      "Processing record number 31 in set number 2 | bijie\n",
      "Processing record number 32 in set number 2 | souillac\n",
      "Processing record number 33 in set number 2 | barrow\n",
      "Processing record number 34 in set number 2 | abu samrah\n",
      "Processing record number 35 in set number 2 | port blair\n",
      "Processing record number 36 in set number 2 | neiafu\n",
      "Processing record number 37 in set number 2 | hobyo\n",
      "Processing record number 38 in set number 2 | nyrob\n",
      "Processing record number 39 in set number 2 | nushki\n",
      "Processing record number 40 in set number 2 | upernavik\n",
      "City not found. Skipping...\n",
      "Processing record number 41 in set number 2 | torbay\n",
      "Processing record number 42 in set number 2 | sharhorod\n",
      "Processing record number 43 in set number 2 | meulaboh\n",
      "Processing record number 44 in set number 2 | norman wells\n",
      "Processing record number 45 in set number 2 | east london\n",
      "Processing record number 46 in set number 2 | havre\n",
      "Processing record number 47 in set number 2 | san carlos de bariloche\n",
      "Processing record number 48 in set number 2 | gat\n",
      "City not found. Skipping...\n",
      "Processing record number 49 in set number 2 | srednekolymsk\n",
      "Processing record number 1 in set number 3 | klaksvik\n",
      "Processing record number 2 in set number 3 | port alfred\n",
      "Processing record number 3 in set number 3 | iqaluit\n",
      "Processing record number 4 in set number 3 | mahajanga\n",
      "City not found. Skipping...\n",
      "Processing record number 5 in set number 3 | ilebo\n",
      "Processing record number 6 in set number 3 | carnarvon\n",
      "Processing record number 7 in set number 3 | tulsipur\n",
      "City not found. Skipping...\n",
      "Processing record number 8 in set number 3 | manta\n",
      "Processing record number 9 in set number 3 | jamestown\n",
      "Processing record number 10 in set number 3 | baykit\n",
      "Processing record number 11 in set number 3 | garden city\n",
      "City not found. Skipping...\n",
      "Processing record number 12 in set number 3 | maniitsoq\n",
      "Processing record number 13 in set number 3 | saint-augustin\n",
      "Processing record number 14 in set number 3 | suez\n",
      "Processing record number 15 in set number 3 | hobart\n",
      "Processing record number 16 in set number 3 | longyearbyen\n",
      "Processing record number 17 in set number 3 | plettenberg bay\n",
      "Processing record number 18 in set number 3 | dunedin\n",
      "Processing record number 19 in set number 3 | tiksi\n",
      "City not found. Skipping...\n",
      "Processing record number 20 in set number 3 | cherskiy\n",
      "City not found. Skipping...\n",
      "Processing record number 21 in set number 3 | prince rupert\n",
      "Processing record number 22 in set number 3 | jutai\n",
      "Processing record number 23 in set number 3 | bethel\n",
      "Processing record number 24 in set number 3 | mastic beach\n",
      "Processing record number 25 in set number 3 | katakwi\n",
      "City not found. Skipping...\n",
      "Processing record number 26 in set number 3 | dikson\n",
      "Processing record number 27 in set number 3 | itarema\n",
      "Processing record number 28 in set number 3 | san quintin\n",
      "Processing record number 29 in set number 3 | kodiak\n",
      "Processing record number 30 in set number 3 | cayenne\n",
      "Processing record number 31 in set number 3 | fairbanks\n",
      "Processing record number 32 in set number 3 | saint george\n",
      "City not found. Skipping...\n",
      "Processing record number 33 in set number 3 | boguchar\n",
      "Processing record number 34 in set number 3 | camacha\n",
      "Processing record number 35 in set number 3 | razole\n",
      "Processing record number 36 in set number 3 | milkovo\n",
      "Processing record number 37 in set number 3 | siverek\n",
      "Processing record number 38 in set number 3 | north platte\n",
      "Processing record number 39 in set number 3 | benguela\n",
      "City not found. Skipping...\n",
      "Processing record number 40 in set number 3 | kaitangata\n",
      "Processing record number 41 in set number 3 | kamenka\n",
      "Processing record number 42 in set number 3 | kantunilkin\n"
     ]
    },
    {
     "name": "stdout",
     "output_type": "stream",
     "text": [
      "Processing record number 43 in set number 3 | qandala\n",
      "Processing record number 44 in set number 3 | kuytun\n",
      "Processing record number 45 in set number 3 | kyshtovka\n",
      "Processing record number 46 in set number 3 | boyolangu\n",
      "Processing record number 47 in set number 3 | chuy\n",
      "Processing record number 48 in set number 3 | palmer\n",
      "Processing record number 49 in set number 3 | komsomolskiy\n",
      "Processing record number 1 in set number 4 | saint-georges\n",
      "Processing record number 2 in set number 4 | kot addu\n",
      "Processing record number 3 in set number 4 | dhing\n",
      "Processing record number 4 in set number 4 | ola\n",
      "Processing record number 5 in set number 4 | zakamensk\n",
      "Processing record number 6 in set number 4 | keetmanshoop\n",
      "Processing record number 7 in set number 4 | haines junction\n",
      "Processing record number 8 in set number 4 | rusape\n",
      "Processing record number 9 in set number 4 | pevek\n",
      "Processing record number 10 in set number 4 | saldanha\n",
      "Processing record number 11 in set number 4 | inta\n",
      "Processing record number 12 in set number 4 | dingle\n",
      "Processing record number 13 in set number 4 | kalmunai\n",
      "Processing record number 14 in set number 4 | port lincoln\n",
      "Processing record number 15 in set number 4 | tual\n",
      "Processing record number 16 in set number 4 | chokurdakh\n",
      "Processing record number 17 in set number 4 | maragogi\n",
      "Processing record number 18 in set number 4 | potrero del llano\n",
      "Processing record number 19 in set number 4 | pahrump\n",
      "Processing record number 20 in set number 4 | vila franca do campo\n",
      "Processing record number 21 in set number 4 | yar-sale\n",
      "Processing record number 22 in set number 4 | akonolinga\n",
      "Processing record number 23 in set number 4 | yara\n",
      "Processing record number 24 in set number 4 | cochrane\n",
      "Processing record number 25 in set number 4 | alice springs\n",
      "Processing record number 26 in set number 4 | codrington\n",
      "Processing record number 27 in set number 4 | mahebourg\n",
      "City not found. Skipping...\n",
      "Processing record number 28 in set number 4 | husavik\n",
      "Processing record number 29 in set number 4 | olafsvik\n",
      "Processing record number 30 in set number 4 | uglegorsk\n",
      "Processing record number 31 in set number 4 | cidreira\n",
      "Processing record number 32 in set number 4 | khatanga\n",
      "Processing record number 33 in set number 4 | port elizabeth\n",
      "Processing record number 34 in set number 4 | cabo san lucas\n",
      "Processing record number 35 in set number 4 | ixtapa\n",
      "Processing record number 36 in set number 4 | tura\n",
      "Processing record number 37 in set number 4 | thompson\n",
      "Processing record number 38 in set number 4 | funtua\n",
      "Processing record number 39 in set number 4 | masallatah\n",
      "Processing record number 40 in set number 4 | luderitz\n",
      "Processing record number 41 in set number 4 | pendleton\n",
      "Processing record number 42 in set number 4 | santa fe\n",
      "Processing record number 43 in set number 4 | alofi\n",
      "Processing record number 44 in set number 4 | onokhoy\n",
      "Processing record number 45 in set number 4 | spolaita\n",
      "Processing record number 46 in set number 4 | lagoa\n",
      "Processing record number 47 in set number 4 | atlantic beach\n",
      "City not found. Skipping...\n",
      "Processing record number 48 in set number 4 | banda aceh\n",
      "Processing record number 49 in set number 4 | nikolskoye\n",
      "Processing record number 1 in set number 5 | praia da vitoria\n",
      "Processing record number 2 in set number 5 | tianpeng\n",
      "Processing record number 3 in set number 5 | ribeira grande\n",
      "Processing record number 4 in set number 5 | ornskoldsvik\n",
      "City not found. Skipping...\n",
      "City not found. Skipping...\n",
      "Processing record number 5 in set number 5 | nanortalik\n",
      "Processing record number 6 in set number 5 | nowy dwor mazowiecki\n",
      "Processing record number 7 in set number 5 | touros\n",
      "Processing record number 8 in set number 5 | havoysund\n",
      "City not found. Skipping...\n",
      "Processing record number 9 in set number 5 | talnakh\n",
      "Processing record number 10 in set number 5 | sakharovo\n",
      "City not found. Skipping...\n",
      "Processing record number 11 in set number 5 | laukaa\n",
      "City not found. Skipping...\n",
      "Processing record number 12 in set number 5 | bani walid\n",
      "City not found. Skipping...\n",
      "Processing record number 13 in set number 5 | kwinana\n",
      "Processing record number 14 in set number 5 | cumberland\n",
      "Processing record number 15 in set number 5 | hambantota\n",
      "Processing record number 16 in set number 5 | vao\n",
      "Processing record number 17 in set number 5 | lacarak\n",
      "Processing record number 18 in set number 5 | presidencia roque saenz pena\n",
      "City not found. Skipping...\n",
      "Processing record number 19 in set number 5 | sao filipe\n",
      "Processing record number 20 in set number 5 | aketi\n",
      "Processing record number 21 in set number 5 | hueypoxtla\n",
      "Processing record number 22 in set number 5 | waverley\n",
      "Processing record number 23 in set number 5 | hofn\n",
      "Processing record number 24 in set number 5 | tinskoy\n",
      "Processing record number 25 in set number 5 | ilulissat\n",
      "Processing record number 26 in set number 5 | chernaya kholunitsa\n",
      "Processing record number 27 in set number 5 | arlit\n",
      "Processing record number 28 in set number 5 | kavaratti\n",
      "Processing record number 29 in set number 5 | laguna\n",
      "City not found. Skipping...\n",
      "Processing record number 30 in set number 5 | georgetown\n",
      "Processing record number 31 in set number 5 | saint-joseph\n",
      "Processing record number 32 in set number 5 | dudinka\n",
      "City not found. Skipping...\n",
      "Processing record number 33 in set number 5 | nyurba\n",
      "Processing record number 34 in set number 5 | joshimath\n",
      "Processing record number 35 in set number 5 | nampula\n",
      "City not found. Skipping...\n",
      "Processing record number 36 in set number 5 | berlevag\n",
      "Processing record number 37 in set number 5 | francisco sa\n",
      "City not found. Skipping...\n",
      "Processing record number 38 in set number 5 | maridi\n",
      "Processing record number 39 in set number 5 | mocuba\n",
      "Processing record number 40 in set number 5 | soresina\n",
      "Processing record number 41 in set number 5 | willowmore\n",
      "Processing record number 42 in set number 5 | toamasina\n",
      "Processing record number 43 in set number 5 | podgorenskiy\n",
      "Processing record number 44 in set number 5 | timmins\n",
      "Processing record number 45 in set number 5 | tuatapere\n",
      "Processing record number 46 in set number 5 | severo-kurilsk\n",
      "Processing record number 47 in set number 5 | castro\n",
      "Processing record number 48 in set number 5 | hampton\n",
      "Processing record number 49 in set number 5 | pangnirtung\n",
      "Processing record number 1 in set number 6 | barbastro\n",
      "Processing record number 2 in set number 6 | barrhead\n",
      "Processing record number 3 in set number 6 | ales\n",
      "Processing record number 4 in set number 6 | grindavik\n",
      "Processing record number 5 in set number 6 | tanout\n",
      "Processing record number 6 in set number 6 | leningradskiy\n",
      "Processing record number 7 in set number 6 | keuruu\n",
      "Processing record number 8 in set number 6 | koumac\n",
      "Processing record number 9 in set number 6 | takoradi\n",
      "Processing record number 10 in set number 6 | santiago\n",
      "Processing record number 11 in set number 6 | nacimiento\n",
      "Processing record number 12 in set number 6 | honningsvag\n",
      "Processing record number 13 in set number 6 | kandrian\n",
      "Processing record number 14 in set number 6 | seguin\n",
      "Processing record number 15 in set number 6 | kushtagi\n",
      "Processing record number 16 in set number 6 | buchmany\n",
      "Processing record number 17 in set number 6 | pachora\n",
      "Processing record number 18 in set number 6 | minden\n",
      "Processing record number 19 in set number 6 | ampanihy\n",
      "Processing record number 20 in set number 6 | rio gallegos\n",
      "Processing record number 21 in set number 6 | alekseyevsk\n",
      "Processing record number 22 in set number 6 | abbeville\n",
      "Processing record number 23 in set number 6 | adrar\n",
      "City not found. Skipping...\n",
      "Processing record number 24 in set number 6 | san cristobal\n",
      "Processing record number 25 in set number 6 | fairview\n",
      "Processing record number 26 in set number 6 | vila do maio\n",
      "Processing record number 27 in set number 6 | aswan\n",
      "Processing record number 28 in set number 6 | adamas\n",
      "Processing record number 29 in set number 6 | providencia\n",
      "Processing record number 30 in set number 6 | homer\n",
      "Processing record number 31 in set number 6 | lorengau\n",
      "Processing record number 32 in set number 6 | lishu\n",
      "Processing record number 33 in set number 6 | javanrud\n",
      "Processing record number 34 in set number 6 | mackenzie\n",
      "Processing record number 35 in set number 6 | pangody\n",
      "Processing record number 36 in set number 6 | simbahan\n",
      "Processing record number 37 in set number 6 | maua\n"
     ]
    },
    {
     "name": "stdout",
     "output_type": "stream",
     "text": [
      "Processing record number 38 in set number 6 | skjervoy\n",
      "Processing record number 39 in set number 6 | methoni\n",
      "Processing record number 40 in set number 6 | galesong\n",
      "Processing record number 41 in set number 6 | sakakah\n",
      "Processing record number 42 in set number 6 | camopi\n",
      "Processing record number 43 in set number 6 | hamilton\n",
      "Processing record number 44 in set number 6 | lompoc\n",
      "Processing record number 45 in set number 6 | melenki\n",
      "Processing record number 46 in set number 6 | bulawayo\n",
      "Processing record number 47 in set number 6 | hammerfest\n",
      "City not found. Skipping...\n",
      "Processing record number 48 in set number 6 | zarand\n",
      "Processing record number 49 in set number 6 | lewistown\n",
      "Processing record number 1 in set number 7 | terrace bay\n",
      "Processing record number 2 in set number 7 | quelimane\n",
      "Processing record number 3 in set number 7 | esil\n",
      "Processing record number 4 in set number 7 | ejea de los caballeros\n",
      "Processing record number 5 in set number 7 | bud\n",
      "Processing record number 6 in set number 7 | zabaykalsk\n",
      "Processing record number 7 in set number 7 | ossora\n",
      "Processing record number 8 in set number 7 | dakoro\n",
      "Processing record number 9 in set number 7 | constitucion\n",
      "Processing record number 10 in set number 7 | malindi\n",
      "City not found. Skipping...\n",
      "Processing record number 11 in set number 7 | mount isa\n",
      "Processing record number 12 in set number 7 | tazovskiy\n",
      "Processing record number 13 in set number 7 | tateyama\n",
      "Processing record number 14 in set number 7 | pimenteiras\n",
      "Processing record number 15 in set number 7 | nome\n",
      "Processing record number 16 in set number 7 | makhinjauri\n",
      "Processing record number 17 in set number 7 | christchurch\n",
      "Processing record number 18 in set number 7 | nhulunbuy\n",
      "Processing record number 19 in set number 7 | francisco beltrao\n",
      "Processing record number 20 in set number 7 | mackay\n",
      "Processing record number 21 in set number 7 | bowen\n",
      "Processing record number 22 in set number 7 | mahibadhoo\n",
      "Processing record number 23 in set number 7 | bursa\n",
      "Processing record number 24 in set number 7 | faanui\n",
      "Processing record number 25 in set number 7 | kokopo\n",
      "Processing record number 26 in set number 7 | mount gambier\n",
      "City not found. Skipping...\n",
      "Processing record number 27 in set number 7 | isangel\n",
      "Processing record number 28 in set number 7 | clyde river\n",
      "City not found. Skipping...\n",
      "Processing record number 29 in set number 7 | portland\n",
      "Processing record number 30 in set number 7 | deputatskiy\n",
      "Processing record number 31 in set number 7 | talaya\n",
      "Processing record number 32 in set number 7 | kemijarvi\n",
      "Processing record number 33 in set number 7 | ahipara\n",
      "Processing record number 34 in set number 7 | kaoma\n",
      "Processing record number 35 in set number 7 | ust-tsilma\n",
      "Processing record number 36 in set number 7 | kavieng\n",
      "Processing record number 37 in set number 7 | port-gentil\n",
      "Processing record number 38 in set number 7 | steinbach\n",
      "City not found. Skipping...\n",
      "Processing record number 39 in set number 7 | yulara\n",
      "Processing record number 40 in set number 7 | semme\n",
      "Processing record number 41 in set number 7 | emba\n",
      "Processing record number 42 in set number 7 | aklavik\n",
      "Processing record number 43 in set number 7 | thunder bay\n",
      "Processing record number 44 in set number 7 | markova\n",
      "Processing record number 45 in set number 7 | marienburg\n",
      "Processing record number 46 in set number 7 | kupang\n",
      "Processing record number 47 in set number 7 | pisco\n",
      "Processing record number 48 in set number 7 | fortuna\n",
      "Processing record number 49 in set number 7 | havelock\n",
      "Processing record number 1 in set number 8 | airai\n",
      "Processing record number 2 in set number 8 | yiyang\n",
      "Processing record number 3 in set number 8 | kushalgarh\n",
      "Processing record number 4 in set number 8 | grand gaube\n",
      "Processing record number 5 in set number 8 | araouane\n",
      "City not found. Skipping...\n",
      "Processing record number 6 in set number 8 | westport\n",
      "Processing record number 7 in set number 8 | margate\n",
      "Processing record number 8 in set number 8 | beringovskiy\n",
      "Processing record number 9 in set number 8 | high prairie\n",
      "Processing record number 10 in set number 8 | kandi\n",
      "Processing record number 11 in set number 8 | san patricio\n",
      "Processing record number 12 in set number 8 | bukachacha\n",
      "Processing record number 13 in set number 8 | sorland\n",
      "Processing record number 14 in set number 8 | anloga\n",
      "Processing record number 15 in set number 8 | praya\n",
      "Processing record number 16 in set number 8 | kaeo\n",
      "Processing record number 17 in set number 8 | finnsnes\n",
      "Processing record number 18 in set number 8 | kurchum\n",
      "Processing record number 19 in set number 8 | kutum\n",
      "Processing record number 20 in set number 8 | olga\n",
      "Processing record number 21 in set number 8 | itamaraca\n",
      "Processing record number 22 in set number 8 | narasannapeta\n",
      "Processing record number 23 in set number 8 | chimoio\n",
      "Processing record number 24 in set number 8 | asilah\n",
      "City not found. Skipping...\n",
      "Processing record number 25 in set number 8 | ca mau\n",
      "City not found. Skipping...\n",
      "Processing record number 26 in set number 8 | vestmanna\n",
      "City not found. Skipping...\n",
      "Processing record number 27 in set number 8 | porto novo\n",
      "Processing record number 28 in set number 8 | horn lake\n",
      "Processing record number 29 in set number 8 | logan\n",
      "Processing record number 30 in set number 8 | bure\n",
      "Processing record number 31 in set number 8 | digby\n",
      "Processing record number 32 in set number 8 | vila velha\n",
      "Processing record number 33 in set number 8 | gizo\n",
      "Processing record number 34 in set number 8 | noumea\n",
      "Processing record number 35 in set number 8 | scarborough\n",
      "Processing record number 36 in set number 8 | mujiayingzi\n",
      "Processing record number 37 in set number 8 | apache junction\n",
      "Processing record number 38 in set number 8 | coihaique\n",
      "Processing record number 39 in set number 8 | marawi\n",
      "Processing record number 40 in set number 8 | yumen\n",
      "Processing record number 41 in set number 8 | leshukonskoye\n",
      "Processing record number 42 in set number 8 | antofagasta\n",
      "Processing record number 43 in set number 8 | kerewan\n",
      "Processing record number 44 in set number 8 | vidim\n",
      "Processing record number 45 in set number 8 | iracoubo\n",
      "Processing record number 46 in set number 8 | bathsheba\n",
      "Processing record number 47 in set number 8 | kikwit\n",
      "Processing record number 48 in set number 8 | tete\n",
      "Processing record number 49 in set number 8 | yerbogachen\n",
      "Processing record number 1 in set number 9 | kruisfontein\n",
      "Processing record number 2 in set number 9 | iralaya\n",
      "Processing record number 3 in set number 9 | axim\n",
      "Processing record number 4 in set number 9 | te anau\n",
      "Processing record number 5 in set number 9 | verkhneuralsk\n",
      "Processing record number 6 in set number 9 | san jeronimo\n",
      "Processing record number 7 in set number 9 | kobryn\n",
      "Processing record number 8 in set number 9 | makakilo city\n",
      "Processing record number 9 in set number 9 | pailon\n",
      "Processing record number 10 in set number 9 | sumbe\n",
      "Processing record number 11 in set number 9 | bereda\n",
      "City not found. Skipping...\n",
      "City not found. Skipping...\n",
      "Processing record number 12 in set number 9 | pelym\n",
      "Processing record number 13 in set number 9 | kanungu\n",
      "Processing record number 14 in set number 9 | chebarkul\n",
      "City not found. Skipping...\n",
      "Processing record number 15 in set number 9 | comodoro rivadavia\n",
      "Processing record number 16 in set number 9 | morwell\n",
      "Processing record number 17 in set number 9 | churapcha\n",
      "Processing record number 18 in set number 9 | sabang\n",
      "Processing record number 19 in set number 9 | hacari\n",
      "Processing record number 20 in set number 9 | arkhangelsk\n",
      "Processing record number 21 in set number 9 | gunnedah\n",
      "Processing record number 22 in set number 9 | poltava\n",
      "Processing record number 23 in set number 9 | tukums\n",
      "Processing record number 24 in set number 9 | xuddur\n",
      "Processing record number 25 in set number 9 | mikuni\n",
      "Processing record number 26 in set number 9 | finschhafen\n",
      "Processing record number 27 in set number 9 | nuevitas\n",
      "Processing record number 28 in set number 9 | guerrero negro\n",
      "Processing record number 29 in set number 9 | xai-xai\n",
      "Processing record number 30 in set number 9 | san jose\n",
      "Processing record number 31 in set number 9 | elko\n",
      "Processing record number 32 in set number 9 | poum\n",
      "Processing record number 33 in set number 9 | envira\n"
     ]
    },
    {
     "name": "stdout",
     "output_type": "stream",
     "text": [
      "Processing record number 34 in set number 9 | sydney mines\n",
      "City not found. Skipping...\n",
      "Processing record number 35 in set number 9 | malatya\n",
      "Processing record number 36 in set number 9 | astoria\n",
      "Processing record number 37 in set number 9 | saskylakh\n",
      "Processing record number 38 in set number 9 | yatou\n",
      "Processing record number 39 in set number 9 | marsa matruh\n",
      "Processing record number 40 in set number 9 | auxerre\n",
      "Processing record number 41 in set number 9 | farah\n",
      "Processing record number 42 in set number 9 | san isidro\n",
      "Processing record number 43 in set number 9 | weligama\n",
      "Processing record number 44 in set number 9 | melo\n",
      "City not found. Skipping...\n",
      "Processing record number 45 in set number 9 | sarangani\n",
      "Processing record number 46 in set number 9 | shache\n",
      "Processing record number 47 in set number 9 | gamba\n",
      "Processing record number 48 in set number 9 | banjar\n",
      "Processing record number 49 in set number 9 | yantikovo\n",
      "Processing record number 1 in set number 10 | montague\n",
      "Processing record number 2 in set number 10 | turukhansk\n",
      "Processing record number 3 in set number 10 | yibin\n",
      "Processing record number 4 in set number 10 | hyderabad\n",
      "Processing record number 5 in set number 10 | mayo\n",
      "Processing record number 6 in set number 10 | frutal\n",
      "City not found. Skipping...\n",
      "Processing record number 7 in set number 10 | lodja\n",
      "Processing record number 8 in set number 10 | aurora\n",
      "Processing record number 9 in set number 10 | oranjemund\n",
      "Processing record number 10 in set number 10 | noyabrsk\n",
      "Processing record number 11 in set number 10 | isfara\n",
      "Processing record number 12 in set number 10 | opuwo\n",
      "Processing record number 13 in set number 10 | chernyshevskiy\n",
      "Processing record number 14 in set number 10 | mae sai\n",
      "Processing record number 15 in set number 10 | tavda\n",
      "Processing record number 16 in set number 10 | ios\n",
      "Processing record number 17 in set number 10 | burkburnett\n",
      "Processing record number 18 in set number 10 | big rapids\n",
      "Processing record number 19 in set number 10 | half moon bay\n",
      "Processing record number 20 in set number 10 | lasa\n",
      "Processing record number 21 in set number 10 | natal\n",
      "Processing record number 22 in set number 10 | greenville\n",
      "Processing record number 23 in set number 10 | linxia\n",
      "Processing record number 24 in set number 10 | victoria\n",
      "Processing record number 25 in set number 10 | uberaba\n",
      "Processing record number 26 in set number 10 | sioux lookout\n",
      "Processing record number 27 in set number 10 | copala\n",
      "Processing record number 28 in set number 10 | sao francisco\n",
      "Processing record number 29 in set number 10 | inhambane\n",
      "Processing record number 30 in set number 10 | peterhead\n",
      "Processing record number 31 in set number 10 | padang\n",
      "Processing record number 32 in set number 10 | qaqortoq\n",
      "Processing record number 33 in set number 10 | zhanakorgan\n",
      "Processing record number 34 in set number 10 | japura\n",
      "Processing record number 35 in set number 10 | khanpur\n",
      "Processing record number 36 in set number 10 | salalah\n",
      "Processing record number 37 in set number 10 | koutiala\n",
      "Processing record number 38 in set number 10 | riyadh\n",
      "Processing record number 39 in set number 10 | sur\n",
      "Processing record number 40 in set number 10 | ocean city\n",
      "Processing record number 41 in set number 10 | chapleau\n",
      "Processing record number 42 in set number 10 | puerto gaitan\n",
      "Processing record number 43 in set number 10 | yinchuan\n",
      "Processing record number 44 in set number 10 | koslan\n",
      "Processing record number 45 in set number 10 | goderich\n",
      "Processing record number 46 in set number 10 | aras\n",
      "City not found. Skipping...\n",
      "Processing record number 47 in set number 10 | ishigaki\n",
      "Processing record number 48 in set number 10 | chengdu\n",
      "Processing record number 49 in set number 10 | ahuimanu\n",
      "Processing record number 1 in set number 11 | toora-khem\n",
      "Processing record number 2 in set number 11 | gawler\n",
      "Processing record number 3 in set number 11 | bandarbeyla\n",
      "Processing record number 4 in set number 11 | ankpa\n",
      "Processing record number 5 in set number 11 | kishi\n",
      "Processing record number 6 in set number 11 | palu\n",
      "Processing record number 7 in set number 11 | necochea\n",
      "Processing record number 8 in set number 11 | vanderhoof\n",
      "Processing record number 9 in set number 11 | bilibino\n",
      "Processing record number 10 in set number 11 | emerald\n",
      "Processing record number 11 in set number 11 | tornio\n",
      "Processing record number 12 in set number 11 | olinda\n",
      "Processing record number 13 in set number 11 | igrim\n",
      "Processing record number 14 in set number 11 | chitipa\n",
      "Processing record number 15 in set number 11 | zamosc\n",
      "Processing record number 16 in set number 11 | kholtoson\n",
      "City not found. Skipping...\n",
      "Processing record number 17 in set number 11 | cabra\n",
      "Processing record number 18 in set number 11 | azul\n",
      "City not found. Skipping...\n",
      "Processing record number 19 in set number 11 | ambanja\n",
      "Processing record number 20 in set number 11 | brandfort\n",
      "Processing record number 21 in set number 11 | udachnyy\n",
      "Processing record number 22 in set number 11 | mbuji-mayi\n",
      "Processing record number 23 in set number 11 | mwanza\n",
      "Processing record number 24 in set number 11 | shinshiro\n",
      "Processing record number 25 in set number 11 | ban nahin\n",
      "Processing record number 26 in set number 11 | khudumelapye\n",
      "Processing record number 27 in set number 11 | loandjili\n",
      "Processing record number 28 in set number 11 | watertown\n",
      "Processing record number 29 in set number 11 | wajid\n",
      "Processing record number 30 in set number 11 | atar\n",
      "Processing record number 31 in set number 11 | preobrazheniye\n",
      "Processing record number 32 in set number 11 | road town\n",
      "Processing record number 33 in set number 11 | sompeta\n",
      "City not found. Skipping...\n",
      "Processing record number 34 in set number 11 | gushikawa\n",
      "Processing record number 35 in set number 11 | hovd\n",
      "Processing record number 36 in set number 11 | lethem\n",
      "Processing record number 37 in set number 11 | espoo\n",
      "Processing record number 38 in set number 11 | moron\n",
      "Processing record number 39 in set number 11 | mogadishu\n",
      "Processing record number 40 in set number 11 | aykhal\n",
      "Processing record number 41 in set number 11 | mindelo\n",
      "Processing record number 42 in set number 11 | huarmey\n",
      "Processing record number 43 in set number 11 | bridgetown\n",
      "Processing record number 44 in set number 11 | sambava\n",
      "Processing record number 45 in set number 11 | rongcheng\n",
      "Processing record number 46 in set number 11 | djenne\n",
      "Processing record number 47 in set number 11 | seoul\n",
      "Processing record number 48 in set number 11 | sitka\n",
      "Processing record number 49 in set number 11 | quatre cocos\n",
      "Processing record number 1 in set number 12 | bentiu\n",
      "Processing record number 2 in set number 12 | sekoma\n",
      "Processing record number 3 in set number 12 | caravelas\n",
      "Processing record number 4 in set number 12 | tabat\n",
      "Processing record number 5 in set number 12 | praia\n",
      "Processing record number 6 in set number 12 | debre tabor\n",
      "Processing record number 7 in set number 12 | dodola\n",
      "Processing record number 8 in set number 12 | gander\n",
      "Processing record number 9 in set number 12 | domoni\n",
      "Processing record number 10 in set number 12 | sao joao da barra\n",
      "City not found. Skipping...\n",
      "City not found. Skipping...\n",
      "Processing record number 11 in set number 12 | tucuman\n",
      "Processing record number 12 in set number 12 | barraute\n",
      "Processing record number 13 in set number 12 | chunskiy\n",
      "Processing record number 14 in set number 12 | boralday\n",
      "Processing record number 15 in set number 12 | vestmannaeyjar\n",
      "Processing record number 16 in set number 12 | horta\n",
      "Processing record number 17 in set number 12 | shizuishan\n",
      "Processing record number 18 in set number 12 | stornoway\n",
      "Processing record number 19 in set number 12 | nouadhibou\n",
      "Processing record number 20 in set number 12 | khandyga\n",
      "Processing record number 21 in set number 12 | muros\n",
      "Processing record number 22 in set number 12 | dukat\n",
      "Processing record number 23 in set number 12 | nuuk\n",
      "Processing record number 24 in set number 12 | los llanos de aridane\n",
      "Processing record number 25 in set number 12 | gedo\n",
      "Processing record number 26 in set number 12 | tabou\n",
      "Processing record number 27 in set number 12 | agutaya\n",
      "Processing record number 28 in set number 12 | wakkanai\n",
      "Processing record number 29 in set number 12 | dillon\n",
      "Processing record number 30 in set number 12 | belyy yar\n"
     ]
    }
   ],
   "source": [
    "# Create empty lists for each data set\n",
    "city_name = []\n",
    "lat = []\n",
    "lng = []\n",
    "max_temp = []\n",
    "humidity = []\n",
    "cloudiness = []\n",
    "wind_speed = []\n",
    "country = []\n",
    "date = []\n",
    "\n",
    "# Start the counters\n",
    "records = 0\n",
    "sets = 1\n",
    "\n",
    "# loop through response data\n",
    "# Use the try and except error handling\n",
    "for city in cities_list:\n",
    "    try:\n",
    "        # API Call\n",
    "        response = requests.get(query_url + city).json()\n",
    "        \n",
    "        # Apeend all those empty lists with data from loop\n",
    "        lat.append(response['coord']['lat'])\n",
    "        lng.append(response['coord']['lon'])\n",
    "        max_temp.append(response['main']['temp_max'])\n",
    "        humidity.append(response['main']['humidity'])\n",
    "        cloudiness.append(response['clouds']['all'])\n",
    "        wind_speed.append(response['wind']['speed'])\n",
    "        country.append(response['sys']['country'])\n",
    "        date.append(response['dt'])\n",
    "        \n",
    "        # Create if statement, add counts, and append\n",
    "        if records > 48:\n",
    "            records = 1\n",
    "            sets += 1\n",
    "            city_name.append(city)\n",
    "        else:\n",
    "            records += 1\n",
    "            city_name.append(city)\n",
    "        print(f\"Processing record number {records} in set number {sets} | {city}\")\n",
    "    except:\n",
    "        print(\"City not found. Skipping...\")\n"
   ]
  },
  {
   "cell_type": "markdown",
   "metadata": {},
   "source": [
    "### Convert Raw Data to DataFrame\n",
    "* Export the city data into a .csv.\n",
    "* Display the DataFrame"
   ]
  },
  {
   "cell_type": "code",
   "execution_count": 5,
   "metadata": {},
   "outputs": [
    {
     "data": {
      "text/html": [
       "<div>\n",
       "<style scoped>\n",
       "    .dataframe tbody tr th:only-of-type {\n",
       "        vertical-align: middle;\n",
       "    }\n",
       "\n",
       "    .dataframe tbody tr th {\n",
       "        vertical-align: top;\n",
       "    }\n",
       "\n",
       "    .dataframe thead th {\n",
       "        text-align: right;\n",
       "    }\n",
       "</style>\n",
       "<table border=\"1\" class=\"dataframe\">\n",
       "  <thead>\n",
       "    <tr style=\"text-align: right;\">\n",
       "      <th></th>\n",
       "      <th>City</th>\n",
       "      <th>Lat</th>\n",
       "      <th>Lng</th>\n",
       "      <th>Max Temp</th>\n",
       "      <th>Humidity</th>\n",
       "      <th>Cloudiness</th>\n",
       "      <th>Wind Speed</th>\n",
       "      <th>Country</th>\n",
       "      <th>Date</th>\n",
       "    </tr>\n",
       "  </thead>\n",
       "  <tbody>\n",
       "    <tr>\n",
       "      <th>0</th>\n",
       "      <td>kaputa</td>\n",
       "      <td>-8.47</td>\n",
       "      <td>29.66</td>\n",
       "      <td>80.44</td>\n",
       "      <td>40</td>\n",
       "      <td>2</td>\n",
       "      <td>4.61</td>\n",
       "      <td>ZM</td>\n",
       "      <td>1603044085</td>\n",
       "    </tr>\n",
       "    <tr>\n",
       "      <th>1</th>\n",
       "      <td>busselton</td>\n",
       "      <td>-33.65</td>\n",
       "      <td>115.33</td>\n",
       "      <td>60.01</td>\n",
       "      <td>51</td>\n",
       "      <td>1</td>\n",
       "      <td>8.72</td>\n",
       "      <td>AU</td>\n",
       "      <td>1603044085</td>\n",
       "    </tr>\n",
       "    <tr>\n",
       "      <th>2</th>\n",
       "      <td>sal rei</td>\n",
       "      <td>16.18</td>\n",
       "      <td>-22.92</td>\n",
       "      <td>87.80</td>\n",
       "      <td>70</td>\n",
       "      <td>8</td>\n",
       "      <td>6.93</td>\n",
       "      <td>CV</td>\n",
       "      <td>1603044086</td>\n",
       "    </tr>\n",
       "    <tr>\n",
       "      <th>3</th>\n",
       "      <td>zaranj</td>\n",
       "      <td>30.97</td>\n",
       "      <td>61.88</td>\n",
       "      <td>68.00</td>\n",
       "      <td>18</td>\n",
       "      <td>0</td>\n",
       "      <td>16.11</td>\n",
       "      <td>AF</td>\n",
       "      <td>1603044086</td>\n",
       "    </tr>\n",
       "    <tr>\n",
       "      <th>4</th>\n",
       "      <td>ostrovnoy</td>\n",
       "      <td>68.05</td>\n",
       "      <td>39.51</td>\n",
       "      <td>34.38</td>\n",
       "      <td>87</td>\n",
       "      <td>55</td>\n",
       "      <td>13.22</td>\n",
       "      <td>RU</td>\n",
       "      <td>1603044086</td>\n",
       "    </tr>\n",
       "  </tbody>\n",
       "</table>\n",
       "</div>"
      ],
      "text/plain": [
       "        City    Lat     Lng  Max Temp  Humidity  Cloudiness  Wind Speed  \\\n",
       "0     kaputa  -8.47   29.66     80.44        40           2        4.61   \n",
       "1  busselton -33.65  115.33     60.01        51           1        8.72   \n",
       "2    sal rei  16.18  -22.92     87.80        70           8        6.93   \n",
       "3     zaranj  30.97   61.88     68.00        18           0       16.11   \n",
       "4  ostrovnoy  68.05   39.51     34.38        87          55       13.22   \n",
       "\n",
       "  Country        Date  \n",
       "0      ZM  1603044085  \n",
       "1      AU  1603044085  \n",
       "2      CV  1603044086  \n",
       "3      AF  1603044086  \n",
       "4      RU  1603044086  "
      ]
     },
     "execution_count": 5,
     "metadata": {},
     "output_type": "execute_result"
    }
   ],
   "source": [
    "# Create a dictionary to store the results\n",
    "weather_data = {\n",
    "    \"City\": city_name,\n",
    "    \"Lat\": lat,\n",
    "    \"Lng\": lng,\n",
    "    \"Max Temp\": max_temp,\n",
    "    \"Humidity\": humidity,\n",
    "    \"Cloudiness\": cloudiness,\n",
    "    \"Wind Speed\": wind_speed,\n",
    "    \"Country\": country,\n",
    "    \"Date\": date\n",
    "}\n",
    "\n",
    "# Create a dataframe with the dictionary data\n",
    "weather_df = pd.DataFrame(weather_data)\n",
    "\n",
    "weather_df.head()"
   ]
  },
  {
   "cell_type": "code",
   "execution_count": 6,
   "metadata": {},
   "outputs": [],
   "source": [
    "# Turn that into a csv file\n",
    "weather_df.to_csv(\"../Output_Data/Weather_Data\")"
   ]
  },
  {
   "cell_type": "code",
   "execution_count": 7,
   "metadata": {},
   "outputs": [
    {
     "data": {
      "text/html": [
       "<div>\n",
       "<style scoped>\n",
       "    .dataframe tbody tr th:only-of-type {\n",
       "        vertical-align: middle;\n",
       "    }\n",
       "\n",
       "    .dataframe tbody tr th {\n",
       "        vertical-align: top;\n",
       "    }\n",
       "\n",
       "    .dataframe thead th {\n",
       "        text-align: right;\n",
       "    }\n",
       "</style>\n",
       "<table border=\"1\" class=\"dataframe\">\n",
       "  <thead>\n",
       "    <tr style=\"text-align: right;\">\n",
       "      <th></th>\n",
       "      <th>Lat</th>\n",
       "      <th>Lng</th>\n",
       "      <th>Max Temp</th>\n",
       "      <th>Humidity</th>\n",
       "      <th>Cloudiness</th>\n",
       "      <th>Wind Speed</th>\n",
       "      <th>Date</th>\n",
       "    </tr>\n",
       "  </thead>\n",
       "  <tbody>\n",
       "    <tr>\n",
       "      <th>count</th>\n",
       "      <td>569.000000</td>\n",
       "      <td>569.000000</td>\n",
       "      <td>569.000000</td>\n",
       "      <td>569.000000</td>\n",
       "      <td>569.000000</td>\n",
       "      <td>569.000000</td>\n",
       "      <td>5.690000e+02</td>\n",
       "    </tr>\n",
       "    <tr>\n",
       "      <th>mean</th>\n",
       "      <td>21.331740</td>\n",
       "      <td>15.065747</td>\n",
       "      <td>61.064499</td>\n",
       "      <td>69.785589</td>\n",
       "      <td>51.490334</td>\n",
       "      <td>8.196626</td>\n",
       "      <td>1.603044e+09</td>\n",
       "    </tr>\n",
       "    <tr>\n",
       "      <th>std</th>\n",
       "      <td>33.616181</td>\n",
       "      <td>86.235769</td>\n",
       "      <td>21.367998</td>\n",
       "      <td>22.295070</td>\n",
       "      <td>36.772047</td>\n",
       "      <td>5.425023</td>\n",
       "      <td>6.760402e+01</td>\n",
       "    </tr>\n",
       "    <tr>\n",
       "      <th>min</th>\n",
       "      <td>-54.800000</td>\n",
       "      <td>-175.200000</td>\n",
       "      <td>6.800000</td>\n",
       "      <td>1.000000</td>\n",
       "      <td>0.000000</td>\n",
       "      <td>0.450000</td>\n",
       "      <td>1.603044e+09</td>\n",
       "    </tr>\n",
       "    <tr>\n",
       "      <th>25%</th>\n",
       "      <td>-6.250000</td>\n",
       "      <td>-59.800000</td>\n",
       "      <td>44.600000</td>\n",
       "      <td>58.000000</td>\n",
       "      <td>20.000000</td>\n",
       "      <td>4.410000</td>\n",
       "      <td>1.603044e+09</td>\n",
       "    </tr>\n",
       "    <tr>\n",
       "      <th>50%</th>\n",
       "      <td>28.020000</td>\n",
       "      <td>23.370000</td>\n",
       "      <td>64.400000</td>\n",
       "      <td>76.000000</td>\n",
       "      <td>52.000000</td>\n",
       "      <td>6.930000</td>\n",
       "      <td>1.603044e+09</td>\n",
       "    </tr>\n",
       "    <tr>\n",
       "      <th>75%</th>\n",
       "      <td>50.100000</td>\n",
       "      <td>81.820000</td>\n",
       "      <td>78.460000</td>\n",
       "      <td>87.000000</td>\n",
       "      <td>90.000000</td>\n",
       "      <td>11.100000</td>\n",
       "      <td>1.603044e+09</td>\n",
       "    </tr>\n",
       "    <tr>\n",
       "      <th>max</th>\n",
       "      <td>78.220000</td>\n",
       "      <td>179.320000</td>\n",
       "      <td>102.340000</td>\n",
       "      <td>100.000000</td>\n",
       "      <td>100.000000</td>\n",
       "      <td>34.450000</td>\n",
       "      <td>1.603044e+09</td>\n",
       "    </tr>\n",
       "  </tbody>\n",
       "</table>\n",
       "</div>"
      ],
      "text/plain": [
       "              Lat         Lng    Max Temp    Humidity  Cloudiness  Wind Speed  \\\n",
       "count  569.000000  569.000000  569.000000  569.000000  569.000000  569.000000   \n",
       "mean    21.331740   15.065747   61.064499   69.785589   51.490334    8.196626   \n",
       "std     33.616181   86.235769   21.367998   22.295070   36.772047    5.425023   \n",
       "min    -54.800000 -175.200000    6.800000    1.000000    0.000000    0.450000   \n",
       "25%     -6.250000  -59.800000   44.600000   58.000000   20.000000    4.410000   \n",
       "50%     28.020000   23.370000   64.400000   76.000000   52.000000    6.930000   \n",
       "75%     50.100000   81.820000   78.460000   87.000000   90.000000   11.100000   \n",
       "max     78.220000  179.320000  102.340000  100.000000  100.000000   34.450000   \n",
       "\n",
       "               Date  \n",
       "count  5.690000e+02  \n",
       "mean   1.603044e+09  \n",
       "std    6.760402e+01  \n",
       "min    1.603044e+09  \n",
       "25%    1.603044e+09  \n",
       "50%    1.603044e+09  \n",
       "75%    1.603044e+09  \n",
       "max    1.603044e+09  "
      ]
     },
     "execution_count": 7,
     "metadata": {},
     "output_type": "execute_result"
    }
   ],
   "source": [
    "weather_df.describe()"
   ]
  },
  {
   "cell_type": "code",
   "execution_count": null,
   "metadata": {},
   "outputs": [],
   "source": []
  },
  {
   "cell_type": "markdown",
   "metadata": {},
   "source": [
    "## Inspect the data and remove the cities where the humidity > 100%.\n",
    "----\n",
    "Skip this step if there are no cities that have humidity > 100%. "
   ]
  },
  {
   "cell_type": "code",
   "execution_count": 8,
   "metadata": {},
   "outputs": [
    {
     "data": {
      "text/plain": [
       "100"
      ]
     },
     "execution_count": 8,
     "metadata": {},
     "output_type": "execute_result"
    }
   ],
   "source": [
    "weather_df[\"Humidity\"].max()\n",
    "# There are no cities GREATER than 100% humidity, the max is 100%."
   ]
  },
  {
   "cell_type": "code",
   "execution_count": 9,
   "metadata": {},
   "outputs": [
    {
     "name": "stdout",
     "output_type": "stream",
     "text": [
      "The lower quartile of humidity is: 58.0\n",
      "The upper quartile of humidity is: 87.0\n",
      "The interquartile range of humidity is: 29.0\n",
      "The the median of humidity is: 76.0 \n",
      "Values below 14.5 could be outliers.\n",
      "Values above 130.5 could be outliers.\n"
     ]
    }
   ],
   "source": [
    "# Make a new DataFrame equal to the city data to drop all humidity outliers by index.\n",
    "# Passing \"inplace=False\" will make a copy of the city_data DataFrame, which we call \"clean_city_data\".\n",
    "quartiles = weather_df['Humidity'].quantile([.25,.5,.75])\n",
    "lowerq = quartiles[0.25]\n",
    "upperq = quartiles[0.75]\n",
    "iqr = upperq-lowerq\n",
    "\n",
    "print(f\"The lower quartile of humidity is: {lowerq}\")\n",
    "print(f\"The upper quartile of humidity is: {upperq}\")\n",
    "print(f\"The interquartile range of humidity is: {iqr}\")\n",
    "print(f\"The the median of humidity is: {quartiles[0.5]} \")\n",
    "\n",
    "lower_bound = lowerq - (1.5*iqr)\n",
    "upper_bound = upperq + (1.5*iqr)\n",
    "print(f\"Values below {lower_bound} could be outliers.\")\n",
    "print(f\"Values above {upper_bound} could be outliers.\")"
   ]
  },
  {
   "cell_type": "code",
   "execution_count": 10,
   "metadata": {},
   "outputs": [
    {
     "data": {
      "text/plain": [
       "City          552\n",
       "Lat           552\n",
       "Lng           552\n",
       "Max Temp      552\n",
       "Humidity      552\n",
       "Cloudiness    552\n",
       "Wind Speed    552\n",
       "Country       552\n",
       "Date          552\n",
       "dtype: int64"
      ]
     },
     "execution_count": 10,
     "metadata": {},
     "output_type": "execute_result"
    }
   ],
   "source": [
    "# Remove outliers and create a new dataframe without them\n",
    "clean_city_data = pd.DataFrame(weather_df[weather_df.Humidity >= 15.5])\n",
    "clean_city_data.count()"
   ]
  },
  {
   "cell_type": "code",
   "execution_count": 11,
   "metadata": {},
   "outputs": [
    {
     "data": {
      "text/html": [
       "<div>\n",
       "<style scoped>\n",
       "    .dataframe tbody tr th:only-of-type {\n",
       "        vertical-align: middle;\n",
       "    }\n",
       "\n",
       "    .dataframe tbody tr th {\n",
       "        vertical-align: top;\n",
       "    }\n",
       "\n",
       "    .dataframe thead th {\n",
       "        text-align: right;\n",
       "    }\n",
       "</style>\n",
       "<table border=\"1\" class=\"dataframe\">\n",
       "  <thead>\n",
       "    <tr style=\"text-align: right;\">\n",
       "      <th></th>\n",
       "      <th>City</th>\n",
       "      <th>Lat</th>\n",
       "      <th>Lng</th>\n",
       "      <th>Max Temp</th>\n",
       "      <th>Humidity</th>\n",
       "      <th>Cloudiness</th>\n",
       "      <th>Wind Speed</th>\n",
       "      <th>Country</th>\n",
       "      <th>Date</th>\n",
       "    </tr>\n",
       "  </thead>\n",
       "  <tbody>\n",
       "    <tr>\n",
       "      <th>0</th>\n",
       "      <td>kaputa</td>\n",
       "      <td>-8.47</td>\n",
       "      <td>29.66</td>\n",
       "      <td>80.44</td>\n",
       "      <td>40</td>\n",
       "      <td>2</td>\n",
       "      <td>4.61</td>\n",
       "      <td>ZM</td>\n",
       "      <td>1603044085</td>\n",
       "    </tr>\n",
       "    <tr>\n",
       "      <th>1</th>\n",
       "      <td>busselton</td>\n",
       "      <td>-33.65</td>\n",
       "      <td>115.33</td>\n",
       "      <td>60.01</td>\n",
       "      <td>51</td>\n",
       "      <td>1</td>\n",
       "      <td>8.72</td>\n",
       "      <td>AU</td>\n",
       "      <td>1603044085</td>\n",
       "    </tr>\n",
       "    <tr>\n",
       "      <th>2</th>\n",
       "      <td>sal rei</td>\n",
       "      <td>16.18</td>\n",
       "      <td>-22.92</td>\n",
       "      <td>87.80</td>\n",
       "      <td>70</td>\n",
       "      <td>8</td>\n",
       "      <td>6.93</td>\n",
       "      <td>CV</td>\n",
       "      <td>1603044086</td>\n",
       "    </tr>\n",
       "    <tr>\n",
       "      <th>3</th>\n",
       "      <td>zaranj</td>\n",
       "      <td>30.97</td>\n",
       "      <td>61.88</td>\n",
       "      <td>68.00</td>\n",
       "      <td>18</td>\n",
       "      <td>0</td>\n",
       "      <td>16.11</td>\n",
       "      <td>AF</td>\n",
       "      <td>1603044086</td>\n",
       "    </tr>\n",
       "    <tr>\n",
       "      <th>4</th>\n",
       "      <td>ostrovnoy</td>\n",
       "      <td>68.05</td>\n",
       "      <td>39.51</td>\n",
       "      <td>34.38</td>\n",
       "      <td>87</td>\n",
       "      <td>55</td>\n",
       "      <td>13.22</td>\n",
       "      <td>RU</td>\n",
       "      <td>1603044086</td>\n",
       "    </tr>\n",
       "  </tbody>\n",
       "</table>\n",
       "</div>"
      ],
      "text/plain": [
       "        City    Lat     Lng  Max Temp  Humidity  Cloudiness  Wind Speed  \\\n",
       "0     kaputa  -8.47   29.66     80.44        40           2        4.61   \n",
       "1  busselton -33.65  115.33     60.01        51           1        8.72   \n",
       "2    sal rei  16.18  -22.92     87.80        70           8        6.93   \n",
       "3     zaranj  30.97   61.88     68.00        18           0       16.11   \n",
       "4  ostrovnoy  68.05   39.51     34.38        87          55       13.22   \n",
       "\n",
       "  Country        Date  \n",
       "0      ZM  1603044085  \n",
       "1      AU  1603044085  \n",
       "2      CV  1603044086  \n",
       "3      AF  1603044086  \n",
       "4      RU  1603044086  "
      ]
     },
     "execution_count": 11,
     "metadata": {},
     "output_type": "execute_result"
    }
   ],
   "source": [
    "# Save the new df as a csv\n",
    "clean_city_data.to_csv(\"../Output_Data/Clean_City_Data\")\n",
    "\n",
    "# Display the new df\n",
    "clean_city_data.head()"
   ]
  },
  {
   "cell_type": "code",
   "execution_count": null,
   "metadata": {},
   "outputs": [],
   "source": []
  },
  {
   "cell_type": "markdown",
   "metadata": {},
   "source": [
    "## Plotting the Data\n",
    "* Use proper labeling of the plots using plot titles (including date of analysis) and axes labels.\n",
    "* Save the plotted figures as .pngs."
   ]
  },
  {
   "cell_type": "markdown",
   "metadata": {},
   "source": [
    "## Latitude vs. Temperature Plot"
   ]
  },
  {
   "cell_type": "code",
   "execution_count": 12,
   "metadata": {
    "scrolled": true
   },
   "outputs": [
    {
     "data": {
      "image/png": "[encoded data removed]",
      "text/plain": [
       "<Figure size 432x288 with 1 Axes>"
      ]
     },
     "metadata": {
      "needs_background": "light"
     },
     "output_type": "display_data"
    }
   ],
   "source": [
    "plt.scatter(clean_city_data[\"Lat\"],clean_city_data[\"Max Temp\"],edgecolors=\"black\",facecolors=\"lightskyblue\")\n",
    "plt.title(\"City Latitude vs. Max Temperature (04/01/20)\")\n",
    "plt.xlabel(\"Latitude\")\n",
    "plt.ylabel(\"Max Temperature (F)\")\n",
    "plt.grid (True)\n",
    "plt.savefig(\"../Images/Lat_v_Temp.png\")\n",
    "plt.show()"
   ]
  },
  {
   "cell_type": "markdown",
   "metadata": {},
   "source": [
    "## Latitude vs. Humidity Plot"
   ]
  },
  {
   "cell_type": "code",
   "execution_count": 13,
   "metadata": {},
   "outputs": [
    {
     "data": {
      "image/png": "[encoded data removed]",
      "text/plain": [
       "<Figure size 432x288 with 1 Axes>"
      ]
     },
     "metadata": {
      "needs_background": "light"
     },
     "output_type": "display_data"
    }
   ],
   "source": [
    "plt.scatter(clean_city_data[\"Lat\"],clean_city_data[\"Humidity\"],edgecolors=\"black\",facecolors=\"lightskyblue\")\n",
    "plt.title(\"City Latitude vs. Humidity (04/01/20)\")\n",
    "plt.xlabel(\"Latitude\")\n",
    "plt.ylabel(\"Humidity (%)\")\n",
    "plt.grid (True)\n",
    "plt.savefig(\"../Images/Lat_v_Humid.png\")\n",
    "plt.show()"
   ]
  },
  {
   "cell_type": "markdown",
   "metadata": {},
   "source": [
    "## Latitude vs. Cloudiness Plot"
   ]
  },
  {
   "cell_type": "code",
   "execution_count": 14,
   "metadata": {},
   "outputs": [
    {
     "data": {
      "image/png": "[encoded data removed]",
      "text/plain": [
       "<Figure size 432x288 with 1 Axes>"
      ]
     },
     "metadata": {
      "needs_background": "light"
     },
     "output_type": "display_data"
    }
   ],
   "source": [
    "plt.scatter(clean_city_data[\"Lat\"],clean_city_data[\"Cloudiness\"],edgecolors=\"black\",facecolors=\"lightskyblue\")\n",
    "plt.title(\"City Latitude vs. Cloudiness (04/01/20)\")\n",
    "plt.xlabel(\"Latitude\")\n",
    "plt.ylabel(\"Cloudiness (%)\")\n",
    "plt.grid (True)\n",
    "plt.savefig(\"../Images/Lat_v_Cloud.png\")\n",
    "plt.show()"
   ]
  },
  {
   "cell_type": "markdown",
   "metadata": {},
   "source": [
    "## Latitude vs. Wind Speed Plot"
   ]
  },
  {
   "cell_type": "code",
   "execution_count": 15,
   "metadata": {},
   "outputs": [
    {
     "data": {
      "image/png": "[encoded data removed]",
      "text/plain": [
       "<Figure size 432x288 with 1 Axes>"
      ]
     },
     "metadata": {
      "needs_background": "light"
     },
     "output_type": "display_data"
    }
   ],
   "source": [
    "plt.scatter(clean_city_data[\"Lat\"],clean_city_data[\"Wind Speed\"],edgecolors=\"black\",facecolors=\"lightskyblue\")\n",
    "plt.title(\"City Latitude vs. Wind Speed (04/01/20)\")\n",
    "plt.xlabel(\"Latitude\")\n",
    "plt.ylabel(\"WindSpeed (MPH)\")\n",
    "plt.grid (True)\n",
    "plt.savefig(\"../Images/Lat_v_Wind.png\")\n",
    "plt.show()"
   ]
  },
  {
   "cell_type": "markdown",
   "metadata": {},
   "source": [
    "## Linear Regression"
   ]
  },
  {
   "cell_type": "code",
   "execution_count": 16,
   "metadata": {},
   "outputs": [
    {
     "data": {
      "text/html": [
       "<div>\n",
       "<style scoped>\n",
       "    .dataframe tbody tr th:only-of-type {\n",
       "        vertical-align: middle;\n",
       "    }\n",
       "\n",
       "    .dataframe tbody tr th {\n",
       "        vertical-align: top;\n",
       "    }\n",
       "\n",
       "    .dataframe thead th {\n",
       "        text-align: right;\n",
       "    }\n",
       "</style>\n",
       "<table border=\"1\" class=\"dataframe\">\n",
       "  <thead>\n",
       "    <tr style=\"text-align: right;\">\n",
       "      <th></th>\n",
       "      <th>City</th>\n",
       "      <th>Lat</th>\n",
       "      <th>Lng</th>\n",
       "      <th>Max Temp</th>\n",
       "      <th>Humidity</th>\n",
       "      <th>Cloudiness</th>\n",
       "      <th>Wind Speed</th>\n",
       "      <th>Country</th>\n",
       "      <th>Date</th>\n",
       "    </tr>\n",
       "  </thead>\n",
       "  <tbody>\n",
       "    <tr>\n",
       "      <th>2</th>\n",
       "      <td>sal rei</td>\n",
       "      <td>16.18</td>\n",
       "      <td>-22.92</td>\n",
       "      <td>87.80</td>\n",
       "      <td>70</td>\n",
       "      <td>8</td>\n",
       "      <td>6.93</td>\n",
       "      <td>CV</td>\n",
       "      <td>1603044086</td>\n",
       "    </tr>\n",
       "    <tr>\n",
       "      <th>3</th>\n",
       "      <td>zaranj</td>\n",
       "      <td>30.97</td>\n",
       "      <td>61.88</td>\n",
       "      <td>68.00</td>\n",
       "      <td>18</td>\n",
       "      <td>0</td>\n",
       "      <td>16.11</td>\n",
       "      <td>AF</td>\n",
       "      <td>1603044086</td>\n",
       "    </tr>\n",
       "    <tr>\n",
       "      <th>4</th>\n",
       "      <td>ostrovnoy</td>\n",
       "      <td>68.05</td>\n",
       "      <td>39.51</td>\n",
       "      <td>34.38</td>\n",
       "      <td>87</td>\n",
       "      <td>55</td>\n",
       "      <td>13.22</td>\n",
       "      <td>RU</td>\n",
       "      <td>1603044086</td>\n",
       "    </tr>\n",
       "    <tr>\n",
       "      <th>5</th>\n",
       "      <td>tasiilaq</td>\n",
       "      <td>65.61</td>\n",
       "      <td>-37.64</td>\n",
       "      <td>33.80</td>\n",
       "      <td>74</td>\n",
       "      <td>29</td>\n",
       "      <td>17.22</td>\n",
       "      <td>GL</td>\n",
       "      <td>1603044086</td>\n",
       "    </tr>\n",
       "    <tr>\n",
       "      <th>7</th>\n",
       "      <td>qaanaaq</td>\n",
       "      <td>77.48</td>\n",
       "      <td>-69.36</td>\n",
       "      <td>32.85</td>\n",
       "      <td>88</td>\n",
       "      <td>96</td>\n",
       "      <td>8.19</td>\n",
       "      <td>GL</td>\n",
       "      <td>1603044087</td>\n",
       "    </tr>\n",
       "  </tbody>\n",
       "</table>\n",
       "</div>"
      ],
      "text/plain": [
       "        City    Lat    Lng  Max Temp  Humidity  Cloudiness  Wind Speed  \\\n",
       "2    sal rei  16.18 -22.92     87.80        70           8        6.93   \n",
       "3     zaranj  30.97  61.88     68.00        18           0       16.11   \n",
       "4  ostrovnoy  68.05  39.51     34.38        87          55       13.22   \n",
       "5   tasiilaq  65.61 -37.64     33.80        74          29       17.22   \n",
       "7    qaanaaq  77.48 -69.36     32.85        88          96        8.19   \n",
       "\n",
       "  Country        Date  \n",
       "2      CV  1603044086  \n",
       "3      AF  1603044086  \n",
       "4      RU  1603044086  \n",
       "5      GL  1603044086  \n",
       "7      GL  1603044087  "
      ]
     },
     "execution_count": 16,
     "metadata": {},
     "output_type": "execute_result"
    }
   ],
   "source": [
    "# I am creating all new data frames for each hemishperes, \n",
    "# since i couldn't figure out how to do it any other way,\n",
    "# but this makes it easier for me, and produces same result\n",
    "northern_df = pd.DataFrame(clean_city_data[clean_city_data.Lat >= 0])\n",
    "# Save the new df as a csv\n",
    "clean_city_data.to_csv(\"../Output_Data/Northern_DF\")\n",
    "\n",
    "northern_df.head()"
   ]
  },
  {
   "cell_type": "code",
   "execution_count": 17,
   "metadata": {},
   "outputs": [
    {
     "data": {
      "text/html": [
       "<div>\n",
       "<style scoped>\n",
       "    .dataframe tbody tr th:only-of-type {\n",
       "        vertical-align: middle;\n",
       "    }\n",
       "\n",
       "    .dataframe tbody tr th {\n",
       "        vertical-align: top;\n",
       "    }\n",
       "\n",
       "    .dataframe thead th {\n",
       "        text-align: right;\n",
       "    }\n",
       "</style>\n",
       "<table border=\"1\" class=\"dataframe\">\n",
       "  <thead>\n",
       "    <tr style=\"text-align: right;\">\n",
       "      <th></th>\n",
       "      <th>City</th>\n",
       "      <th>Lat</th>\n",
       "      <th>Lng</th>\n",
       "      <th>Max Temp</th>\n",
       "      <th>Humidity</th>\n",
       "      <th>Cloudiness</th>\n",
       "      <th>Wind Speed</th>\n",
       "      <th>Country</th>\n",
       "      <th>Date</th>\n",
       "    </tr>\n",
       "  </thead>\n",
       "  <tbody>\n",
       "    <tr>\n",
       "      <th>0</th>\n",
       "      <td>kaputa</td>\n",
       "      <td>-8.47</td>\n",
       "      <td>29.66</td>\n",
       "      <td>80.44</td>\n",
       "      <td>40</td>\n",
       "      <td>2</td>\n",
       "      <td>4.61</td>\n",
       "      <td>ZM</td>\n",
       "      <td>1603044085</td>\n",
       "    </tr>\n",
       "    <tr>\n",
       "      <th>1</th>\n",
       "      <td>busselton</td>\n",
       "      <td>-33.65</td>\n",
       "      <td>115.33</td>\n",
       "      <td>60.01</td>\n",
       "      <td>51</td>\n",
       "      <td>1</td>\n",
       "      <td>8.72</td>\n",
       "      <td>AU</td>\n",
       "      <td>1603044085</td>\n",
       "    </tr>\n",
       "    <tr>\n",
       "      <th>6</th>\n",
       "      <td>hualmay</td>\n",
       "      <td>-11.10</td>\n",
       "      <td>-77.61</td>\n",
       "      <td>68.54</td>\n",
       "      <td>65</td>\n",
       "      <td>49</td>\n",
       "      <td>10.60</td>\n",
       "      <td>PE</td>\n",
       "      <td>1603044087</td>\n",
       "    </tr>\n",
       "    <tr>\n",
       "      <th>8</th>\n",
       "      <td>avarua</td>\n",
       "      <td>-21.21</td>\n",
       "      <td>-159.78</td>\n",
       "      <td>73.40</td>\n",
       "      <td>83</td>\n",
       "      <td>81</td>\n",
       "      <td>5.82</td>\n",
       "      <td>CK</td>\n",
       "      <td>1603044087</td>\n",
       "    </tr>\n",
       "    <tr>\n",
       "      <th>10</th>\n",
       "      <td>esperance</td>\n",
       "      <td>-33.87</td>\n",
       "      <td>121.90</td>\n",
       "      <td>55.40</td>\n",
       "      <td>87</td>\n",
       "      <td>95</td>\n",
       "      <td>10.29</td>\n",
       "      <td>AU</td>\n",
       "      <td>1603044087</td>\n",
       "    </tr>\n",
       "  </tbody>\n",
       "</table>\n",
       "</div>"
      ],
      "text/plain": [
       "         City    Lat     Lng  Max Temp  Humidity  Cloudiness  Wind Speed  \\\n",
       "0      kaputa  -8.47   29.66     80.44        40           2        4.61   \n",
       "1   busselton -33.65  115.33     60.01        51           1        8.72   \n",
       "6     hualmay -11.10  -77.61     68.54        65          49       10.60   \n",
       "8      avarua -21.21 -159.78     73.40        83          81        5.82   \n",
       "10  esperance -33.87  121.90     55.40        87          95       10.29   \n",
       "\n",
       "   Country        Date  \n",
       "0       ZM  1603044085  \n",
       "1       AU  1603044085  \n",
       "6       PE  1603044087  \n",
       "8       CK  1603044087  \n",
       "10      AU  1603044087  "
      ]
     },
     "execution_count": 17,
     "metadata": {},
     "output_type": "execute_result"
    }
   ],
   "source": [
    "southern_df = pd.DataFrame(clean_city_data[clean_city_data.Lat < 0])\n",
    "# Save the new df as a csv\n",
    "clean_city_data.to_csv(\"../Output_Data/Southern_DF\")\n",
    "\n",
    "southern_df.head()"
   ]
  },
  {
   "cell_type": "markdown",
   "metadata": {},
   "source": [
    "####  Northern Hemisphere - Max Temp vs. Latitude Linear Regression"
   ]
  },
  {
   "cell_type": "code",
   "execution_count": 18,
   "metadata": {},
   "outputs": [
    {
     "name": "stdout",
     "output_type": "stream",
     "text": [
      "The r-value is: -0.8781574711970043\n"
     ]
    },
    {
     "data": {
      "image/png": "[encoded data removed]",
      "text/plain": [
       "<Figure size 432x288 with 1 Axes>"
      ]
     },
     "metadata": {
      "needs_background": "light"
     },
     "output_type": "display_data"
    }
   ],
   "source": [
    "x_values = northern_df['Lat']\n",
    "y_values = northern_df['Max Temp']\n",
    "(slope, intercept, rvalue, pvalue, stderr) = linregress(x_values, y_values)\n",
    "regress_values = x_values * slope + intercept\n",
    "line_eq = \"y = \" + str(round(slope,2)) + \"x + \" + str(round(intercept,2))\n",
    "plt.scatter(x_values,y_values)\n",
    "plt.plot(x_values,regress_values,\"r-\")\n",
    "plt.title('Norther Hemisphere-Max Temp vs Latitude Linear Regression')\n",
    "plt.annotate(line_eq,(20,50),fontsize=15,color=\"red\")\n",
    "plt.xlabel('Latitude')\n",
    "plt.ylabel('Max Temp (F)')\n",
    "print(f\"The r-value is: {rvalue}\")\n",
    "plt.savefig(\"../Images/north_temp.png\")\n",
    "plt.show()"
   ]
  },
  {
   "cell_type": "markdown",
   "metadata": {},
   "source": [
    "####  Southern Hemisphere - Max Temp vs. Latitude Linear Regression"
   ]
  },
  {
   "cell_type": "code",
   "execution_count": 19,
   "metadata": {},
   "outputs": [
    {
     "name": "stdout",
     "output_type": "stream",
     "text": [
      "The r-value is: 0.6410867066772257\n"
     ]
    },
    {
     "data": {
      "image/png": "[encoded data removed]",
      "text/plain": [
       "<Figure size 432x288 with 1 Axes>"
      ]
     },
     "metadata": {
      "needs_background": "light"
     },
     "output_type": "display_data"
    }
   ],
   "source": [
    "x_values = southern_df['Lat']\n",
    "y_values = southern_df['Max Temp']\n",
    "(slope, intercept, rvalue, pvalue, stderr) = linregress(x_values, y_values)\n",
    "regress_values = x_values * slope + intercept\n",
    "line_eq = \"y = \" + str(round(slope,2)) + \"x + \" + str(round(intercept,2))\n",
    "plt.scatter(x_values,y_values)\n",
    "plt.plot(x_values,regress_values,\"r-\")\n",
    "plt.title('Southern Hemisphere-Max Temp vs Latitude Linear Regression')\n",
    "plt.annotate(line_eq,(-50,70),fontsize=15,color=\"red\")\n",
    "plt.xlabel('Latitude')\n",
    "plt.ylabel('Max Temp (F)')\n",
    "print(f\"The r-value is: {rvalue}\")\n",
    "plt.savefig(\"../Images/south_temp.png\")\n",
    "plt.show()"
   ]
  },
  {
   "cell_type": "markdown",
   "metadata": {},
   "source": [
    "####  Northern Hemisphere - Humidity (%) vs. Latitude Linear Regression"
   ]
  },
  {
   "cell_type": "code",
   "execution_count": 20,
   "metadata": {},
   "outputs": [
    {
     "name": "stdout",
     "output_type": "stream",
     "text": [
      "The r-value is: 0.3231625581187337\n"
     ]
    },
    {
     "data": {
      "image/png": "[encoded data removed]",
      "text/plain": [
       "<Figure size 432x288 with 1 Axes>"
      ]
     },
     "metadata": {
      "needs_background": "light"
     },
     "output_type": "display_data"
    }
   ],
   "source": [
    "x_values = northern_df['Lat']\n",
    "y_values = northern_df['Humidity']\n",
    "(slope, intercept, rvalue, pvalue, stderr) = linregress(x_values, y_values)\n",
    "regress_values = x_values * slope + intercept\n",
    "line_eq = \"y = \" + str(round(slope,2)) + \"x + \" + str(round(intercept,2))\n",
    "plt.scatter(x_values,y_values)\n",
    "plt.plot(x_values,regress_values,\"r-\")\n",
    "plt.title('Northern Hemisphere-Humidity vs Latitude Linear Regression')\n",
    "plt.annotate(line_eq,(20,60),fontsize=15,color=\"red\")\n",
    "plt.xlabel('Latitude')\n",
    "plt.ylabel('Humidity (%)')\n",
    "print(f\"The r-value is: {rvalue}\")\n",
    "plt.savefig(\"../Images/north_humid.png\")\n",
    "plt.show()"
   ]
  },
  {
   "cell_type": "markdown",
   "metadata": {},
   "source": [
    "####  Southern Hemisphere - Humidity (%) vs. Latitude Linear Regression"
   ]
  },
  {
   "cell_type": "code",
   "execution_count": 21,
   "metadata": {},
   "outputs": [
    {
     "name": "stdout",
     "output_type": "stream",
     "text": [
      "The r-value is: 0.0564326246065349\n"
     ]
    },
    {
     "data": {
      "image/png": "[encoded data removed]",
      "text/plain": [
       "<Figure size 432x288 with 1 Axes>"
      ]
     },
     "metadata": {
      "needs_background": "light"
     },
     "output_type": "display_data"
    }
   ],
   "source": [
    "x_values = southern_df['Lat']\n",
    "y_values = southern_df['Humidity']\n",
    "(slope, intercept, rvalue, pvalue, stderr) = linregress(x_values, y_values)\n",
    "regress_values = x_values * slope + intercept\n",
    "line_eq = \"y = \" + str(round(slope,2)) + \"x + \" + str(round(intercept,2))\n",
    "plt.scatter(x_values,y_values)\n",
    "plt.plot(x_values,regress_values,\"r-\")\n",
    "plt.title('Southern Hemisphere-Humidity vs Latitude Linear Regression')\n",
    "plt.annotate(line_eq,(-30,60),fontsize=15,color=\"red\")\n",
    "plt.xlabel('Latitude')\n",
    "plt.ylabel('Humidity (%)')\n",
    "print(f\"The r-value is: {rvalue}\")\n",
    "plt.savefig(\"../Images/south_humid.png\")\n",
    "plt.show()"
   ]
  },
  {
   "cell_type": "markdown",
   "metadata": {},
   "source": [
    "####  Northern Hemisphere - Cloudiness (%) vs. Latitude Linear Regression"
   ]
  },
  {
   "cell_type": "code",
   "execution_count": 22,
   "metadata": {},
   "outputs": [
    {
     "name": "stdout",
     "output_type": "stream",
     "text": [
      "The r-value is: 0.17810406128156617\n"
     ]
    },
    {
     "data": {
      "image/png": "[encoded data removed]",
      "text/plain": [
       "<Figure size 432x288 with 1 Axes>"
      ]
     },
     "metadata": {
      "needs_background": "light"
     },
     "output_type": "display_data"
    }
   ],
   "source": [
    "x_values = northern_df['Lat']\n",
    "y_values = northern_df['Cloudiness']\n",
    "(slope, intercept, rvalue, pvalue, stderr) = linregress(x_values, y_values)\n",
    "regress_values = x_values * slope + intercept\n",
    "line_eq = \"y = \" + str(round(slope,2)) + \"x + \" + str(round(intercept,2))\n",
    "plt.scatter(x_values,y_values)\n",
    "plt.plot(x_values,regress_values,\"r-\")\n",
    "plt.title('Northern Hemisphere-Cloudiness vs Latitude Linear Regression')\n",
    "plt.annotate(line_eq,(40,60),fontsize=15,color=\"red\")\n",
    "plt.xlabel('Latitude')\n",
    "plt.ylabel('Cloudiness (%)')\n",
    "print(f\"The r-value is: {rvalue}\")\n",
    "plt.savefig(\"../Images/north_cloud.png\")\n",
    "plt.show()"
   ]
  },
  {
   "cell_type": "markdown",
   "metadata": {},
   "source": [
    "####  Southern Hemisphere - Cloudiness (%) vs. Latitude Linear Regression"
   ]
  },
  {
   "cell_type": "code",
   "execution_count": 23,
   "metadata": {},
   "outputs": [
    {
     "name": "stdout",
     "output_type": "stream",
     "text": [
      "The r-value is: 0.12630361208759391\n"
     ]
    },
    {
     "data": {
      "image/png": "[encoded data removed]",
      "text/plain": [
       "<Figure size 432x288 with 1 Axes>"
      ]
     },
     "metadata": {
      "needs_background": "light"
     },
     "output_type": "display_data"
    }
   ],
   "source": [
    "x_values = southern_df['Lat']\n",
    "y_values = southern_df['Cloudiness']\n",
    "(slope, intercept, rvalue, pvalue, stderr) = linregress(x_values, y_values)\n",
    "regress_values = x_values * slope + intercept\n",
    "line_eq = \"y = \" + str(round(slope,2)) + \"x + \" + str(round(intercept,2))\n",
    "plt.scatter(x_values,y_values)\n",
    "plt.plot(x_values,regress_values,\"r-\")\n",
    "plt.title('Southern Hemisphere-Cloudiness vs Latitude Linear Regression')\n",
    "plt.annotate(line_eq,(-30,60),fontsize=15,color=\"red\")\n",
    "plt.xlabel('Latitude')\n",
    "plt.ylabel('Cloudiness (%)')\n",
    "print(f\"The r-value is: {rvalue}\")\n",
    "plt.savefig(\"../Images/south_cloud.png\")\n",
    "plt.show()"
   ]
  },
  {
   "cell_type": "markdown",
   "metadata": {},
   "source": [
    "####  Northern Hemisphere - Wind Speed (mph) vs. Latitude Linear Regression"
   ]
  },
  {
   "cell_type": "code",
   "execution_count": 24,
   "metadata": {},
   "outputs": [
    {
     "name": "stdout",
     "output_type": "stream",
     "text": [
      "The r-value is: 0.08768483369981417\n"
     ]
    },
    {
     "data": {
      "image/png": "[encoded data removed]",
      "text/plain": [
       "<Figure size 432x288 with 1 Axes>"
      ]
     },
     "metadata": {
      "needs_background": "light"
     },
     "output_type": "display_data"
    }
   ],
   "source": [
    "x_values = northern_df['Lat']\n",
    "y_values = northern_df['Wind Speed']\n",
    "(slope, intercept, rvalue, pvalue, stderr) = linregress(x_values, y_values)\n",
    "regress_values = x_values * slope + intercept\n",
    "line_eq = \"y = \" + str(round(slope,2)) + \"x + \" + str(round(intercept,2))\n",
    "plt.scatter(x_values,y_values)\n",
    "plt.plot(x_values,regress_values,\"r-\")\n",
    "plt.title('Northern Hemisphere-Wind Speed vs Latitude Linear Regression')\n",
    "plt.annotate(line_eq,(40,20),fontsize=15,color=\"red\")\n",
    "plt.xlabel('Latitude')\n",
    "plt.ylabel('Wind Speed (MPH)')\n",
    "print(f\"The r-value is: {rvalue}\")\n",
    "plt.savefig(\"../Images/north_wind.png\")\n",
    "plt.show()"
   ]
  },
  {
   "cell_type": "markdown",
   "metadata": {},
   "source": [
    "####  Southern Hemisphere - Wind Speed (mph) vs. Latitude Linear Regression"
   ]
  },
  {
   "cell_type": "code",
   "execution_count": 25,
   "metadata": {},
   "outputs": [
    {
     "name": "stdout",
     "output_type": "stream",
     "text": [
      "The r-value is: -0.13613288423236525\n"
     ]
    },
    {
     "data": {
      "image/png": "[encoded data removed]",
      "text/plain": [
       "<Figure size 432x288 with 1 Axes>"
      ]
     },
     "metadata": {
      "needs_background": "light"
     },
     "output_type": "display_data"
    },
    {
     "data": {
      "text/plain": [
       "<Figure size 432x288 with 0 Axes>"
      ]
     },
     "metadata": {},
     "output_type": "display_data"
    }
   ],
   "source": [
    "x_values = southern_df['Lat']\n",
    "y_values = southern_df['Wind Speed']\n",
    "(slope, intercept, rvalue, pvalue, stderr) = linregress(x_values, y_values)\n",
    "regress_values = x_values * slope + intercept\n",
    "line_eq = \"y = \" + str(round(slope,2)) + \"x + \" + str(round(intercept,2))\n",
    "plt.scatter(x_values,y_values)\n",
    "plt.plot(x_values,regress_values,\"r-\")\n",
    "plt.title('Southern Hemisphere-Wind Speed vs Latitude Linear Regression')\n",
    "plt.annotate(line_eq,(-30,15),fontsize=15,color=\"red\")\n",
    "plt.xlabel('Latitude')\n",
    "plt.ylabel('Wind Speed (MPH)')\n",
    "print(f\"The r-value is: {rvalue}\")\n",
    "plt.show()\n",
    "plt.savefig(\"../Images/south_wind.png\")"
   ]
  },
  {
   "cell_type": "code",
   "execution_count": null,
   "metadata": {},
   "outputs": [],
   "source": []
  }
 ],
 "metadata": {
  "anaconda-cloud": {},
  "kernel_info": {
   "name": "python3"
  },
  "kernelspec": {
   "display_name": "Python 3",
   "language": "python",
   "name": "python3"
  },
  "language_info": {
   "codemirror_mode": {
    "name": "ipython",
    "version": 3
   },
   "file_extension": ".py",
   "mimetype": "text/x-python",
   "name": "python",
   "nbconvert_exporter": "python",
   "pygments_lexer": "ipython3",
   "version": "3.8.5"
  },
  "latex_envs": {
   "LaTeX_envs_menu_present": true,
   "autoclose": false,
   "autocomplete": true,
   "bibliofile": "biblio.bib",
   "cite_by": "apalike",
   "current_citInitial": 1,
   "eqLabelWithNumbers": true,
   "eqNumInitial": 1,
   "hotkeys": {
    "equation": "Ctrl-E",
    "itemize": "Ctrl-I"
   },
   "labels_anchors": false,
   "latex_user_defs": false,
   "report_style_numbering": false,
   "user_envs_cfg": false
  },
  "nteract": {
   "version": "0.12.3"
  }
 },
 "nbformat": 4,
 "nbformat_minor": 2
}
